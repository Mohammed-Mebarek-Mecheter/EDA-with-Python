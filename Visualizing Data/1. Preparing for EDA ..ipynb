{
 "cells": [
  {
   "cell_type": "markdown",
   "id": "2dbc33b1",
   "metadata": {},
   "source": [
    "#### Import relevant libraries"
   ]
  },
  {
   "cell_type": "code",
   "execution_count": 1,
   "id": "0ae67507",
   "metadata": {
    "ExecuteTime": {
     "end_time": "2023-08-11T18:31:48.463810300Z",
     "start_time": "2023-08-11T18:31:35.389576700Z"
    }
   },
   "outputs": [],
   "source": [
    "import pandas as pd"
   ]
  },
  {
   "cell_type": "markdown",
   "id": "a2050fe1",
   "metadata": {},
   "source": [
    "#### Load dataset"
   ]
  },
  {
   "cell_type": "code",
   "execution_count": 2,
   "id": "3a02fac1",
   "metadata": {
    "ExecuteTime": {
     "end_time": "2023-08-11T18:31:48.465809800Z",
     "start_time": "2023-08-11T18:31:35.390576100Z"
    }
   },
   "outputs": [],
   "source": [
    "houseprices_data = pd.read_csv(\"data/HousingPricesData.csv\")"
   ]
  },
  {
   "cell_type": "markdown",
   "id": "e81aa501",
   "metadata": {},
   "source": [
    "#### Subset for relevant columns"
   ]
  },
  {
   "cell_type": "code",
   "execution_count": 3,
   "id": "9279d462",
   "metadata": {
    "ExecuteTime": {
     "end_time": "2023-08-11T18:31:48.466808800Z",
     "start_time": "2023-08-11T18:31:35.392575600Z"
    }
   },
   "outputs": [],
   "source": [
    "houseprices_data = houseprices_data[['Zip', 'Price', 'Area', 'Room']]"
   ]
  },
  {
   "cell_type": "markdown",
   "id": "128c9ecd",
   "metadata": {},
   "source": [
    "#### Inspect first 2 rows and data types of the dataset"
   ]
  },
  {
   "cell_type": "code",
   "execution_count": 4,
   "id": "1f556097",
   "metadata": {
    "scrolled": true,
    "ExecuteTime": {
     "end_time": "2023-08-11T18:31:48.499827800Z",
     "start_time": "2023-08-11T18:31:35.392575600Z"
    }
   },
   "outputs": [
    {
     "data": {
      "text/plain": "       Zip     Price  Area  Room\n0  1091 CR  685000.0    64     3\n1  1059 EL  475000.0    60     3\n2  1097 SM  850000.0   109     4\n3  1060 TH  580000.0   128     6\n4  1036 KN  720000.0   138     5",
      "text/html": "<div>\n<style scoped>\n    .dataframe tbody tr th:only-of-type {\n        vertical-align: middle;\n    }\n\n    .dataframe tbody tr th {\n        vertical-align: top;\n    }\n\n    .dataframe thead th {\n        text-align: right;\n    }\n</style>\n<table border=\"1\" class=\"dataframe\">\n  <thead>\n    <tr style=\"text-align: right;\">\n      <th></th>\n      <th>Zip</th>\n      <th>Price</th>\n      <th>Area</th>\n      <th>Room</th>\n    </tr>\n  </thead>\n  <tbody>\n    <tr>\n      <th>0</th>\n      <td>1091 CR</td>\n      <td>685000.0</td>\n      <td>64</td>\n      <td>3</td>\n    </tr>\n    <tr>\n      <th>1</th>\n      <td>1059 EL</td>\n      <td>475000.0</td>\n      <td>60</td>\n      <td>3</td>\n    </tr>\n    <tr>\n      <th>2</th>\n      <td>1097 SM</td>\n      <td>850000.0</td>\n      <td>109</td>\n      <td>4</td>\n    </tr>\n    <tr>\n      <th>3</th>\n      <td>1060 TH</td>\n      <td>580000.0</td>\n      <td>128</td>\n      <td>6</td>\n    </tr>\n    <tr>\n      <th>4</th>\n      <td>1036 KN</td>\n      <td>720000.0</td>\n      <td>138</td>\n      <td>5</td>\n    </tr>\n  </tbody>\n</table>\n</div>"
     },
     "execution_count": 4,
     "metadata": {},
     "output_type": "execute_result"
    }
   ],
   "source": [
    "houseprices_data.head()"
   ]
  },
  {
   "cell_type": "code",
   "execution_count": 5,
   "id": "bdf17c4b",
   "metadata": {
    "ExecuteTime": {
     "end_time": "2023-08-11T18:31:48.505849600Z",
     "start_time": "2023-08-11T18:31:35.393575200Z"
    }
   },
   "outputs": [
    {
     "data": {
      "text/plain": "(924, 4)"
     },
     "execution_count": 5,
     "metadata": {},
     "output_type": "execute_result"
    }
   ],
   "source": [
    "houseprices_data.shape"
   ]
  },
  {
   "cell_type": "code",
   "execution_count": 6,
   "id": "b3601b62",
   "metadata": {
    "ExecuteTime": {
     "end_time": "2023-08-11T18:31:48.507848400Z",
     "start_time": "2023-08-11T18:31:35.395574600Z"
    }
   },
   "outputs": [
    {
     "data": {
      "text/plain": "Zip       object\nPrice    float64\nArea       int64\nRoom       int64\ndtype: object"
     },
     "execution_count": 6,
     "metadata": {},
     "output_type": "execute_result"
    }
   ],
   "source": [
    "houseprices_data.dtypes"
   ]
  },
  {
   "cell_type": "markdown",
   "id": "09bbdf22",
   "metadata": {},
   "source": [
    "#### Create a price per sqm variable based on the price and area variables"
   ]
  },
  {
   "cell_type": "code",
   "execution_count": 7,
   "id": "60b95d7c",
   "metadata": {
    "ExecuteTime": {
     "end_time": "2023-08-11T18:31:48.507848400Z",
     "start_time": "2023-08-11T18:31:35.396572700Z"
    }
   },
   "outputs": [],
   "source": [
    "houseprices_data['PriceperSqm'] = houseprices_data['Price']/houseprices_data['Area']"
   ]
  },
  {
   "cell_type": "code",
   "execution_count": 8,
   "id": "cf89a96b",
   "metadata": {
    "ExecuteTime": {
     "end_time": "2023-08-11T18:31:48.794818900Z",
     "start_time": "2023-08-11T18:31:40.124006900Z"
    }
   },
   "outputs": [
    {
     "data": {
      "text/plain": "       Zip     Price  Area  Room   PriceperSqm\n0  1091 CR  685000.0    64     3  10703.125000\n1  1059 EL  475000.0    60     3   7916.666667\n2  1097 SM  850000.0   109     4   7798.165138\n3  1060 TH  580000.0   128     6   4531.250000\n4  1036 KN  720000.0   138     5   5217.391304",
      "text/html": "<div>\n<style scoped>\n    .dataframe tbody tr th:only-of-type {\n        vertical-align: middle;\n    }\n\n    .dataframe tbody tr th {\n        vertical-align: top;\n    }\n\n    .dataframe thead th {\n        text-align: right;\n    }\n</style>\n<table border=\"1\" class=\"dataframe\">\n  <thead>\n    <tr style=\"text-align: right;\">\n      <th></th>\n      <th>Zip</th>\n      <th>Price</th>\n      <th>Area</th>\n      <th>Room</th>\n      <th>PriceperSqm</th>\n    </tr>\n  </thead>\n  <tbody>\n    <tr>\n      <th>0</th>\n      <td>1091 CR</td>\n      <td>685000.0</td>\n      <td>64</td>\n      <td>3</td>\n      <td>10703.125000</td>\n    </tr>\n    <tr>\n      <th>1</th>\n      <td>1059 EL</td>\n      <td>475000.0</td>\n      <td>60</td>\n      <td>3</td>\n      <td>7916.666667</td>\n    </tr>\n    <tr>\n      <th>2</th>\n      <td>1097 SM</td>\n      <td>850000.0</td>\n      <td>109</td>\n      <td>4</td>\n      <td>7798.165138</td>\n    </tr>\n    <tr>\n      <th>3</th>\n      <td>1060 TH</td>\n      <td>580000.0</td>\n      <td>128</td>\n      <td>6</td>\n      <td>4531.250000</td>\n    </tr>\n    <tr>\n      <th>4</th>\n      <td>1036 KN</td>\n      <td>720000.0</td>\n      <td>138</td>\n      <td>5</td>\n      <td>5217.391304</td>\n    </tr>\n  </tbody>\n</table>\n</div>"
     },
     "execution_count": 8,
     "metadata": {},
     "output_type": "execute_result"
    }
   ],
   "source": [
    "houseprices_data.head()"
   ]
  }
 ],
 "metadata": {
  "kernelspec": {
   "display_name": "Python 3",
   "language": "python",
   "name": "python3"
  },
  "language_info": {
   "codemirror_mode": {
    "name": "ipython",
    "version": 3
   },
   "file_extension": ".py",
   "mimetype": "text/x-python",
   "name": "python",
   "nbconvert_exporter": "python",
   "pygments_lexer": "ipython3",
   "version": "3.7.1"
  }
 },
 "nbformat": 4,
 "nbformat_minor": 5
}
