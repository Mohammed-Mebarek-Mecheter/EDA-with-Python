{
 "nbformat": 4,
 "nbformat_minor": 0,
 "metadata": {
  "colab": {
   "name": "Numpy and Pandas.ipynb",
   "provenance": [],
   "collapsed_sections": []
  },
  "kernelspec": {
   "name": "python3",
   "language": "python",
   "display_name": "Python 3 (ipykernel)"
  }
 },
 "cells": [
  {
   "cell_type": "markdown",
   "metadata": {
    "id": "EgrClAlpC8s-",
    "colab_type": "text"
   },
   "source": [
    "# Python Basic operations"
   ]
  },
  {
   "cell_type": "code",
   "metadata": {
    "id": "ZuQjJSf9C0ko",
    "colab_type": "code",
    "colab": {
     "base_uri": "https://localhost:8080/",
     "height": 34
    },
    "outputId": "0289376d-5b39-4737-9ea4-c0e8897fc8f3",
    "ExecuteTime": {
     "end_time": "2023-07-20T09:11:44.816927200Z",
     "start_time": "2023-07-20T09:11:44.791940600Z"
    }
   },
   "source": [
    "class Disease:\n",
    "  def __init__(self, disease = 'Depression'):\n",
    "    self.type = disease\n",
    "    \n",
    "  def getName(self):\n",
    "    print(\"Mental Health Diseases: {0}\".format(self.type))\n",
    "\n",
    "d1 = Disease('Social Anxiety Disorder')\n",
    "d1.getName()"
   ],
   "execution_count": 1,
   "outputs": [
    {
     "name": "stdout",
     "output_type": "stream",
     "text": [
      "Mental Health Diseases: Social Anxiety Disorder\n"
     ]
    }
   ]
  },
  {
   "cell_type": "code",
   "metadata": {
    "id": "kTyrcThEDCIU",
    "colab_type": "code",
    "colab": {
     "base_uri": "https://localhost:8080/",
     "height": 34
    },
    "outputId": "65d7db92-cd4f-448b-bb59-a1cd1a011845",
    "ExecuteTime": {
     "end_time": "2023-07-20T09:11:45.326634500Z",
     "start_time": "2023-07-20T09:11:45.316639500Z"
    }
   },
   "source": [
    "# Try Catch Block\n",
    "# The try block will generate a NameError, because x is not defined:\n",
    "\n",
    "try:\n",
    "  print(y)\n",
    "except NameError:\n",
    "  print(\"Well, the variable y is not defined\")\n",
    "except:\n",
    "  print(\"OMG, Something else went wrong\")\n"
   ],
   "execution_count": 2,
   "outputs": [
    {
     "name": "stdout",
     "output_type": "stream",
     "text": [
      "Well, the variable y is not defined\n"
     ]
    }
   ]
  },
  {
   "cell_type": "code",
   "metadata": {
    "id": "iGbKigYzD4rM",
    "colab_type": "code",
    "colab": {
     "base_uri": "https://localhost:8080/",
     "height": 51
    },
    "outputId": "c1270b91-ce4b-42b2-b8f0-53edf3c0e7b6",
    "ExecuteTime": {
     "end_time": "2023-07-20T09:11:55.034069900Z",
     "start_time": "2023-07-20T09:11:45.327633900Z"
    }
   },
   "source": [
    "\n",
    "try:\n",
    " Value = int(input(\"Type a number between 1 and 10:\"))\n",
    "except ValueError:\n",
    "  print(\"You must type a number between 1 and 10!\")\n",
    "else:\n",
    "  if (Value > 0) and (Value <= 10):\n",
    "      print(\"You typed: \", Value)\n",
    "  else:\n",
    "      print(\"The value you typed is incorrect!\")\n"
   ],
   "execution_count": 3,
   "outputs": [
    {
     "name": "stdout",
     "output_type": "stream",
     "text": [
      "You typed:  9\n"
     ]
    }
   ]
  },
  {
   "cell_type": "markdown",
   "metadata": {
    "id": "xNPYSP_aDxgz",
    "colab_type": "text"
   },
   "source": [
    "# Numpy Array Basics"
   ]
  },
  {
   "cell_type": "code",
   "metadata": {
    "id": "GVMckxhaDsrH",
    "colab_type": "code",
    "outputId": "e2a06eb3-b689-4e96-e66c-aefb8f740a53",
    "colab": {
     "base_uri": "https://localhost:8080/",
     "height": 170
    },
    "ExecuteTime": {
     "end_time": "2023-07-20T09:11:55.080044100Z",
     "start_time": "2023-07-20T09:11:54.805201100Z"
    }
   },
   "source": [
    "# importing numpy\n",
    "import numpy as np\n",
    "\n",
    "# Defining 1D array\n",
    "my1DArray = np.array([1, 8, 27, 64])\n",
    "print(my1DArray)\n",
    "\n",
    "# Defining and printing 2D array\n",
    "my2DArray = np.array([[1, 2, 3, 4], [2, 4, 9, 16], [4, 8, 18, 32]])\n",
    "print(my2DArray)\n",
    "\n",
    "#Defining and printing 3D array\n",
    "my3Darray = np.array([[[ 1, 2 , 3 , 4],[ 5 , 6 , 7  ,8]], [[ 1,  2,  3,  4],[ 9, 10, 11, 12]]])\n",
    "print(my3Darray)\n",
    "\n"
   ],
   "execution_count": 4,
   "outputs": [
    {
     "name": "stdout",
     "output_type": "stream",
     "text": [
      "[ 1  8 27 64]\n",
      "[[ 1  2  3  4]\n",
      " [ 2  4  9 16]\n",
      " [ 4  8 18 32]]\n",
      "[[[ 1  2  3  4]\n",
      "  [ 5  6  7  8]]\n",
      "\n",
      " [[ 1  2  3  4]\n",
      "  [ 9 10 11 12]]]\n"
     ]
    }
   ]
  },
  {
   "cell_type": "code",
   "metadata": {
    "id": "FOHcYUkkF2u-",
    "colab_type": "code",
    "outputId": "a504d500-aeb6-40cc-aa63-0590900b2a77",
    "colab": {
     "base_uri": "https://localhost:8080/",
     "height": 85
    },
    "ExecuteTime": {
     "end_time": "2023-07-20T09:11:55.282927400Z",
     "start_time": "2023-07-20T09:11:54.839181200Z"
    }
   },
   "source": [
    "# Print out memory address\n",
    "print(my2DArray.data)\n",
    "\n",
    "# Print the shape of array\n",
    "print(my2DArray.shape)\n",
    "\n",
    "# Print out the data type of the array\n",
    "print(my2DArray.dtype)\n",
    "\n",
    "\"\"\"\n",
    "Print the stride of the array.\n",
    "\"\"\"\n",
    "print(my2DArray.strides)"
   ],
   "execution_count": 5,
   "outputs": [
    {
     "name": "stdout",
     "output_type": "stream",
     "text": [
      "<memory at 0x000000000D33B850>\n",
      "(3, 4)\n",
      "int32\n",
      "(16, 4)\n"
     ]
    }
   ]
  },
  {
   "cell_type": "markdown",
   "metadata": {
    "id": "_tan6CTdpvH3",
    "colab_type": "text"
   },
   "source": [
    "# Array using numpy built-in functions"
   ]
  },
  {
   "cell_type": "code",
   "metadata": {
    "id": "hXg80w6Wpsqd",
    "colab_type": "code",
    "outputId": "c19ade55-5dcd-4477-c7bb-f57e566d6cd4",
    "colab": {
     "base_uri": "https://localhost:8080/",
     "height": 306
    },
    "ExecuteTime": {
     "end_time": "2023-07-20T09:11:55.284926500Z",
     "start_time": "2023-07-20T09:11:55.047063700Z"
    }
   },
   "source": [
    "# Array of ones\n",
    "ones = np.ones((3,4))\n",
    "print(ones)\n",
    "\n",
    "# Array of zeros\n",
    "zeros = np.zeros((2,3,4),dtype=np.int16)\n",
    "print(zeros)\n",
    "\n",
    "# Array with random values\n",
    "np.random.random((2,2))\n",
    "\n",
    "# Empty array\n",
    "emptyArray = np.empty((3,2))\n",
    "print(emptyArray)\n",
    "\n",
    "# Full array\n",
    "fullArray = np.full((2,2),7)\n",
    "print(fullArray)\n",
    "\n",
    "# Array of evenly-spaced values\n",
    "evenSpacedArray = np.arange(10,25,5)\n",
    "print(evenSpacedArray)\n",
    "\n",
    "# Array of evenly-spaced values\n",
    "evenSpacedArray2 = np.linspace(0,2,9)\n",
    "print(evenSpacedArray2)"
   ],
   "execution_count": 6,
   "outputs": [
    {
     "name": "stdout",
     "output_type": "stream",
     "text": [
      "[[1. 1. 1. 1.]\n",
      " [1. 1. 1. 1.]\n",
      " [1. 1. 1. 1.]]\n",
      "[[[0 0 0 0]\n",
      "  [0 0 0 0]\n",
      "  [0 0 0 0]]\n",
      "\n",
      " [[0 0 0 0]\n",
      "  [0 0 0 0]\n",
      "  [0 0 0 0]]]\n",
      "[[0. 0.]\n",
      " [0. 0.]\n",
      " [0. 0.]]\n",
      "[[7 7]\n",
      " [7 7]]\n",
      "[10 15 20]\n",
      "[0.   0.25 0.5  0.75 1.   1.25 1.5  1.75 2.  ]\n"
     ]
    }
   ]
  },
  {
   "cell_type": "markdown",
   "metadata": {
    "id": "0VMNmT2BqjtF",
    "colab_type": "text"
   },
   "source": [
    "# Numpy array and file operations"
   ]
  },
  {
   "cell_type": "code",
   "metadata": {
    "id": "87k4xazaqeD7",
    "colab_type": "code",
    "outputId": "37d23b09-4830-4330-c115-73a0cf87f0bd",
    "colab": {
     "base_uri": "https://localhost:8080/",
     "height": 139
    },
    "ExecuteTime": {
     "end_time": "2023-07-20T09:11:55.489809200Z",
     "start_time": "2023-07-20T09:11:55.098034700Z"
    }
   },
   "source": [
    "# Save a numpy array into file\n",
    "x = np.arange(0.0,50.0,1.0)\n",
    "np.savetxt('data.out', x, delimiter=',')\n",
    "\n",
    "# Loading numpy array from text\n",
    "z = np.loadtxt('data.out', unpack=True)\n",
    "print(z)\n",
    "\n",
    "# Loading numpy array using genfromtxt method\n",
    "my_array2 = np.genfromtxt('data.out',\n",
    "                      skip_header=1,\n",
    "                      filling_values=-999)\n",
    "print(my_array2)"
   ],
   "execution_count": 7,
   "outputs": [
    {
     "name": "stdout",
     "output_type": "stream",
     "text": [
      "[ 0.  1.  2.  3.  4.  5.  6.  7.  8.  9. 10. 11. 12. 13. 14. 15. 16. 17.\n",
      " 18. 19. 20. 21. 22. 23. 24. 25. 26. 27. 28. 29. 30. 31. 32. 33. 34. 35.\n",
      " 36. 37. 38. 39. 40. 41. 42. 43. 44. 45. 46. 47. 48. 49.]\n",
      "[ 1.  2.  3.  4.  5.  6.  7.  8.  9. 10. 11. 12. 13. 14. 15. 16. 17. 18.\n",
      " 19. 20. 21. 22. 23. 24. 25. 26. 27. 28. 29. 30. 31. 32. 33. 34. 35. 36.\n",
      " 37. 38. 39. 40. 41. 42. 43. 44. 45. 46. 47. 48. 49.]\n"
     ]
    }
   ]
  },
  {
   "cell_type": "markdown",
   "metadata": {
    "id": "laHX9HM7rd_h",
    "colab_type": "text"
   },
   "source": [
    "# Inspecting numpy arrays\n"
   ]
  },
  {
   "cell_type": "code",
   "metadata": {
    "id": "hus66cO8rlm6",
    "colab_type": "code",
    "outputId": "8944dcdd-e851-4d07-bac7-4b11b1539b27",
    "colab": {
     "base_uri": "https://localhost:8080/",
     "height": 204
    },
    "ExecuteTime": {
     "end_time": "2023-07-20T09:11:57.528642900Z",
     "start_time": "2023-07-20T09:11:57.333752300Z"
    }
   },
   "source": [
    "# Print the number of `my2DArray`'s dimensions\n",
    "print(my2DArray.ndim)\n",
    "\n",
    "# Print the number of `my2DArray`'s elements\n",
    "print(my2DArray.size)\n",
    "\n",
    "# Print information about `my2DArray`'s memory layout\n",
    "print(my2DArray.flags)\n",
    "\n",
    "# Print the length of one array element in bytes\n",
    "print(my2DArray.itemsize)\n",
    "\n",
    "# Print the total consumed bytes by `my2DArray`'s elements\n",
    "print(my2DArray.nbytes)"
   ],
   "execution_count": 8,
   "outputs": [
    {
     "name": "stdout",
     "output_type": "stream",
     "text": [
      "2\n",
      "12\n",
      "  C_CONTIGUOUS : True\n",
      "  F_CONTIGUOUS : False\n",
      "  OWNDATA : True\n",
      "  WRITEABLE : True\n",
      "  ALIGNED : True\n",
      "  WRITEBACKIFCOPY : False\n",
      "\n",
      "4\n",
      "48\n"
     ]
    }
   ]
  },
  {
   "cell_type": "markdown",
   "metadata": {
    "id": "IDr89W2wsHxj",
    "colab_type": "text"
   },
   "source": [
    "# Broadcasting in NumPy\n",
    "Broadcasting is a mechanism that permits `NumPy` to operate with arrays of different shapes when performing arithmetic operations. "
   ]
  },
  {
   "cell_type": "code",
   "metadata": {
    "id": "3YfESrnBr4Vz",
    "colab_type": "code",
    "outputId": "fdf4cae0-2c0e-4ced-b73f-d295bf9d6234",
    "colab": {
     "base_uri": "https://localhost:8080/",
     "height": 255
    },
    "ExecuteTime": {
     "end_time": "2023-07-20T09:11:57.536636100Z",
     "start_time": "2023-07-20T09:11:57.337750600Z"
    }
   },
   "source": [
    "# Rule 1: Two dimensions are operatable if they are equal\n",
    "# Create an array of two dimension\n",
    "A =np.ones((6, 8))\n",
    "\n",
    "# Shape of A\n",
    "print(A.shape)\n",
    "\n",
    "# Create another array\n",
    "B = np.random.random((6,8))\n",
    "\n",
    "# Shape of B\n",
    "print(B.shape)\n",
    "\n",
    "# Sum of A and B, here the shape of both the matrix is same.\n",
    "print(A + B)"
   ],
   "execution_count": 9,
   "outputs": [
    {
     "name": "stdout",
     "output_type": "stream",
     "text": [
      "(6, 8)\n",
      "(6, 8)\n",
      "[[1.86289601 1.23668162 1.33060521 1.38682421 1.03066582 1.56720898\n",
      "  1.90205832 1.39197407]\n",
      " [1.5859597  1.64457251 1.59909609 1.27169491 1.41839131 1.3399213\n",
      "  1.12941013 1.03447244]\n",
      " [1.05455241 1.61889095 1.19369572 1.88704496 1.1772413  1.57232648\n",
      "  1.44260481 1.27538183]\n",
      " [1.77673202 1.16109795 1.96493895 1.8371632  1.89341184 1.29595306\n",
      "  1.55246999 1.75239764]\n",
      " [1.93195883 1.10612401 1.81148644 1.77853932 1.94262209 1.55123634\n",
      "  1.99795945 1.29331188]\n",
      " [1.43779039 1.2551898  1.10990184 1.31275537 1.81184724 1.80178623\n",
      "  1.96521838 1.73833745]]\n"
     ]
    }
   ]
  },
  {
   "cell_type": "code",
   "metadata": {
    "id": "_Q2kSDgrtOYa",
    "colab_type": "code",
    "outputId": "1c03730e-e563-4ba4-d80b-fc4b8b185e02",
    "colab": {
     "base_uri": "https://localhost:8080/",
     "height": 170
    },
    "ExecuteTime": {
     "end_time": "2023-07-20T09:11:57.735521100Z",
     "start_time": "2023-07-20T09:11:57.338752100Z"
    }
   },
   "source": [
    "# Rule 2: Two dimensions are also comptable when one of them is 1\n",
    "# Initialize `x`\n",
    "x = np.ones((3,4))\n",
    "print(x)\n",
    "\n",
    "# Check shape of `x`\n",
    "print(x.shape)\n",
    "\n",
    "# Initialize `y`\n",
    "y = np.arange(4)\n",
    "print(y)\n",
    "\n",
    "# Check shape of `y`\n",
    "print(y.shape)\n",
    "\n",
    "# Subtract `x` and `y`\n",
    "x - y "
   ],
   "execution_count": 10,
   "outputs": [
    {
     "name": "stdout",
     "output_type": "stream",
     "text": [
      "[[1. 1. 1. 1.]\n",
      " [1. 1. 1. 1.]\n",
      " [1. 1. 1. 1.]]\n",
      "(3, 4)\n",
      "[0 1 2 3]\n",
      "(4,)\n"
     ]
    },
    {
     "data": {
      "text/plain": "array([[ 1.,  0., -1., -2.],\n       [ 1.,  0., -1., -2.],\n       [ 1.,  0., -1., -2.]])"
     },
     "execution_count": 10,
     "metadata": {},
     "output_type": "execute_result"
    }
   ]
  },
  {
   "cell_type": "code",
   "metadata": {
    "id": "qiHoL40gu4Kb",
    "colab_type": "code",
    "outputId": "b30df0c7-ff47-4a27-a347-13835a4f7c11",
    "colab": {
     "base_uri": "https://localhost:8080/",
     "height": 1000
    },
    "ExecuteTime": {
     "end_time": "2023-07-20T09:11:57.738519300Z",
     "start_time": "2023-07-20T09:11:57.340749900Z"
    }
   },
   "source": [
    "# Rule 3: Arrays can be broadcasted together if they are compatible in all dimensions\n",
    "\n",
    "x = np.ones((6,8))\n",
    "y = np.random.random((10, 1, 8))\n",
    "print(x + y)\n"
   ],
   "execution_count": 11,
   "outputs": [
    {
     "name": "stdout",
     "output_type": "stream",
     "text": [
      "[[[1.63697632 1.864261   1.5910648  1.05646408 1.45962819 1.97853759\n",
      "   1.20013973 1.35509892]\n",
      "  [1.63697632 1.864261   1.5910648  1.05646408 1.45962819 1.97853759\n",
      "   1.20013973 1.35509892]\n",
      "  [1.63697632 1.864261   1.5910648  1.05646408 1.45962819 1.97853759\n",
      "   1.20013973 1.35509892]\n",
      "  [1.63697632 1.864261   1.5910648  1.05646408 1.45962819 1.97853759\n",
      "   1.20013973 1.35509892]\n",
      "  [1.63697632 1.864261   1.5910648  1.05646408 1.45962819 1.97853759\n",
      "   1.20013973 1.35509892]\n",
      "  [1.63697632 1.864261   1.5910648  1.05646408 1.45962819 1.97853759\n",
      "   1.20013973 1.35509892]]\n",
      "\n",
      " [[1.26482178 1.58498274 1.55322038 1.8855716  1.0225211  1.37173394\n",
      "   1.6148223  1.47944079]\n",
      "  [1.26482178 1.58498274 1.55322038 1.8855716  1.0225211  1.37173394\n",
      "   1.6148223  1.47944079]\n",
      "  [1.26482178 1.58498274 1.55322038 1.8855716  1.0225211  1.37173394\n",
      "   1.6148223  1.47944079]\n",
      "  [1.26482178 1.58498274 1.55322038 1.8855716  1.0225211  1.37173394\n",
      "   1.6148223  1.47944079]\n",
      "  [1.26482178 1.58498274 1.55322038 1.8855716  1.0225211  1.37173394\n",
      "   1.6148223  1.47944079]\n",
      "  [1.26482178 1.58498274 1.55322038 1.8855716  1.0225211  1.37173394\n",
      "   1.6148223  1.47944079]]\n",
      "\n",
      " [[1.07936108 1.84921231 1.87000086 1.69335405 1.75013905 1.0767477\n",
      "   1.09966986 1.17240424]\n",
      "  [1.07936108 1.84921231 1.87000086 1.69335405 1.75013905 1.0767477\n",
      "   1.09966986 1.17240424]\n",
      "  [1.07936108 1.84921231 1.87000086 1.69335405 1.75013905 1.0767477\n",
      "   1.09966986 1.17240424]\n",
      "  [1.07936108 1.84921231 1.87000086 1.69335405 1.75013905 1.0767477\n",
      "   1.09966986 1.17240424]\n",
      "  [1.07936108 1.84921231 1.87000086 1.69335405 1.75013905 1.0767477\n",
      "   1.09966986 1.17240424]\n",
      "  [1.07936108 1.84921231 1.87000086 1.69335405 1.75013905 1.0767477\n",
      "   1.09966986 1.17240424]]\n",
      "\n",
      " [[1.08340431 1.79083841 1.11480303 1.7127545  1.89071064 1.91560305\n",
      "   1.43914274 1.17681716]\n",
      "  [1.08340431 1.79083841 1.11480303 1.7127545  1.89071064 1.91560305\n",
      "   1.43914274 1.17681716]\n",
      "  [1.08340431 1.79083841 1.11480303 1.7127545  1.89071064 1.91560305\n",
      "   1.43914274 1.17681716]\n",
      "  [1.08340431 1.79083841 1.11480303 1.7127545  1.89071064 1.91560305\n",
      "   1.43914274 1.17681716]\n",
      "  [1.08340431 1.79083841 1.11480303 1.7127545  1.89071064 1.91560305\n",
      "   1.43914274 1.17681716]\n",
      "  [1.08340431 1.79083841 1.11480303 1.7127545  1.89071064 1.91560305\n",
      "   1.43914274 1.17681716]]\n",
      "\n",
      " [[1.83204365 1.53334146 1.24652219 1.27163873 1.9977689  1.49998758\n",
      "   1.47261468 1.44648717]\n",
      "  [1.83204365 1.53334146 1.24652219 1.27163873 1.9977689  1.49998758\n",
      "   1.47261468 1.44648717]\n",
      "  [1.83204365 1.53334146 1.24652219 1.27163873 1.9977689  1.49998758\n",
      "   1.47261468 1.44648717]\n",
      "  [1.83204365 1.53334146 1.24652219 1.27163873 1.9977689  1.49998758\n",
      "   1.47261468 1.44648717]\n",
      "  [1.83204365 1.53334146 1.24652219 1.27163873 1.9977689  1.49998758\n",
      "   1.47261468 1.44648717]\n",
      "  [1.83204365 1.53334146 1.24652219 1.27163873 1.9977689  1.49998758\n",
      "   1.47261468 1.44648717]]\n",
      "\n",
      " [[1.17622182 1.93251068 1.78088075 1.66104946 1.13472517 1.46844987\n",
      "   1.53650787 1.35779451]\n",
      "  [1.17622182 1.93251068 1.78088075 1.66104946 1.13472517 1.46844987\n",
      "   1.53650787 1.35779451]\n",
      "  [1.17622182 1.93251068 1.78088075 1.66104946 1.13472517 1.46844987\n",
      "   1.53650787 1.35779451]\n",
      "  [1.17622182 1.93251068 1.78088075 1.66104946 1.13472517 1.46844987\n",
      "   1.53650787 1.35779451]\n",
      "  [1.17622182 1.93251068 1.78088075 1.66104946 1.13472517 1.46844987\n",
      "   1.53650787 1.35779451]\n",
      "  [1.17622182 1.93251068 1.78088075 1.66104946 1.13472517 1.46844987\n",
      "   1.53650787 1.35779451]]\n",
      "\n",
      " [[1.80125571 1.14475135 1.39850532 1.37633434 1.22821241 1.3824914\n",
      "   1.31253331 1.77655525]\n",
      "  [1.80125571 1.14475135 1.39850532 1.37633434 1.22821241 1.3824914\n",
      "   1.31253331 1.77655525]\n",
      "  [1.80125571 1.14475135 1.39850532 1.37633434 1.22821241 1.3824914\n",
      "   1.31253331 1.77655525]\n",
      "  [1.80125571 1.14475135 1.39850532 1.37633434 1.22821241 1.3824914\n",
      "   1.31253331 1.77655525]\n",
      "  [1.80125571 1.14475135 1.39850532 1.37633434 1.22821241 1.3824914\n",
      "   1.31253331 1.77655525]\n",
      "  [1.80125571 1.14475135 1.39850532 1.37633434 1.22821241 1.3824914\n",
      "   1.31253331 1.77655525]]\n",
      "\n",
      " [[1.42741826 1.65505876 1.10895792 1.26608525 1.32348786 1.29491769\n",
      "   1.35782389 1.04191261]\n",
      "  [1.42741826 1.65505876 1.10895792 1.26608525 1.32348786 1.29491769\n",
      "   1.35782389 1.04191261]\n",
      "  [1.42741826 1.65505876 1.10895792 1.26608525 1.32348786 1.29491769\n",
      "   1.35782389 1.04191261]\n",
      "  [1.42741826 1.65505876 1.10895792 1.26608525 1.32348786 1.29491769\n",
      "   1.35782389 1.04191261]\n",
      "  [1.42741826 1.65505876 1.10895792 1.26608525 1.32348786 1.29491769\n",
      "   1.35782389 1.04191261]\n",
      "  [1.42741826 1.65505876 1.10895792 1.26608525 1.32348786 1.29491769\n",
      "   1.35782389 1.04191261]]\n",
      "\n",
      " [[1.59023434 1.98961395 1.02953125 1.12127557 1.9793216  1.31150585\n",
      "   1.45124275 1.05804345]\n",
      "  [1.59023434 1.98961395 1.02953125 1.12127557 1.9793216  1.31150585\n",
      "   1.45124275 1.05804345]\n",
      "  [1.59023434 1.98961395 1.02953125 1.12127557 1.9793216  1.31150585\n",
      "   1.45124275 1.05804345]\n",
      "  [1.59023434 1.98961395 1.02953125 1.12127557 1.9793216  1.31150585\n",
      "   1.45124275 1.05804345]\n",
      "  [1.59023434 1.98961395 1.02953125 1.12127557 1.9793216  1.31150585\n",
      "   1.45124275 1.05804345]\n",
      "  [1.59023434 1.98961395 1.02953125 1.12127557 1.9793216  1.31150585\n",
      "   1.45124275 1.05804345]]\n",
      "\n",
      " [[1.71832668 1.0737966  1.42633679 1.95670231 1.17414283 1.21651497\n",
      "   1.42910199 1.70280298]\n",
      "  [1.71832668 1.0737966  1.42633679 1.95670231 1.17414283 1.21651497\n",
      "   1.42910199 1.70280298]\n",
      "  [1.71832668 1.0737966  1.42633679 1.95670231 1.17414283 1.21651497\n",
      "   1.42910199 1.70280298]\n",
      "  [1.71832668 1.0737966  1.42633679 1.95670231 1.17414283 1.21651497\n",
      "   1.42910199 1.70280298]\n",
      "  [1.71832668 1.0737966  1.42633679 1.95670231 1.17414283 1.21651497\n",
      "   1.42910199 1.70280298]\n",
      "  [1.71832668 1.0737966  1.42633679 1.95670231 1.17414283 1.21651497\n",
      "   1.42910199 1.70280298]]]\n"
     ]
    },
    {
     "data": {
      "text/plain": "'\\nThe dimensions of x(6,8) and y(10,1,8) are diffrent. However, it is possible \\nto add them. Why is that? Also, change y(10,2,8) or y(10,1,4) it will \\ngive ValueError. Can you find out why?\\n'"
     },
     "execution_count": 11,
     "metadata": {},
     "output_type": "execute_result"
    }
   ]
  },
  {
   "cell_type": "markdown",
   "metadata": {
    "id": "y37QrG2wwMXR",
    "colab_type": "text"
   },
   "source": [
    "# Numpy and mathematics at work"
   ]
  },
  {
   "cell_type": "code",
   "metadata": {
    "id": "iL_3It22wIxl",
    "colab_type": "code",
    "outputId": "23fae4a2-3b6f-4121-a212-961a184125a0",
    "colab": {
     "base_uri": "https://localhost:8080/",
     "height": 187
    },
    "ExecuteTime": {
     "end_time": "2023-07-20T09:11:57.740517800Z",
     "start_time": "2023-07-20T09:11:57.346744900Z"
    }
   },
   "source": [
    "# Basica operations (+, -, *, /, %)\n",
    "x = np.array([[1, 2, 3], [2, 3, 4]])\n",
    "y = np.array([[1, 4, 9], [2, 3, -2]])\n",
    "\n",
    "# Add two array\n",
    "add = np.add(x, y)\n",
    "print(add)\n",
    "\n",
    "# Subtract two array\n",
    "sub = np.subtract(x, y)\n",
    "print(sub)\n",
    "\n",
    "# Multipley two array\n",
    "mul = np.multiply(x, y)\n",
    "print(mul)\n",
    "\n",
    "# Divide x, y\n",
    "div = np.divide(x,y)\n",
    "print(div)\n",
    "\n",
    "# Calculated the remainder of x and y\n",
    "rem = np.remainder(x, y)\n",
    "print(rem)\n"
   ],
   "execution_count": 12,
   "outputs": [
    {
     "name": "stdout",
     "output_type": "stream",
     "text": [
      "[[ 2  6 12]\n",
      " [ 4  6  2]]\n",
      "[[ 0 -2 -6]\n",
      " [ 0  0  6]]\n",
      "[[ 1  8 27]\n",
      " [ 4  9 -8]]\n",
      "[[ 1.          0.5         0.33333333]\n",
      " [ 1.          1.         -2.        ]]\n",
      "[[0 2 3]\n",
      " [0 0 0]]\n"
     ]
    }
   ]
  },
  {
   "cell_type": "markdown",
   "metadata": {
    "id": "FOOhlPsG2Xz4",
    "colab_type": "text"
   },
   "source": [
    "# Subset, Slice, And Index Arrays"
   ]
  },
  {
   "cell_type": "code",
   "metadata": {
    "id": "VaTOwWvJ2Q39",
    "colab_type": "code",
    "outputId": "c849ff83-8b1a-4c07-9825-8f85d7a7fcfa",
    "colab": {
     "base_uri": "https://localhost:8080/",
     "height": 68
    },
    "ExecuteTime": {
     "end_time": "2023-07-20T09:11:57.741518400Z",
     "start_time": "2023-07-20T09:11:57.347745Z"
    }
   },
   "source": [
    "x = np.array([10, 20, 30, 40, 50])\n",
    "\n",
    "# Select items at index 0 and 1\n",
    "print(x[0:2])\n",
    "\n",
    "# Select item at row 0 and 1 and column 1 from 2D array\n",
    "y = np.array([[ 1,  2,  3,  4], [ 9, 10, 11 ,12]])\n",
    "print(y[0:2, 1])\n",
    "\n",
    "# Specifying conditions\n",
    "biggerThan2 = (y >= 2)\n",
    "print(y[biggerThan2])"
   ],
   "execution_count": 13,
   "outputs": [
    {
     "name": "stdout",
     "output_type": "stream",
     "text": [
      "[10 20]\n",
      "[ 2 10]\n",
      "[ 2  3  4  9 10 11 12]\n"
     ]
    }
   ]
  },
  {
   "cell_type": "code",
   "metadata": {
    "id": "RoCi1SRZ828a",
    "colab_type": "code",
    "colab": {},
    "ExecuteTime": {
     "end_time": "2023-07-20T09:11:57.742518400Z",
     "start_time": "2023-07-20T09:11:57.348743800Z"
    }
   },
   "source": [
    "# Importing pandas\n",
    "import pandas as pd"
   ],
   "execution_count": 14,
   "outputs": []
  },
  {
   "cell_type": "markdown",
   "metadata": {
    "id": "ZOM356yE9E5x",
    "colab_type": "text"
   },
   "source": [
    "# Can you set default parameters in Pandas?\n"
   ]
  },
  {
   "cell_type": "code",
   "metadata": {
    "id": "3H-cxbK69KJK",
    "colab_type": "code",
    "outputId": "29ad6f8c-e3ad-4406-bd22-856dcf7561e1",
    "colab": {
     "base_uri": "https://localhost:8080/",
     "height": 34
    },
    "ExecuteTime": {
     "end_time": "2023-07-20T09:11:57.743517400Z",
     "start_time": "2023-07-20T09:11:57.350742700Z"
    }
   },
   "source": [
    "print(\"Pandas Version:\", pd.__version__)\n",
    "\n",
    "pd.set_option('display.max_columns', 500)\n",
    "pd.set_option('display.max_rows', 500)\n"
   ],
   "execution_count": 15,
   "outputs": [
    {
     "name": "stdout",
     "output_type": "stream",
     "text": [
      "Pandas Version: 1.5.3\n"
     ]
    }
   ]
  },
  {
   "cell_type": "markdown",
   "metadata": {
    "id": "3NzGxP-39TS9",
    "colab_type": "text"
   },
   "source": [
    "# Data strcutre of pandas\n",
    "\n",
    "\n",
    "*   Series\n",
    "*   DataFrames\n",
    "\n",
    "\n"
   ]
  },
  {
   "cell_type": "code",
   "metadata": {
    "id": "i_rBemUy9Qjx",
    "colab_type": "code",
    "outputId": "a59a223a-fa30-4047-a82d-cb23929ec6a5",
    "colab": {
     "base_uri": "https://localhost:8080/",
     "height": 445
    },
    "ExecuteTime": {
     "end_time": "2023-07-20T09:11:57.745516400Z",
     "start_time": "2023-07-20T09:11:57.352742Z"
    }
   },
   "source": [
    "series = pd.Series([2, 3, 7, 11, 13, 17, 19, 23])\n",
    "print(series)\n",
    "\n",
    "# Creating dataframe from Dictionary\n",
    "dict_df = [{'A': 'Apple', 'B': 'Ball'},{'A': 'Aeroplane', 'B': 'Bat', 'C': 'Cat'}]\n",
    "dict_df = pd.DataFrame(dict_df)\n",
    "print(dict_df)\n",
    "  \n",
    "# Creating dataframe from Series\n",
    "series_df = pd.DataFrame({\n",
    "    'A': range(1, 5),\n",
    "    'B': pd.Timestamp('20190526'),\n",
    "    'C': pd.Series(5, index=list(range(4)), dtype='float64'),\n",
    "    'D': np.array([3] * 4, dtype='int64'),\n",
    "    'E': pd.Categorical([\"Depression\", \"Social Anxiety\", \"Bipolar Disorder\", \"Eating Disorder\"]),\n",
    "    'F': 'Mental health',\n",
    "    'G': 'is challenging'\n",
    "})\n",
    "print(series_df)\n",
    "\n",
    "# Creating a dataframe from ndarrays\n",
    "sdf = {\n",
    "    'County':['Østfold', 'Hordaland', 'Oslo', 'Hedmark', 'Oppland', 'Buskerud'],\n",
    "    'ISO-Code':[1,2,3,4,5,6],\n",
    "    'Area': [4180.69, 4917.94, 454.07, 27397.76, 25192.10, 14910.94],\n",
    "    'Administrative centre': [\"Sarpsborg\", \"Oslo\", \"City of Oslo\", \"Hamar\", \"Lillehammer\", \"Drammen\"]\n",
    "    }\n",
    "sdf = pd.DataFrame(sdf)\n",
    "print(sdf)"
   ],
   "execution_count": 16,
   "outputs": [
    {
     "name": "stdout",
     "output_type": "stream",
     "text": [
      "0     2\n",
      "1     3\n",
      "2     7\n",
      "3    11\n",
      "4    13\n",
      "5    17\n",
      "6    19\n",
      "7    23\n",
      "dtype: int64\n",
      "           A     B    C\n",
      "0      Apple  Ball  NaN\n",
      "1  Aeroplane   Bat  Cat\n",
      "   A          B    C  D                 E              F               G\n",
      "0  1 2019-05-26  5.0  3        Depression  Mental health  is challenging\n",
      "1  2 2019-05-26  5.0  3    Social Anxiety  Mental health  is challenging\n",
      "2  3 2019-05-26  5.0  3  Bipolar Disorder  Mental health  is challenging\n",
      "3  4 2019-05-26  5.0  3   Eating Disorder  Mental health  is challenging\n",
      "      County  ISO-Code      Area Administrative centre\n",
      "0    Østfold         1   4180.69             Sarpsborg\n",
      "1  Hordaland         2   4917.94                  Oslo\n",
      "2       Oslo         3    454.07          City of Oslo\n",
      "3    Hedmark         4  27397.76                 Hamar\n",
      "4    Oppland         5  25192.10           Lillehammer\n",
      "5   Buskerud         6  14910.94               Drammen\n"
     ]
    }
   ]
  },
  {
   "cell_type": "markdown",
   "metadata": {
    "id": "3nvUnfDWKQnt",
    "colab_type": "text"
   },
   "source": [
    "# Loading a dataset into Pandas DataFrame\n",
    "\n"
   ]
  },
  {
   "cell_type": "code",
   "metadata": {
    "id": "9wR-aub1KEIj",
    "colab_type": "code",
    "outputId": "260e5181-75cf-4fa8-8f59-708df75fb0c8",
    "colab": {
     "base_uri": "https://localhost:8080/",
     "height": 515
    },
    "ExecuteTime": {
     "end_time": "2023-07-20T09:12:09.319882400Z",
     "start_time": "2023-07-20T09:11:57.354740600Z"
    }
   },
   "source": [
    "import pandas as pd\n",
    "columns = ['age', 'workclass', 'fnlwgt', 'education', 'education_num',\n",
    "    'marital_status', 'occupation', 'relationship', 'ethnicity', 'gender','capital_gain','capital_loss','hours_per_week','country_of_origin','income']\n",
    "df = pd.read_csv('http://archive.ics.uci.edu/ml/machine-learning-databases/adult/adult.data',names=columns)\n",
    "df.head(10)"
   ],
   "execution_count": 17,
   "outputs": [
    {
     "data": {
      "text/plain": "   age          workclass  fnlwgt   education  education_num  \\\n0   39          State-gov   77516   Bachelors             13   \n1   50   Self-emp-not-inc   83311   Bachelors             13   \n2   38            Private  215646     HS-grad              9   \n3   53            Private  234721        11th              7   \n4   28            Private  338409   Bachelors             13   \n5   37            Private  284582     Masters             14   \n6   49            Private  160187         9th              5   \n7   52   Self-emp-not-inc  209642     HS-grad              9   \n8   31            Private   45781     Masters             14   \n9   42            Private  159449   Bachelors             13   \n\n           marital_status          occupation    relationship ethnicity  \\\n0           Never-married        Adm-clerical   Not-in-family     White   \n1      Married-civ-spouse     Exec-managerial         Husband     White   \n2                Divorced   Handlers-cleaners   Not-in-family     White   \n3      Married-civ-spouse   Handlers-cleaners         Husband     Black   \n4      Married-civ-spouse      Prof-specialty            Wife     Black   \n5      Married-civ-spouse     Exec-managerial            Wife     White   \n6   Married-spouse-absent       Other-service   Not-in-family     Black   \n7      Married-civ-spouse     Exec-managerial         Husband     White   \n8           Never-married      Prof-specialty   Not-in-family     White   \n9      Married-civ-spouse     Exec-managerial         Husband     White   \n\n    gender  capital_gain  capital_loss  hours_per_week country_of_origin  \\\n0     Male          2174             0              40     United-States   \n1     Male             0             0              13     United-States   \n2     Male             0             0              40     United-States   \n3     Male             0             0              40     United-States   \n4   Female             0             0              40              Cuba   \n5   Female             0             0              40     United-States   \n6   Female             0             0              16           Jamaica   \n7     Male             0             0              45     United-States   \n8   Female         14084             0              50     United-States   \n9     Male          5178             0              40     United-States   \n\n   income  \n0   <=50K  \n1   <=50K  \n2   <=50K  \n3   <=50K  \n4   <=50K  \n5   <=50K  \n6   <=50K  \n7    >50K  \n8    >50K  \n9    >50K  ",
      "text/html": "<div>\n<style scoped>\n    .dataframe tbody tr th:only-of-type {\n        vertical-align: middle;\n    }\n\n    .dataframe tbody tr th {\n        vertical-align: top;\n    }\n\n    .dataframe thead th {\n        text-align: right;\n    }\n</style>\n<table border=\"1\" class=\"dataframe\">\n  <thead>\n    <tr style=\"text-align: right;\">\n      <th></th>\n      <th>age</th>\n      <th>workclass</th>\n      <th>fnlwgt</th>\n      <th>education</th>\n      <th>education_num</th>\n      <th>marital_status</th>\n      <th>occupation</th>\n      <th>relationship</th>\n      <th>ethnicity</th>\n      <th>gender</th>\n      <th>capital_gain</th>\n      <th>capital_loss</th>\n      <th>hours_per_week</th>\n      <th>country_of_origin</th>\n      <th>income</th>\n    </tr>\n  </thead>\n  <tbody>\n    <tr>\n      <th>0</th>\n      <td>39</td>\n      <td>State-gov</td>\n      <td>77516</td>\n      <td>Bachelors</td>\n      <td>13</td>\n      <td>Never-married</td>\n      <td>Adm-clerical</td>\n      <td>Not-in-family</td>\n      <td>White</td>\n      <td>Male</td>\n      <td>2174</td>\n      <td>0</td>\n      <td>40</td>\n      <td>United-States</td>\n      <td>&lt;=50K</td>\n    </tr>\n    <tr>\n      <th>1</th>\n      <td>50</td>\n      <td>Self-emp-not-inc</td>\n      <td>83311</td>\n      <td>Bachelors</td>\n      <td>13</td>\n      <td>Married-civ-spouse</td>\n      <td>Exec-managerial</td>\n      <td>Husband</td>\n      <td>White</td>\n      <td>Male</td>\n      <td>0</td>\n      <td>0</td>\n      <td>13</td>\n      <td>United-States</td>\n      <td>&lt;=50K</td>\n    </tr>\n    <tr>\n      <th>2</th>\n      <td>38</td>\n      <td>Private</td>\n      <td>215646</td>\n      <td>HS-grad</td>\n      <td>9</td>\n      <td>Divorced</td>\n      <td>Handlers-cleaners</td>\n      <td>Not-in-family</td>\n      <td>White</td>\n      <td>Male</td>\n      <td>0</td>\n      <td>0</td>\n      <td>40</td>\n      <td>United-States</td>\n      <td>&lt;=50K</td>\n    </tr>\n    <tr>\n      <th>3</th>\n      <td>53</td>\n      <td>Private</td>\n      <td>234721</td>\n      <td>11th</td>\n      <td>7</td>\n      <td>Married-civ-spouse</td>\n      <td>Handlers-cleaners</td>\n      <td>Husband</td>\n      <td>Black</td>\n      <td>Male</td>\n      <td>0</td>\n      <td>0</td>\n      <td>40</td>\n      <td>United-States</td>\n      <td>&lt;=50K</td>\n    </tr>\n    <tr>\n      <th>4</th>\n      <td>28</td>\n      <td>Private</td>\n      <td>338409</td>\n      <td>Bachelors</td>\n      <td>13</td>\n      <td>Married-civ-spouse</td>\n      <td>Prof-specialty</td>\n      <td>Wife</td>\n      <td>Black</td>\n      <td>Female</td>\n      <td>0</td>\n      <td>0</td>\n      <td>40</td>\n      <td>Cuba</td>\n      <td>&lt;=50K</td>\n    </tr>\n    <tr>\n      <th>5</th>\n      <td>37</td>\n      <td>Private</td>\n      <td>284582</td>\n      <td>Masters</td>\n      <td>14</td>\n      <td>Married-civ-spouse</td>\n      <td>Exec-managerial</td>\n      <td>Wife</td>\n      <td>White</td>\n      <td>Female</td>\n      <td>0</td>\n      <td>0</td>\n      <td>40</td>\n      <td>United-States</td>\n      <td>&lt;=50K</td>\n    </tr>\n    <tr>\n      <th>6</th>\n      <td>49</td>\n      <td>Private</td>\n      <td>160187</td>\n      <td>9th</td>\n      <td>5</td>\n      <td>Married-spouse-absent</td>\n      <td>Other-service</td>\n      <td>Not-in-family</td>\n      <td>Black</td>\n      <td>Female</td>\n      <td>0</td>\n      <td>0</td>\n      <td>16</td>\n      <td>Jamaica</td>\n      <td>&lt;=50K</td>\n    </tr>\n    <tr>\n      <th>7</th>\n      <td>52</td>\n      <td>Self-emp-not-inc</td>\n      <td>209642</td>\n      <td>HS-grad</td>\n      <td>9</td>\n      <td>Married-civ-spouse</td>\n      <td>Exec-managerial</td>\n      <td>Husband</td>\n      <td>White</td>\n      <td>Male</td>\n      <td>0</td>\n      <td>0</td>\n      <td>45</td>\n      <td>United-States</td>\n      <td>&gt;50K</td>\n    </tr>\n    <tr>\n      <th>8</th>\n      <td>31</td>\n      <td>Private</td>\n      <td>45781</td>\n      <td>Masters</td>\n      <td>14</td>\n      <td>Never-married</td>\n      <td>Prof-specialty</td>\n      <td>Not-in-family</td>\n      <td>White</td>\n      <td>Female</td>\n      <td>14084</td>\n      <td>0</td>\n      <td>50</td>\n      <td>United-States</td>\n      <td>&gt;50K</td>\n    </tr>\n    <tr>\n      <th>9</th>\n      <td>42</td>\n      <td>Private</td>\n      <td>159449</td>\n      <td>Bachelors</td>\n      <td>13</td>\n      <td>Married-civ-spouse</td>\n      <td>Exec-managerial</td>\n      <td>Husband</td>\n      <td>White</td>\n      <td>Male</td>\n      <td>5178</td>\n      <td>0</td>\n      <td>40</td>\n      <td>United-States</td>\n      <td>&gt;50K</td>\n    </tr>\n  </tbody>\n</table>\n</div>"
     },
     "execution_count": 17,
     "metadata": {},
     "output_type": "execute_result"
    }
   ]
  },
  {
   "cell_type": "code",
   "metadata": {
    "id": "hID1TNlKKdB4",
    "colab_type": "code",
    "outputId": "70605ec4-96bc-471b-e68b-e463a7b4bdcc",
    "colab": {
     "base_uri": "https://localhost:8080/",
     "height": 357
    },
    "ExecuteTime": {
     "end_time": "2023-07-20T09:12:09.321881Z",
     "start_time": "2023-07-20T09:12:09.084017600Z"
    }
   },
   "source": [
    "# Displays the rows, columns, data types and memory used by the dataframe\n",
    "df.info()"
   ],
   "execution_count": 18,
   "outputs": [
    {
     "name": "stdout",
     "output_type": "stream",
     "text": [
      "<class 'pandas.core.frame.DataFrame'>\n",
      "RangeIndex: 32561 entries, 0 to 32560\n",
      "Data columns (total 15 columns):\n",
      " #   Column             Non-Null Count  Dtype \n",
      "---  ------             --------------  ----- \n",
      " 0   age                32561 non-null  int64 \n",
      " 1   workclass          32561 non-null  object\n",
      " 2   fnlwgt             32561 non-null  int64 \n",
      " 3   education          32561 non-null  object\n",
      " 4   education_num      32561 non-null  int64 \n",
      " 5   marital_status     32561 non-null  object\n",
      " 6   occupation         32561 non-null  object\n",
      " 7   relationship       32561 non-null  object\n",
      " 8   ethnicity          32561 non-null  object\n",
      " 9   gender             32561 non-null  object\n",
      " 10  capital_gain       32561 non-null  int64 \n",
      " 11  capital_loss       32561 non-null  int64 \n",
      " 12  hours_per_week     32561 non-null  int64 \n",
      " 13  country_of_origin  32561 non-null  object\n",
      " 14  income             32561 non-null  object\n",
      "dtypes: int64(6), object(9)\n",
      "memory usage: 3.7+ MB\n"
     ]
    }
   ]
  },
  {
   "cell_type": "code",
   "metadata": {
    "id": "PBnmb142KfhT",
    "colab_type": "code",
    "outputId": "97b4f5e8-39fc-4a8f-a495-f98a2acbcf81",
    "colab": {
     "base_uri": "https://localhost:8080/",
     "height": 34
    },
    "ExecuteTime": {
     "end_time": "2023-07-20T09:12:09.322881Z",
     "start_time": "2023-07-20T09:12:09.086016400Z"
    }
   },
   "source": [
    "# Displays the no of data points and columns in the dataframe\n",
    "df.shape"
   ],
   "execution_count": 19,
   "outputs": [
    {
     "data": {
      "text/plain": "(32561, 15)"
     },
     "execution_count": 19,
     "metadata": {},
     "output_type": "execute_result"
    }
   ]
  },
  {
   "cell_type": "code",
   "metadata": {
    "id": "wib9eVHRLach",
    "colab_type": "code",
    "outputId": "fba855a4-20a9-42b8-d809-1160747b8397",
    "colab": {
     "base_uri": "https://localhost:8080/",
     "height": 122
    },
    "ExecuteTime": {
     "end_time": "2023-07-20T09:12:09.323880600Z",
     "start_time": "2023-07-20T09:12:09.088015100Z"
    }
   },
   "source": [
    "# Display all columns of the dataframe\n",
    "df.columns"
   ],
   "execution_count": 20,
   "outputs": [
    {
     "data": {
      "text/plain": "Index(['age', 'workclass', 'fnlwgt', 'education', 'education_num',\n       'marital_status', 'occupation', 'relationship', 'ethnicity', 'gender',\n       'capital_gain', 'capital_loss', 'hours_per_week', 'country_of_origin',\n       'income'],\n      dtype='object')"
     },
     "execution_count": 20,
     "metadata": {},
     "output_type": "execute_result"
    }
   ]
  },
  {
   "cell_type": "code",
   "metadata": {
    "id": "hdOSdNlULdA5",
    "colab_type": "code",
    "outputId": "50b9fe36-9e0e-48aa-a84d-e48f56386a13",
    "colab": {
     "base_uri": "https://localhost:8080/",
     "height": 317
    },
    "ExecuteTime": {
     "end_time": "2023-07-20T09:12:09.363859200Z",
     "start_time": "2023-07-20T09:12:09.089014700Z"
    }
   },
   "source": [
    "# Displays summary statistics for each numerical column in the dataframe\n",
    "df.describe()"
   ],
   "execution_count": 21,
   "outputs": [
    {
     "data": {
      "text/plain": "                age        fnlwgt  education_num  capital_gain  capital_loss  \\\ncount  32561.000000  3.256100e+04   32561.000000  32561.000000  32561.000000   \nmean      38.581647  1.897784e+05      10.080679   1077.648844     87.303830   \nstd       13.640433  1.055500e+05       2.572720   7385.292085    402.960219   \nmin       17.000000  1.228500e+04       1.000000      0.000000      0.000000   \n25%       28.000000  1.178270e+05       9.000000      0.000000      0.000000   \n50%       37.000000  1.783560e+05      10.000000      0.000000      0.000000   \n75%       48.000000  2.370510e+05      12.000000      0.000000      0.000000   \nmax       90.000000  1.484705e+06      16.000000  99999.000000   4356.000000   \n\n       hours_per_week  \ncount    32561.000000  \nmean        40.437456  \nstd         12.347429  \nmin          1.000000  \n25%         40.000000  \n50%         40.000000  \n75%         45.000000  \nmax         99.000000  ",
      "text/html": "<div>\n<style scoped>\n    .dataframe tbody tr th:only-of-type {\n        vertical-align: middle;\n    }\n\n    .dataframe tbody tr th {\n        vertical-align: top;\n    }\n\n    .dataframe thead th {\n        text-align: right;\n    }\n</style>\n<table border=\"1\" class=\"dataframe\">\n  <thead>\n    <tr style=\"text-align: right;\">\n      <th></th>\n      <th>age</th>\n      <th>fnlwgt</th>\n      <th>education_num</th>\n      <th>capital_gain</th>\n      <th>capital_loss</th>\n      <th>hours_per_week</th>\n    </tr>\n  </thead>\n  <tbody>\n    <tr>\n      <th>count</th>\n      <td>32561.000000</td>\n      <td>3.256100e+04</td>\n      <td>32561.000000</td>\n      <td>32561.000000</td>\n      <td>32561.000000</td>\n      <td>32561.000000</td>\n    </tr>\n    <tr>\n      <th>mean</th>\n      <td>38.581647</td>\n      <td>1.897784e+05</td>\n      <td>10.080679</td>\n      <td>1077.648844</td>\n      <td>87.303830</td>\n      <td>40.437456</td>\n    </tr>\n    <tr>\n      <th>std</th>\n      <td>13.640433</td>\n      <td>1.055500e+05</td>\n      <td>2.572720</td>\n      <td>7385.292085</td>\n      <td>402.960219</td>\n      <td>12.347429</td>\n    </tr>\n    <tr>\n      <th>min</th>\n      <td>17.000000</td>\n      <td>1.228500e+04</td>\n      <td>1.000000</td>\n      <td>0.000000</td>\n      <td>0.000000</td>\n      <td>1.000000</td>\n    </tr>\n    <tr>\n      <th>25%</th>\n      <td>28.000000</td>\n      <td>1.178270e+05</td>\n      <td>9.000000</td>\n      <td>0.000000</td>\n      <td>0.000000</td>\n      <td>40.000000</td>\n    </tr>\n    <tr>\n      <th>50%</th>\n      <td>37.000000</td>\n      <td>1.783560e+05</td>\n      <td>10.000000</td>\n      <td>0.000000</td>\n      <td>0.000000</td>\n      <td>40.000000</td>\n    </tr>\n    <tr>\n      <th>75%</th>\n      <td>48.000000</td>\n      <td>2.370510e+05</td>\n      <td>12.000000</td>\n      <td>0.000000</td>\n      <td>0.000000</td>\n      <td>45.000000</td>\n    </tr>\n    <tr>\n      <th>max</th>\n      <td>90.000000</td>\n      <td>1.484705e+06</td>\n      <td>16.000000</td>\n      <td>99999.000000</td>\n      <td>4356.000000</td>\n      <td>99.000000</td>\n    </tr>\n  </tbody>\n</table>\n</div>"
     },
     "execution_count": 21,
     "metadata": {},
     "output_type": "execute_result"
    }
   ]
  },
  {
   "cell_type": "markdown",
   "metadata": {
    "id": "sD5KlSfcTd9o",
    "colab_type": "text"
   },
   "source": [
    "# Selecting rows and columns in the dataframe\n"
   ]
  },
  {
   "cell_type": "code",
   "metadata": {
    "id": "gawQcy80TgJo",
    "colab_type": "code",
    "outputId": "a7dc8519-3e9d-45a3-eb1b-c758076d2f82",
    "colab": {
     "base_uri": "https://localhost:8080/",
     "height": 204
    },
    "ExecuteTime": {
     "end_time": "2023-07-20T09:12:09.401834800Z",
     "start_time": "2023-07-20T09:12:09.092012600Z"
    }
   },
   "source": [
    "# Selects a row\n",
    "df.iloc[10] \n",
    "\n",
    "# Selects 10 rows             \n",
    "df.iloc[0:10]\n",
    "\n",
    "# Selects a range of rows           \n",
    "df.iloc[10:15]            \n",
    "\n",
    " # Selects the last 2 rows\n",
    "df.iloc[-2:]  \n",
    "\n",
    "# Selects every other row in columns 3-5\n",
    "df.iloc[::2, 3:5].head() "
   ],
   "execution_count": 22,
   "outputs": [
    {
     "data": {
      "text/plain": "    education  education_num\n0   Bachelors             13\n2     HS-grad              9\n4   Bachelors             13\n6         9th              5\n8     Masters             14",
      "text/html": "<div>\n<style scoped>\n    .dataframe tbody tr th:only-of-type {\n        vertical-align: middle;\n    }\n\n    .dataframe tbody tr th {\n        vertical-align: top;\n    }\n\n    .dataframe thead th {\n        text-align: right;\n    }\n</style>\n<table border=\"1\" class=\"dataframe\">\n  <thead>\n    <tr style=\"text-align: right;\">\n      <th></th>\n      <th>education</th>\n      <th>education_num</th>\n    </tr>\n  </thead>\n  <tbody>\n    <tr>\n      <th>0</th>\n      <td>Bachelors</td>\n      <td>13</td>\n    </tr>\n    <tr>\n      <th>2</th>\n      <td>HS-grad</td>\n      <td>9</td>\n    </tr>\n    <tr>\n      <th>4</th>\n      <td>Bachelors</td>\n      <td>13</td>\n    </tr>\n    <tr>\n      <th>6</th>\n      <td>9th</td>\n      <td>5</td>\n    </tr>\n    <tr>\n      <th>8</th>\n      <td>Masters</td>\n      <td>14</td>\n    </tr>\n  </tbody>\n</table>\n</div>"
     },
     "execution_count": 22,
     "metadata": {},
     "output_type": "execute_result"
    }
   ]
  },
  {
   "cell_type": "code",
   "metadata": {
    "id": "5UPm1FfxY6Ci",
    "colab_type": "code",
    "outputId": "8faeb4b0-77b1-4e63-84f2-3a8ccce7d096",
    "colab": {
     "base_uri": "https://localhost:8080/",
     "height": 359
    },
    "ExecuteTime": {
     "end_time": "2023-07-20T09:12:09.401834800Z",
     "start_time": "2023-07-20T09:12:09.093011700Z"
    }
   },
   "source": [
    "import pandas as pd\n",
    "import numpy as np\n",
    "\n",
    "np.random.seed(24)\n",
    "df = pd.DataFrame({'F': np.linspace(1, 10, 10)})\n",
    "df = pd.concat([df, pd.DataFrame(np.random.randn(10, 5), columns=list('EDCBA'))],\n",
    "               axis=1)\n",
    "df.iloc[0, 2] = np.nan\n",
    "df"
   ],
   "execution_count": 23,
   "outputs": [
    {
     "data": {
      "text/plain": "      F         E         D         C         B         A\n0   1.0  1.329212       NaN -0.316280 -0.990810 -1.070816\n1   2.0 -1.438713  0.564417  0.295722 -1.626404  0.219565\n2   3.0  0.678805  1.889273  0.961538  0.104011 -0.481165\n3   4.0  0.850229  1.453425  1.057737  0.165562  0.515018\n4   5.0 -1.336936  0.562861  1.392855 -0.063328  0.121668\n5   6.0  1.207603 -0.002040  1.627796  0.354493  1.037528\n6   7.0 -0.385684  0.519818  1.686583 -1.325963  1.428984\n7   8.0 -2.089354 -0.129820  0.631523 -0.586538  0.290720\n8   9.0  1.264103  0.290035 -1.970288  0.803906  1.030550\n9  10.0  0.118098 -0.021853  0.046841 -1.628753 -0.392361",
      "text/html": "<div>\n<style scoped>\n    .dataframe tbody tr th:only-of-type {\n        vertical-align: middle;\n    }\n\n    .dataframe tbody tr th {\n        vertical-align: top;\n    }\n\n    .dataframe thead th {\n        text-align: right;\n    }\n</style>\n<table border=\"1\" class=\"dataframe\">\n  <thead>\n    <tr style=\"text-align: right;\">\n      <th></th>\n      <th>F</th>\n      <th>E</th>\n      <th>D</th>\n      <th>C</th>\n      <th>B</th>\n      <th>A</th>\n    </tr>\n  </thead>\n  <tbody>\n    <tr>\n      <th>0</th>\n      <td>1.0</td>\n      <td>1.329212</td>\n      <td>NaN</td>\n      <td>-0.316280</td>\n      <td>-0.990810</td>\n      <td>-1.070816</td>\n    </tr>\n    <tr>\n      <th>1</th>\n      <td>2.0</td>\n      <td>-1.438713</td>\n      <td>0.564417</td>\n      <td>0.295722</td>\n      <td>-1.626404</td>\n      <td>0.219565</td>\n    </tr>\n    <tr>\n      <th>2</th>\n      <td>3.0</td>\n      <td>0.678805</td>\n      <td>1.889273</td>\n      <td>0.961538</td>\n      <td>0.104011</td>\n      <td>-0.481165</td>\n    </tr>\n    <tr>\n      <th>3</th>\n      <td>4.0</td>\n      <td>0.850229</td>\n      <td>1.453425</td>\n      <td>1.057737</td>\n      <td>0.165562</td>\n      <td>0.515018</td>\n    </tr>\n    <tr>\n      <th>4</th>\n      <td>5.0</td>\n      <td>-1.336936</td>\n      <td>0.562861</td>\n      <td>1.392855</td>\n      <td>-0.063328</td>\n      <td>0.121668</td>\n    </tr>\n    <tr>\n      <th>5</th>\n      <td>6.0</td>\n      <td>1.207603</td>\n      <td>-0.002040</td>\n      <td>1.627796</td>\n      <td>0.354493</td>\n      <td>1.037528</td>\n    </tr>\n    <tr>\n      <th>6</th>\n      <td>7.0</td>\n      <td>-0.385684</td>\n      <td>0.519818</td>\n      <td>1.686583</td>\n      <td>-1.325963</td>\n      <td>1.428984</td>\n    </tr>\n    <tr>\n      <th>7</th>\n      <td>8.0</td>\n      <td>-2.089354</td>\n      <td>-0.129820</td>\n      <td>0.631523</td>\n      <td>-0.586538</td>\n      <td>0.290720</td>\n    </tr>\n    <tr>\n      <th>8</th>\n      <td>9.0</td>\n      <td>1.264103</td>\n      <td>0.290035</td>\n      <td>-1.970288</td>\n      <td>0.803906</td>\n      <td>1.030550</td>\n    </tr>\n    <tr>\n      <th>9</th>\n      <td>10.0</td>\n      <td>0.118098</td>\n      <td>-0.021853</td>\n      <td>0.046841</td>\n      <td>-1.628753</td>\n      <td>-0.392361</td>\n    </tr>\n  </tbody>\n</table>\n</div>"
     },
     "execution_count": 23,
     "metadata": {},
     "output_type": "execute_result"
    }
   ]
  },
  {
   "cell_type": "code",
   "metadata": {
    "id": "jxhzDHBBZcRJ",
    "colab_type": "code",
    "colab": {},
    "ExecuteTime": {
     "end_time": "2023-07-20T09:12:09.402834300Z",
     "start_time": "2023-07-20T09:12:09.095011900Z"
    }
   },
   "source": [
    "# Define a function that should color the values that are less than 0 \n",
    "def colorNegativeValueToRed(value):\n",
    "  if value < 0:\n",
    "    color = 'red'\n",
    "  elif value > 0:\n",
    "    color = 'black'\n",
    "  else:\n",
    "    color = 'green'\n",
    "\n",
    "  return 'color: %s' % color"
   ],
   "execution_count": 24,
   "outputs": []
  },
  {
   "cell_type": "code",
   "metadata": {
    "id": "y_LyCSgJZftx",
    "colab_type": "code",
    "outputId": "d63c5e6a-d395-41dd-8069-0d4cb7655ab9",
    "colab": {
     "base_uri": "https://localhost:8080/",
     "height": 250
    },
    "ExecuteTime": {
     "end_time": "2023-07-20T09:12:09.403834700Z",
     "start_time": "2023-07-20T09:12:09.097010300Z"
    }
   },
   "source": [
    "s = df.style.applymap(colorNegativeValueToRed, subset=['A','B','C','D','E'])\n",
    "s"
   ],
   "execution_count": 25,
   "outputs": [
    {
     "data": {
      "text/plain": "<pandas.io.formats.style.Styler at 0xd591db0>",
      "text/html": "<style type=\"text/css\">\n#T_86c0a_row0_col1, #T_86c0a_row1_col2, #T_86c0a_row1_col3, #T_86c0a_row1_col5, #T_86c0a_row2_col1, #T_86c0a_row2_col2, #T_86c0a_row2_col3, #T_86c0a_row2_col4, #T_86c0a_row3_col1, #T_86c0a_row3_col2, #T_86c0a_row3_col3, #T_86c0a_row3_col4, #T_86c0a_row3_col5, #T_86c0a_row4_col2, #T_86c0a_row4_col3, #T_86c0a_row4_col5, #T_86c0a_row5_col1, #T_86c0a_row5_col3, #T_86c0a_row5_col4, #T_86c0a_row5_col5, #T_86c0a_row6_col2, #T_86c0a_row6_col3, #T_86c0a_row6_col5, #T_86c0a_row7_col3, #T_86c0a_row7_col5, #T_86c0a_row8_col1, #T_86c0a_row8_col2, #T_86c0a_row8_col4, #T_86c0a_row8_col5, #T_86c0a_row9_col1, #T_86c0a_row9_col3 {\n  color: black;\n}\n#T_86c0a_row0_col2 {\n  color: green;\n}\n#T_86c0a_row0_col3, #T_86c0a_row0_col4, #T_86c0a_row0_col5, #T_86c0a_row1_col1, #T_86c0a_row1_col4, #T_86c0a_row2_col5, #T_86c0a_row4_col1, #T_86c0a_row4_col4, #T_86c0a_row5_col2, #T_86c0a_row6_col1, #T_86c0a_row6_col4, #T_86c0a_row7_col1, #T_86c0a_row7_col2, #T_86c0a_row7_col4, #T_86c0a_row8_col3, #T_86c0a_row9_col2, #T_86c0a_row9_col4, #T_86c0a_row9_col5 {\n  color: red;\n}\n</style>\n<table id=\"T_86c0a\">\n  <thead>\n    <tr>\n      <th class=\"blank level0\" >&nbsp;</th>\n      <th id=\"T_86c0a_level0_col0\" class=\"col_heading level0 col0\" >F</th>\n      <th id=\"T_86c0a_level0_col1\" class=\"col_heading level0 col1\" >E</th>\n      <th id=\"T_86c0a_level0_col2\" class=\"col_heading level0 col2\" >D</th>\n      <th id=\"T_86c0a_level0_col3\" class=\"col_heading level0 col3\" >C</th>\n      <th id=\"T_86c0a_level0_col4\" class=\"col_heading level0 col4\" >B</th>\n      <th id=\"T_86c0a_level0_col5\" class=\"col_heading level0 col5\" >A</th>\n    </tr>\n  </thead>\n  <tbody>\n    <tr>\n      <th id=\"T_86c0a_level0_row0\" class=\"row_heading level0 row0\" >0</th>\n      <td id=\"T_86c0a_row0_col0\" class=\"data row0 col0\" >1.000000</td>\n      <td id=\"T_86c0a_row0_col1\" class=\"data row0 col1\" >1.329212</td>\n      <td id=\"T_86c0a_row0_col2\" class=\"data row0 col2\" >nan</td>\n      <td id=\"T_86c0a_row0_col3\" class=\"data row0 col3\" >-0.316280</td>\n      <td id=\"T_86c0a_row0_col4\" class=\"data row0 col4\" >-0.990810</td>\n      <td id=\"T_86c0a_row0_col5\" class=\"data row0 col5\" >-1.070816</td>\n    </tr>\n    <tr>\n      <th id=\"T_86c0a_level0_row1\" class=\"row_heading level0 row1\" >1</th>\n      <td id=\"T_86c0a_row1_col0\" class=\"data row1 col0\" >2.000000</td>\n      <td id=\"T_86c0a_row1_col1\" class=\"data row1 col1\" >-1.438713</td>\n      <td id=\"T_86c0a_row1_col2\" class=\"data row1 col2\" >0.564417</td>\n      <td id=\"T_86c0a_row1_col3\" class=\"data row1 col3\" >0.295722</td>\n      <td id=\"T_86c0a_row1_col4\" class=\"data row1 col4\" >-1.626404</td>\n      <td id=\"T_86c0a_row1_col5\" class=\"data row1 col5\" >0.219565</td>\n    </tr>\n    <tr>\n      <th id=\"T_86c0a_level0_row2\" class=\"row_heading level0 row2\" >2</th>\n      <td id=\"T_86c0a_row2_col0\" class=\"data row2 col0\" >3.000000</td>\n      <td id=\"T_86c0a_row2_col1\" class=\"data row2 col1\" >0.678805</td>\n      <td id=\"T_86c0a_row2_col2\" class=\"data row2 col2\" >1.889273</td>\n      <td id=\"T_86c0a_row2_col3\" class=\"data row2 col3\" >0.961538</td>\n      <td id=\"T_86c0a_row2_col4\" class=\"data row2 col4\" >0.104011</td>\n      <td id=\"T_86c0a_row2_col5\" class=\"data row2 col5\" >-0.481165</td>\n    </tr>\n    <tr>\n      <th id=\"T_86c0a_level0_row3\" class=\"row_heading level0 row3\" >3</th>\n      <td id=\"T_86c0a_row3_col0\" class=\"data row3 col0\" >4.000000</td>\n      <td id=\"T_86c0a_row3_col1\" class=\"data row3 col1\" >0.850229</td>\n      <td id=\"T_86c0a_row3_col2\" class=\"data row3 col2\" >1.453425</td>\n      <td id=\"T_86c0a_row3_col3\" class=\"data row3 col3\" >1.057737</td>\n      <td id=\"T_86c0a_row3_col4\" class=\"data row3 col4\" >0.165562</td>\n      <td id=\"T_86c0a_row3_col5\" class=\"data row3 col5\" >0.515018</td>\n    </tr>\n    <tr>\n      <th id=\"T_86c0a_level0_row4\" class=\"row_heading level0 row4\" >4</th>\n      <td id=\"T_86c0a_row4_col0\" class=\"data row4 col0\" >5.000000</td>\n      <td id=\"T_86c0a_row4_col1\" class=\"data row4 col1\" >-1.336936</td>\n      <td id=\"T_86c0a_row4_col2\" class=\"data row4 col2\" >0.562861</td>\n      <td id=\"T_86c0a_row4_col3\" class=\"data row4 col3\" >1.392855</td>\n      <td id=\"T_86c0a_row4_col4\" class=\"data row4 col4\" >-0.063328</td>\n      <td id=\"T_86c0a_row4_col5\" class=\"data row4 col5\" >0.121668</td>\n    </tr>\n    <tr>\n      <th id=\"T_86c0a_level0_row5\" class=\"row_heading level0 row5\" >5</th>\n      <td id=\"T_86c0a_row5_col0\" class=\"data row5 col0\" >6.000000</td>\n      <td id=\"T_86c0a_row5_col1\" class=\"data row5 col1\" >1.207603</td>\n      <td id=\"T_86c0a_row5_col2\" class=\"data row5 col2\" >-0.002040</td>\n      <td id=\"T_86c0a_row5_col3\" class=\"data row5 col3\" >1.627796</td>\n      <td id=\"T_86c0a_row5_col4\" class=\"data row5 col4\" >0.354493</td>\n      <td id=\"T_86c0a_row5_col5\" class=\"data row5 col5\" >1.037528</td>\n    </tr>\n    <tr>\n      <th id=\"T_86c0a_level0_row6\" class=\"row_heading level0 row6\" >6</th>\n      <td id=\"T_86c0a_row6_col0\" class=\"data row6 col0\" >7.000000</td>\n      <td id=\"T_86c0a_row6_col1\" class=\"data row6 col1\" >-0.385684</td>\n      <td id=\"T_86c0a_row6_col2\" class=\"data row6 col2\" >0.519818</td>\n      <td id=\"T_86c0a_row6_col3\" class=\"data row6 col3\" >1.686583</td>\n      <td id=\"T_86c0a_row6_col4\" class=\"data row6 col4\" >-1.325963</td>\n      <td id=\"T_86c0a_row6_col5\" class=\"data row6 col5\" >1.428984</td>\n    </tr>\n    <tr>\n      <th id=\"T_86c0a_level0_row7\" class=\"row_heading level0 row7\" >7</th>\n      <td id=\"T_86c0a_row7_col0\" class=\"data row7 col0\" >8.000000</td>\n      <td id=\"T_86c0a_row7_col1\" class=\"data row7 col1\" >-2.089354</td>\n      <td id=\"T_86c0a_row7_col2\" class=\"data row7 col2\" >-0.129820</td>\n      <td id=\"T_86c0a_row7_col3\" class=\"data row7 col3\" >0.631523</td>\n      <td id=\"T_86c0a_row7_col4\" class=\"data row7 col4\" >-0.586538</td>\n      <td id=\"T_86c0a_row7_col5\" class=\"data row7 col5\" >0.290720</td>\n    </tr>\n    <tr>\n      <th id=\"T_86c0a_level0_row8\" class=\"row_heading level0 row8\" >8</th>\n      <td id=\"T_86c0a_row8_col0\" class=\"data row8 col0\" >9.000000</td>\n      <td id=\"T_86c0a_row8_col1\" class=\"data row8 col1\" >1.264103</td>\n      <td id=\"T_86c0a_row8_col2\" class=\"data row8 col2\" >0.290035</td>\n      <td id=\"T_86c0a_row8_col3\" class=\"data row8 col3\" >-1.970288</td>\n      <td id=\"T_86c0a_row8_col4\" class=\"data row8 col4\" >0.803906</td>\n      <td id=\"T_86c0a_row8_col5\" class=\"data row8 col5\" >1.030550</td>\n    </tr>\n    <tr>\n      <th id=\"T_86c0a_level0_row9\" class=\"row_heading level0 row9\" >9</th>\n      <td id=\"T_86c0a_row9_col0\" class=\"data row9 col0\" >10.000000</td>\n      <td id=\"T_86c0a_row9_col1\" class=\"data row9 col1\" >0.118098</td>\n      <td id=\"T_86c0a_row9_col2\" class=\"data row9 col2\" >-0.021853</td>\n      <td id=\"T_86c0a_row9_col3\" class=\"data row9 col3\" >0.046841</td>\n      <td id=\"T_86c0a_row9_col4\" class=\"data row9 col4\" >-1.628753</td>\n      <td id=\"T_86c0a_row9_col5\" class=\"data row9 col5\" >-0.392361</td>\n    </tr>\n  </tbody>\n</table>\n"
     },
     "execution_count": 25,
     "metadata": {},
     "output_type": "execute_result"
    }
   ]
  },
  {
   "cell_type": "code",
   "metadata": {
    "id": "X1hCinxPaHFg",
    "colab_type": "code",
    "colab": {},
    "ExecuteTime": {
     "end_time": "2023-07-20T09:12:09.403834700Z",
     "start_time": "2023-07-20T09:12:09.099008400Z"
    }
   },
   "source": [
    "# Let us hightlight max value in the column with green background and min value with orange background\n",
    "def highlightMax(s):\n",
    "    isMax = s == s.max()\n",
    "    return ['background-color: orange' if v else '' for v in isMax]\n",
    "\n",
    "def highlightMin(s):\n",
    "    isMin = s == s.min()\n",
    "    return ['background-color: green' if v else '' for v in isMin]"
   ],
   "execution_count": 26,
   "outputs": []
  },
  {
   "cell_type": "code",
   "metadata": {
    "id": "p5EDYgUxau5T",
    "colab_type": "code",
    "outputId": "6403a08c-297a-48f8-d885-f6268d28874d",
    "colab": {
     "base_uri": "https://localhost:8080/",
     "height": 250
    },
    "ExecuteTime": {
     "end_time": "2023-07-20T09:12:09.404833400Z",
     "start_time": "2023-07-20T09:12:09.100008100Z"
    }
   },
   "source": [
    "df.style.apply(highlightMax).apply(highlightMin).highlight_null(null_color='red')\n"
   ],
   "execution_count": 27,
   "outputs": [
    {
     "name": "stderr",
     "output_type": "stream",
     "text": [
      "C:\\Users\\Mebarek\\AppData\\Local\\Temp\\ipykernel_10920\\2115311564.py:1: FutureWarning: `null_color` is deprecated: use `color` instead\n",
      "  df.style.apply(highlightMax).apply(highlightMin).highlight_null(null_color='red')\n"
     ]
    },
    {
     "data": {
      "text/plain": "<pandas.io.formats.style.Styler at 0xd592500>",
      "text/html": "<style type=\"text/css\">\n#T_0cb7f_row0_col0, #T_0cb7f_row0_col5, #T_0cb7f_row7_col1, #T_0cb7f_row7_col2, #T_0cb7f_row8_col3, #T_0cb7f_row9_col4 {\n  background-color: green;\n}\n#T_0cb7f_row0_col1, #T_0cb7f_row2_col2, #T_0cb7f_row6_col3, #T_0cb7f_row6_col5, #T_0cb7f_row8_col4, #T_0cb7f_row9_col0 {\n  background-color: orange;\n}\n#T_0cb7f_row0_col2 {\n  background-color: red;\n}\n</style>\n<table id=\"T_0cb7f\">\n  <thead>\n    <tr>\n      <th class=\"blank level0\" >&nbsp;</th>\n      <th id=\"T_0cb7f_level0_col0\" class=\"col_heading level0 col0\" >F</th>\n      <th id=\"T_0cb7f_level0_col1\" class=\"col_heading level0 col1\" >E</th>\n      <th id=\"T_0cb7f_level0_col2\" class=\"col_heading level0 col2\" >D</th>\n      <th id=\"T_0cb7f_level0_col3\" class=\"col_heading level0 col3\" >C</th>\n      <th id=\"T_0cb7f_level0_col4\" class=\"col_heading level0 col4\" >B</th>\n      <th id=\"T_0cb7f_level0_col5\" class=\"col_heading level0 col5\" >A</th>\n    </tr>\n  </thead>\n  <tbody>\n    <tr>\n      <th id=\"T_0cb7f_level0_row0\" class=\"row_heading level0 row0\" >0</th>\n      <td id=\"T_0cb7f_row0_col0\" class=\"data row0 col0\" >1.000000</td>\n      <td id=\"T_0cb7f_row0_col1\" class=\"data row0 col1\" >1.329212</td>\n      <td id=\"T_0cb7f_row0_col2\" class=\"data row0 col2\" >nan</td>\n      <td id=\"T_0cb7f_row0_col3\" class=\"data row0 col3\" >-0.316280</td>\n      <td id=\"T_0cb7f_row0_col4\" class=\"data row0 col4\" >-0.990810</td>\n      <td id=\"T_0cb7f_row0_col5\" class=\"data row0 col5\" >-1.070816</td>\n    </tr>\n    <tr>\n      <th id=\"T_0cb7f_level0_row1\" class=\"row_heading level0 row1\" >1</th>\n      <td id=\"T_0cb7f_row1_col0\" class=\"data row1 col0\" >2.000000</td>\n      <td id=\"T_0cb7f_row1_col1\" class=\"data row1 col1\" >-1.438713</td>\n      <td id=\"T_0cb7f_row1_col2\" class=\"data row1 col2\" >0.564417</td>\n      <td id=\"T_0cb7f_row1_col3\" class=\"data row1 col3\" >0.295722</td>\n      <td id=\"T_0cb7f_row1_col4\" class=\"data row1 col4\" >-1.626404</td>\n      <td id=\"T_0cb7f_row1_col5\" class=\"data row1 col5\" >0.219565</td>\n    </tr>\n    <tr>\n      <th id=\"T_0cb7f_level0_row2\" class=\"row_heading level0 row2\" >2</th>\n      <td id=\"T_0cb7f_row2_col0\" class=\"data row2 col0\" >3.000000</td>\n      <td id=\"T_0cb7f_row2_col1\" class=\"data row2 col1\" >0.678805</td>\n      <td id=\"T_0cb7f_row2_col2\" class=\"data row2 col2\" >1.889273</td>\n      <td id=\"T_0cb7f_row2_col3\" class=\"data row2 col3\" >0.961538</td>\n      <td id=\"T_0cb7f_row2_col4\" class=\"data row2 col4\" >0.104011</td>\n      <td id=\"T_0cb7f_row2_col5\" class=\"data row2 col5\" >-0.481165</td>\n    </tr>\n    <tr>\n      <th id=\"T_0cb7f_level0_row3\" class=\"row_heading level0 row3\" >3</th>\n      <td id=\"T_0cb7f_row3_col0\" class=\"data row3 col0\" >4.000000</td>\n      <td id=\"T_0cb7f_row3_col1\" class=\"data row3 col1\" >0.850229</td>\n      <td id=\"T_0cb7f_row3_col2\" class=\"data row3 col2\" >1.453425</td>\n      <td id=\"T_0cb7f_row3_col3\" class=\"data row3 col3\" >1.057737</td>\n      <td id=\"T_0cb7f_row3_col4\" class=\"data row3 col4\" >0.165562</td>\n      <td id=\"T_0cb7f_row3_col5\" class=\"data row3 col5\" >0.515018</td>\n    </tr>\n    <tr>\n      <th id=\"T_0cb7f_level0_row4\" class=\"row_heading level0 row4\" >4</th>\n      <td id=\"T_0cb7f_row4_col0\" class=\"data row4 col0\" >5.000000</td>\n      <td id=\"T_0cb7f_row4_col1\" class=\"data row4 col1\" >-1.336936</td>\n      <td id=\"T_0cb7f_row4_col2\" class=\"data row4 col2\" >0.562861</td>\n      <td id=\"T_0cb7f_row4_col3\" class=\"data row4 col3\" >1.392855</td>\n      <td id=\"T_0cb7f_row4_col4\" class=\"data row4 col4\" >-0.063328</td>\n      <td id=\"T_0cb7f_row4_col5\" class=\"data row4 col5\" >0.121668</td>\n    </tr>\n    <tr>\n      <th id=\"T_0cb7f_level0_row5\" class=\"row_heading level0 row5\" >5</th>\n      <td id=\"T_0cb7f_row5_col0\" class=\"data row5 col0\" >6.000000</td>\n      <td id=\"T_0cb7f_row5_col1\" class=\"data row5 col1\" >1.207603</td>\n      <td id=\"T_0cb7f_row5_col2\" class=\"data row5 col2\" >-0.002040</td>\n      <td id=\"T_0cb7f_row5_col3\" class=\"data row5 col3\" >1.627796</td>\n      <td id=\"T_0cb7f_row5_col4\" class=\"data row5 col4\" >0.354493</td>\n      <td id=\"T_0cb7f_row5_col5\" class=\"data row5 col5\" >1.037528</td>\n    </tr>\n    <tr>\n      <th id=\"T_0cb7f_level0_row6\" class=\"row_heading level0 row6\" >6</th>\n      <td id=\"T_0cb7f_row6_col0\" class=\"data row6 col0\" >7.000000</td>\n      <td id=\"T_0cb7f_row6_col1\" class=\"data row6 col1\" >-0.385684</td>\n      <td id=\"T_0cb7f_row6_col2\" class=\"data row6 col2\" >0.519818</td>\n      <td id=\"T_0cb7f_row6_col3\" class=\"data row6 col3\" >1.686583</td>\n      <td id=\"T_0cb7f_row6_col4\" class=\"data row6 col4\" >-1.325963</td>\n      <td id=\"T_0cb7f_row6_col5\" class=\"data row6 col5\" >1.428984</td>\n    </tr>\n    <tr>\n      <th id=\"T_0cb7f_level0_row7\" class=\"row_heading level0 row7\" >7</th>\n      <td id=\"T_0cb7f_row7_col0\" class=\"data row7 col0\" >8.000000</td>\n      <td id=\"T_0cb7f_row7_col1\" class=\"data row7 col1\" >-2.089354</td>\n      <td id=\"T_0cb7f_row7_col2\" class=\"data row7 col2\" >-0.129820</td>\n      <td id=\"T_0cb7f_row7_col3\" class=\"data row7 col3\" >0.631523</td>\n      <td id=\"T_0cb7f_row7_col4\" class=\"data row7 col4\" >-0.586538</td>\n      <td id=\"T_0cb7f_row7_col5\" class=\"data row7 col5\" >0.290720</td>\n    </tr>\n    <tr>\n      <th id=\"T_0cb7f_level0_row8\" class=\"row_heading level0 row8\" >8</th>\n      <td id=\"T_0cb7f_row8_col0\" class=\"data row8 col0\" >9.000000</td>\n      <td id=\"T_0cb7f_row8_col1\" class=\"data row8 col1\" >1.264103</td>\n      <td id=\"T_0cb7f_row8_col2\" class=\"data row8 col2\" >0.290035</td>\n      <td id=\"T_0cb7f_row8_col3\" class=\"data row8 col3\" >-1.970288</td>\n      <td id=\"T_0cb7f_row8_col4\" class=\"data row8 col4\" >0.803906</td>\n      <td id=\"T_0cb7f_row8_col5\" class=\"data row8 col5\" >1.030550</td>\n    </tr>\n    <tr>\n      <th id=\"T_0cb7f_level0_row9\" class=\"row_heading level0 row9\" >9</th>\n      <td id=\"T_0cb7f_row9_col0\" class=\"data row9 col0\" >10.000000</td>\n      <td id=\"T_0cb7f_row9_col1\" class=\"data row9 col1\" >0.118098</td>\n      <td id=\"T_0cb7f_row9_col2\" class=\"data row9 col2\" >-0.021853</td>\n      <td id=\"T_0cb7f_row9_col3\" class=\"data row9 col3\" >0.046841</td>\n      <td id=\"T_0cb7f_row9_col4\" class=\"data row9 col4\" >-1.628753</td>\n      <td id=\"T_0cb7f_row9_col5\" class=\"data row9 col5\" >-0.392361</td>\n    </tr>\n  </tbody>\n</table>\n"
     },
     "execution_count": 27,
     "metadata": {},
     "output_type": "execute_result"
    }
   ]
  },
  {
   "cell_type": "code",
   "metadata": {
    "id": "-cHAMWkfbylZ",
    "colab_type": "code",
    "outputId": "9c37931b-f9ab-4666-c27f-f57955c1c39b",
    "colab": {
     "base_uri": "https://localhost:8080/",
     "height": 304
    },
    "ExecuteTime": {
     "end_time": "2023-07-20T09:12:09.405832700Z",
     "start_time": "2023-07-20T09:12:09.102006700Z"
    }
   },
   "source": [
    "import seaborn as sns\n",
    "\n",
    "cm = sns.light_palette(\"pink\", as_cmap=True)\n",
    "\n",
    "s = df.style.background_gradient(cmap=cm)\n",
    "s"
   ],
   "execution_count": 28,
   "outputs": [
    {
     "data": {
      "text/plain": "<pandas.io.formats.style.Styler at 0x56af760>",
      "text/html": "<style type=\"text/css\">\n#T_5a5b9_row0_col0, #T_5a5b9_row0_col5, #T_5a5b9_row1_col4, #T_5a5b9_row7_col1, #T_5a5b9_row7_col2, #T_5a5b9_row8_col3, #T_5a5b9_row9_col4 {\n  background-color: #f3f0f0;\n  color: #000000;\n}\n#T_5a5b9_row0_col1, #T_5a5b9_row2_col2, #T_5a5b9_row6_col3, #T_5a5b9_row6_col5, #T_5a5b9_row8_col4, #T_5a5b9_row9_col0 {\n  background-color: #ffc0cb;\n  color: #000000;\n}\n#T_5a5b9_row0_col2 {\n  background-color: #000000;\n  color: #f1f1f1;\n}\n#T_5a5b9_row0_col3 {\n  background-color: #f8dae0;\n  color: #000000;\n}\n#T_5a5b9_row0_col4 {\n  background-color: #f6e3e7;\n  color: #000000;\n}\n#T_5a5b9_row1_col0 {\n  background-color: #f4ebec;\n  color: #000000;\n}\n#T_5a5b9_row1_col1 {\n  background-color: #f5e7e9;\n  color: #000000;\n}\n#T_5a5b9_row1_col2 {\n  background-color: #f7dfe3;\n  color: #000000;\n}\n#T_5a5b9_row1_col3 {\n  background-color: #fad2d9;\n  color: #000000;\n}\n#T_5a5b9_row1_col5 {\n  background-color: #f9d7dd;\n  color: #000000;\n}\n#T_5a5b9_row2_col0, #T_5a5b9_row4_col1 {\n  background-color: #f5e5e8;\n  color: #000000;\n}\n#T_5a5b9_row2_col1, #T_5a5b9_row2_col3, #T_5a5b9_row5_col4 {\n  background-color: #fdc9d2;\n  color: #000000;\n}\n#T_5a5b9_row2_col4, #T_5a5b9_row7_col3 {\n  background-color: #fcced6;\n  color: #000000;\n}\n#T_5a5b9_row2_col5 {\n  background-color: #f6e5e8;\n  color: #000000;\n}\n#T_5a5b9_row3_col0, #T_5a5b9_row4_col2 {\n  background-color: #f7e0e4;\n  color: #000000;\n}\n#T_5a5b9_row3_col1 {\n  background-color: #fdc7d0;\n  color: #000000;\n}\n#T_5a5b9_row3_col2 {\n  background-color: #fccad3;\n  color: #000000;\n}\n#T_5a5b9_row3_col3, #T_5a5b9_row5_col5, #T_5a5b9_row8_col5 {\n  background-color: #fdc8d1;\n  color: #000000;\n}\n#T_5a5b9_row3_col4 {\n  background-color: #fccdd5;\n  color: #000000;\n}\n#T_5a5b9_row3_col5 {\n  background-color: #fbd1d9;\n  color: #000000;\n}\n#T_5a5b9_row4_col0, #T_5a5b9_row7_col4 {\n  background-color: #f8dbe0;\n  color: #000000;\n}\n#T_5a5b9_row4_col3 {\n  background-color: #fec4ce;\n  color: #000000;\n}\n#T_5a5b9_row4_col4, #T_5a5b9_row9_col1 {\n  background-color: #fbd1d8;\n  color: #000000;\n}\n#T_5a5b9_row4_col5 {\n  background-color: #f9d9de;\n  color: #000000;\n}\n#T_5a5b9_row5_col0, #T_5a5b9_row9_col3 {\n  background-color: #fad5dc;\n  color: #000000;\n}\n#T_5a5b9_row5_col1 {\n  background-color: #ffc2cc;\n  color: #000000;\n}\n#T_5a5b9_row5_col2 {\n  background-color: #f4edee;\n  color: #000000;\n}\n#T_5a5b9_row5_col3, #T_5a5b9_row8_col1 {\n  background-color: #ffc1cc;\n  color: #000000;\n}\n#T_5a5b9_row6_col0 {\n  background-color: #fbd0d7;\n  color: #000000;\n}\n#T_5a5b9_row6_col1 {\n  background-color: #f9d8de;\n  color: #000000;\n}\n#T_5a5b9_row6_col2 {\n  background-color: #f7e1e4;\n  color: #000000;\n}\n#T_5a5b9_row6_col4 {\n  background-color: #f4eaec;\n  color: #000000;\n}\n#T_5a5b9_row7_col0 {\n  background-color: #fccbd3;\n  color: #000000;\n}\n#T_5a5b9_row7_col5 {\n  background-color: #f9d6dc;\n  color: #000000;\n}\n#T_5a5b9_row8_col0 {\n  background-color: #fec5cf;\n  color: #000000;\n}\n#T_5a5b9_row8_col2 {\n  background-color: #f5e6e9;\n  color: #000000;\n}\n#T_5a5b9_row9_col2 {\n  background-color: #f3eeee;\n  color: #000000;\n}\n#T_5a5b9_row9_col5 {\n  background-color: #f6e3e6;\n  color: #000000;\n}\n</style>\n<table id=\"T_5a5b9\">\n  <thead>\n    <tr>\n      <th class=\"blank level0\" >&nbsp;</th>\n      <th id=\"T_5a5b9_level0_col0\" class=\"col_heading level0 col0\" >F</th>\n      <th id=\"T_5a5b9_level0_col1\" class=\"col_heading level0 col1\" >E</th>\n      <th id=\"T_5a5b9_level0_col2\" class=\"col_heading level0 col2\" >D</th>\n      <th id=\"T_5a5b9_level0_col3\" class=\"col_heading level0 col3\" >C</th>\n      <th id=\"T_5a5b9_level0_col4\" class=\"col_heading level0 col4\" >B</th>\n      <th id=\"T_5a5b9_level0_col5\" class=\"col_heading level0 col5\" >A</th>\n    </tr>\n  </thead>\n  <tbody>\n    <tr>\n      <th id=\"T_5a5b9_level0_row0\" class=\"row_heading level0 row0\" >0</th>\n      <td id=\"T_5a5b9_row0_col0\" class=\"data row0 col0\" >1.000000</td>\n      <td id=\"T_5a5b9_row0_col1\" class=\"data row0 col1\" >1.329212</td>\n      <td id=\"T_5a5b9_row0_col2\" class=\"data row0 col2\" >nan</td>\n      <td id=\"T_5a5b9_row0_col3\" class=\"data row0 col3\" >-0.316280</td>\n      <td id=\"T_5a5b9_row0_col4\" class=\"data row0 col4\" >-0.990810</td>\n      <td id=\"T_5a5b9_row0_col5\" class=\"data row0 col5\" >-1.070816</td>\n    </tr>\n    <tr>\n      <th id=\"T_5a5b9_level0_row1\" class=\"row_heading level0 row1\" >1</th>\n      <td id=\"T_5a5b9_row1_col0\" class=\"data row1 col0\" >2.000000</td>\n      <td id=\"T_5a5b9_row1_col1\" class=\"data row1 col1\" >-1.438713</td>\n      <td id=\"T_5a5b9_row1_col2\" class=\"data row1 col2\" >0.564417</td>\n      <td id=\"T_5a5b9_row1_col3\" class=\"data row1 col3\" >0.295722</td>\n      <td id=\"T_5a5b9_row1_col4\" class=\"data row1 col4\" >-1.626404</td>\n      <td id=\"T_5a5b9_row1_col5\" class=\"data row1 col5\" >0.219565</td>\n    </tr>\n    <tr>\n      <th id=\"T_5a5b9_level0_row2\" class=\"row_heading level0 row2\" >2</th>\n      <td id=\"T_5a5b9_row2_col0\" class=\"data row2 col0\" >3.000000</td>\n      <td id=\"T_5a5b9_row2_col1\" class=\"data row2 col1\" >0.678805</td>\n      <td id=\"T_5a5b9_row2_col2\" class=\"data row2 col2\" >1.889273</td>\n      <td id=\"T_5a5b9_row2_col3\" class=\"data row2 col3\" >0.961538</td>\n      <td id=\"T_5a5b9_row2_col4\" class=\"data row2 col4\" >0.104011</td>\n      <td id=\"T_5a5b9_row2_col5\" class=\"data row2 col5\" >-0.481165</td>\n    </tr>\n    <tr>\n      <th id=\"T_5a5b9_level0_row3\" class=\"row_heading level0 row3\" >3</th>\n      <td id=\"T_5a5b9_row3_col0\" class=\"data row3 col0\" >4.000000</td>\n      <td id=\"T_5a5b9_row3_col1\" class=\"data row3 col1\" >0.850229</td>\n      <td id=\"T_5a5b9_row3_col2\" class=\"data row3 col2\" >1.453425</td>\n      <td id=\"T_5a5b9_row3_col3\" class=\"data row3 col3\" >1.057737</td>\n      <td id=\"T_5a5b9_row3_col4\" class=\"data row3 col4\" >0.165562</td>\n      <td id=\"T_5a5b9_row3_col5\" class=\"data row3 col5\" >0.515018</td>\n    </tr>\n    <tr>\n      <th id=\"T_5a5b9_level0_row4\" class=\"row_heading level0 row4\" >4</th>\n      <td id=\"T_5a5b9_row4_col0\" class=\"data row4 col0\" >5.000000</td>\n      <td id=\"T_5a5b9_row4_col1\" class=\"data row4 col1\" >-1.336936</td>\n      <td id=\"T_5a5b9_row4_col2\" class=\"data row4 col2\" >0.562861</td>\n      <td id=\"T_5a5b9_row4_col3\" class=\"data row4 col3\" >1.392855</td>\n      <td id=\"T_5a5b9_row4_col4\" class=\"data row4 col4\" >-0.063328</td>\n      <td id=\"T_5a5b9_row4_col5\" class=\"data row4 col5\" >0.121668</td>\n    </tr>\n    <tr>\n      <th id=\"T_5a5b9_level0_row5\" class=\"row_heading level0 row5\" >5</th>\n      <td id=\"T_5a5b9_row5_col0\" class=\"data row5 col0\" >6.000000</td>\n      <td id=\"T_5a5b9_row5_col1\" class=\"data row5 col1\" >1.207603</td>\n      <td id=\"T_5a5b9_row5_col2\" class=\"data row5 col2\" >-0.002040</td>\n      <td id=\"T_5a5b9_row5_col3\" class=\"data row5 col3\" >1.627796</td>\n      <td id=\"T_5a5b9_row5_col4\" class=\"data row5 col4\" >0.354493</td>\n      <td id=\"T_5a5b9_row5_col5\" class=\"data row5 col5\" >1.037528</td>\n    </tr>\n    <tr>\n      <th id=\"T_5a5b9_level0_row6\" class=\"row_heading level0 row6\" >6</th>\n      <td id=\"T_5a5b9_row6_col0\" class=\"data row6 col0\" >7.000000</td>\n      <td id=\"T_5a5b9_row6_col1\" class=\"data row6 col1\" >-0.385684</td>\n      <td id=\"T_5a5b9_row6_col2\" class=\"data row6 col2\" >0.519818</td>\n      <td id=\"T_5a5b9_row6_col3\" class=\"data row6 col3\" >1.686583</td>\n      <td id=\"T_5a5b9_row6_col4\" class=\"data row6 col4\" >-1.325963</td>\n      <td id=\"T_5a5b9_row6_col5\" class=\"data row6 col5\" >1.428984</td>\n    </tr>\n    <tr>\n      <th id=\"T_5a5b9_level0_row7\" class=\"row_heading level0 row7\" >7</th>\n      <td id=\"T_5a5b9_row7_col0\" class=\"data row7 col0\" >8.000000</td>\n      <td id=\"T_5a5b9_row7_col1\" class=\"data row7 col1\" >-2.089354</td>\n      <td id=\"T_5a5b9_row7_col2\" class=\"data row7 col2\" >-0.129820</td>\n      <td id=\"T_5a5b9_row7_col3\" class=\"data row7 col3\" >0.631523</td>\n      <td id=\"T_5a5b9_row7_col4\" class=\"data row7 col4\" >-0.586538</td>\n      <td id=\"T_5a5b9_row7_col5\" class=\"data row7 col5\" >0.290720</td>\n    </tr>\n    <tr>\n      <th id=\"T_5a5b9_level0_row8\" class=\"row_heading level0 row8\" >8</th>\n      <td id=\"T_5a5b9_row8_col0\" class=\"data row8 col0\" >9.000000</td>\n      <td id=\"T_5a5b9_row8_col1\" class=\"data row8 col1\" >1.264103</td>\n      <td id=\"T_5a5b9_row8_col2\" class=\"data row8 col2\" >0.290035</td>\n      <td id=\"T_5a5b9_row8_col3\" class=\"data row8 col3\" >-1.970288</td>\n      <td id=\"T_5a5b9_row8_col4\" class=\"data row8 col4\" >0.803906</td>\n      <td id=\"T_5a5b9_row8_col5\" class=\"data row8 col5\" >1.030550</td>\n    </tr>\n    <tr>\n      <th id=\"T_5a5b9_level0_row9\" class=\"row_heading level0 row9\" >9</th>\n      <td id=\"T_5a5b9_row9_col0\" class=\"data row9 col0\" >10.000000</td>\n      <td id=\"T_5a5b9_row9_col1\" class=\"data row9 col1\" >0.118098</td>\n      <td id=\"T_5a5b9_row9_col2\" class=\"data row9 col2\" >-0.021853</td>\n      <td id=\"T_5a5b9_row9_col3\" class=\"data row9 col3\" >0.046841</td>\n      <td id=\"T_5a5b9_row9_col4\" class=\"data row9 col4\" >-1.628753</td>\n      <td id=\"T_5a5b9_row9_col5\" class=\"data row9 col5\" >-0.392361</td>\n    </tr>\n  </tbody>\n</table>\n"
     },
     "execution_count": 28,
     "metadata": {},
     "output_type": "execute_result"
    }
   ]
  },
  {
   "cell_type": "code",
   "metadata": {
    "id": "3cIAiFAsmxvJ",
    "colab_type": "code",
    "outputId": "a4bcdd75-9222-47c5-8264-068a7968d60f",
    "colab": {
     "base_uri": "https://localhost:8080/",
     "height": 34
    },
    "ExecuteTime": {
     "end_time": "2023-07-20T09:12:09.440813200Z",
     "start_time": "2023-07-20T09:12:09.105004800Z"
    }
   },
   "source": [
    "class Disease:\n",
    "  def __init__(self, disease = 'Depression'):\n",
    "    self.type = disease\n",
    "    \n",
    "  def getName(self):\n",
    "    print(\"Mental Health Diseases: {0}\".format(self.type))\n",
    "\n",
    "d1 = Disease('Social Anxiety Disorder')\n",
    "d1.getName()"
   ],
   "execution_count": 29,
   "outputs": [
    {
     "name": "stdout",
     "output_type": "stream",
     "text": [
      "Mental Health Diseases: Social Anxiety Disorder\n"
     ]
    }
   ]
  },
  {
   "cell_type": "code",
   "metadata": {
    "id": "3Nfj3YSbm905",
    "colab_type": "code",
    "outputId": "6acd1884-87cd-4de3-9fbf-e84b3d5a8d3c",
    "colab": {
     "base_uri": "https://localhost:8080/",
     "height": 51
    },
    "ExecuteTime": {
     "end_time": "2023-07-20T09:12:15.304452800Z",
     "start_time": "2023-07-20T09:12:09.107004100Z"
    }
   },
   "source": [
    "try:\n",
    "  Value = int(input(\"Type a number between 1 and 10:\"))\n",
    "except ValueError:\n",
    "   print(\"You must type a number between 1 and 10!\")\n",
    "else:\n",
    "   if (Value > 0) and (Value <= 10):\n",
    "       print(\"You typed: \", Value)\n",
    "   else:\n",
    "       print(\"The value you typed is incorrect!\")"
   ],
   "execution_count": 30,
   "outputs": [
    {
     "name": "stdout",
     "output_type": "stream",
     "text": [
      "You typed:  5\n"
     ]
    }
   ]
  }
 ]
}
