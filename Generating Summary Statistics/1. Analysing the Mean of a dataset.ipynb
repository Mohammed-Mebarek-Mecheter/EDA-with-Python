{
 "cells": [
  {
   "cell_type": "markdown",
   "metadata": {},
   "source": [
    "#### Import relevant libraries"
   ],
   "id": "55f7847f182bd2d7"
  },
  {
   "cell_type": "code",
   "execution_count": 1,
   "metadata": {
    "ExecuteTime": {
     "end_time": "2023-08-03T15:42:35.747665200Z",
     "start_time": "2023-08-03T15:42:33.786009Z"
    }
   },
   "outputs": [],
   "source": [
    "import numpy as np\n",
    "import pandas as pd"
   ],
   "id": "ad7628db73f3b160"
  },
  {
   "cell_type": "markdown",
   "metadata": {},
   "source": [
    "#### Load data into dataframe"
   ],
   "id": "68e0d854ea590bd9"
  },
  {
   "cell_type": "code",
   "execution_count": 2,
   "metadata": {
    "ExecuteTime": {
     "end_time": "2023-08-03T15:42:36.025216500Z",
     "start_time": "2023-08-03T15:42:35.748665700Z"
    }
   },
   "outputs": [],
   "source": [
    "covid_data = pd.read_csv(\"data/covid-data.csv\")"
   ],
   "id": "5fc7cdebf868e6e7"
  },
  {
   "cell_type": "markdown",
   "metadata": {},
   "source": [
    "#### Inspect the dataframe"
   ],
   "id": "585fc33df513ebd3"
  },
  {
   "cell_type": "code",
   "execution_count": 3,
   "metadata": {
    "ExecuteTime": {
     "end_time": "2023-08-03T15:42:36.126652900Z",
     "start_time": "2023-08-03T15:42:36.027216100Z"
    }
   },
   "outputs": [
    {
     "data": {
      "text/plain": "  iso_code continent     location        date  total_cases  new_cases  \\\n0      AFG      Asia  Afghanistan  24/02/2020            5          5   \n1      AFG      Asia  Afghanistan  25/02/2020            5          0   \n2      AFG      Asia  Afghanistan  26/02/2020            5          0   \n3      AFG      Asia  Afghanistan  27/02/2020            5          0   \n4      AFG      Asia  Afghanistan  28/02/2020            5          0   \n\n   new_cases_smoothed  total_deaths  new_deaths  new_deaths_smoothed  ...  \\\n0                 NaN           NaN         NaN                  NaN  ...   \n1                 NaN           NaN         NaN                  NaN  ...   \n2                 NaN           NaN         NaN                  NaN  ...   \n3                 NaN           NaN         NaN                  NaN  ...   \n4                 NaN           NaN         NaN                  NaN  ...   \n\n   female_smokers  male_smokers  handwashing_facilities  \\\n0             NaN           NaN                  37.746   \n1             NaN           NaN                  37.746   \n2             NaN           NaN                  37.746   \n3             NaN           NaN                  37.746   \n4             NaN           NaN                  37.746   \n\n   hospital_beds_per_thousand  life_expectancy  human_development_index  \\\n0                         0.5            64.83                    0.511   \n1                         0.5            64.83                    0.511   \n2                         0.5            64.83                    0.511   \n3                         0.5            64.83                    0.511   \n4                         0.5            64.83                    0.511   \n\n   excess_mortality_cumulative_absolute  excess_mortality_cumulative  \\\n0                                   NaN                          NaN   \n1                                   NaN                          NaN   \n2                                   NaN                          NaN   \n3                                   NaN                          NaN   \n4                                   NaN                          NaN   \n\n   excess_mortality  excess_mortality_cumulative_per_million  \n0               NaN                                      NaN  \n1               NaN                                      NaN  \n2               NaN                                      NaN  \n3               NaN                                      NaN  \n4               NaN                                      NaN  \n\n[5 rows x 67 columns]",
      "text/html": "<div>\n<style scoped>\n    .dataframe tbody tr th:only-of-type {\n        vertical-align: middle;\n    }\n\n    .dataframe tbody tr th {\n        vertical-align: top;\n    }\n\n    .dataframe thead th {\n        text-align: right;\n    }\n</style>\n<table border=\"1\" class=\"dataframe\">\n  <thead>\n    <tr style=\"text-align: right;\">\n      <th></th>\n      <th>iso_code</th>\n      <th>continent</th>\n      <th>location</th>\n      <th>date</th>\n      <th>total_cases</th>\n      <th>new_cases</th>\n      <th>new_cases_smoothed</th>\n      <th>total_deaths</th>\n      <th>new_deaths</th>\n      <th>new_deaths_smoothed</th>\n      <th>...</th>\n      <th>female_smokers</th>\n      <th>male_smokers</th>\n      <th>handwashing_facilities</th>\n      <th>hospital_beds_per_thousand</th>\n      <th>life_expectancy</th>\n      <th>human_development_index</th>\n      <th>excess_mortality_cumulative_absolute</th>\n      <th>excess_mortality_cumulative</th>\n      <th>excess_mortality</th>\n      <th>excess_mortality_cumulative_per_million</th>\n    </tr>\n  </thead>\n  <tbody>\n    <tr>\n      <th>0</th>\n      <td>AFG</td>\n      <td>Asia</td>\n      <td>Afghanistan</td>\n      <td>24/02/2020</td>\n      <td>5</td>\n      <td>5</td>\n      <td>NaN</td>\n      <td>NaN</td>\n      <td>NaN</td>\n      <td>NaN</td>\n      <td>...</td>\n      <td>NaN</td>\n      <td>NaN</td>\n      <td>37.746</td>\n      <td>0.5</td>\n      <td>64.83</td>\n      <td>0.511</td>\n      <td>NaN</td>\n      <td>NaN</td>\n      <td>NaN</td>\n      <td>NaN</td>\n    </tr>\n    <tr>\n      <th>1</th>\n      <td>AFG</td>\n      <td>Asia</td>\n      <td>Afghanistan</td>\n      <td>25/02/2020</td>\n      <td>5</td>\n      <td>0</td>\n      <td>NaN</td>\n      <td>NaN</td>\n      <td>NaN</td>\n      <td>NaN</td>\n      <td>...</td>\n      <td>NaN</td>\n      <td>NaN</td>\n      <td>37.746</td>\n      <td>0.5</td>\n      <td>64.83</td>\n      <td>0.511</td>\n      <td>NaN</td>\n      <td>NaN</td>\n      <td>NaN</td>\n      <td>NaN</td>\n    </tr>\n    <tr>\n      <th>2</th>\n      <td>AFG</td>\n      <td>Asia</td>\n      <td>Afghanistan</td>\n      <td>26/02/2020</td>\n      <td>5</td>\n      <td>0</td>\n      <td>NaN</td>\n      <td>NaN</td>\n      <td>NaN</td>\n      <td>NaN</td>\n      <td>...</td>\n      <td>NaN</td>\n      <td>NaN</td>\n      <td>37.746</td>\n      <td>0.5</td>\n      <td>64.83</td>\n      <td>0.511</td>\n      <td>NaN</td>\n      <td>NaN</td>\n      <td>NaN</td>\n      <td>NaN</td>\n    </tr>\n    <tr>\n      <th>3</th>\n      <td>AFG</td>\n      <td>Asia</td>\n      <td>Afghanistan</td>\n      <td>27/02/2020</td>\n      <td>5</td>\n      <td>0</td>\n      <td>NaN</td>\n      <td>NaN</td>\n      <td>NaN</td>\n      <td>NaN</td>\n      <td>...</td>\n      <td>NaN</td>\n      <td>NaN</td>\n      <td>37.746</td>\n      <td>0.5</td>\n      <td>64.83</td>\n      <td>0.511</td>\n      <td>NaN</td>\n      <td>NaN</td>\n      <td>NaN</td>\n      <td>NaN</td>\n    </tr>\n    <tr>\n      <th>4</th>\n      <td>AFG</td>\n      <td>Asia</td>\n      <td>Afghanistan</td>\n      <td>28/02/2020</td>\n      <td>5</td>\n      <td>0</td>\n      <td>NaN</td>\n      <td>NaN</td>\n      <td>NaN</td>\n      <td>NaN</td>\n      <td>...</td>\n      <td>NaN</td>\n      <td>NaN</td>\n      <td>37.746</td>\n      <td>0.5</td>\n      <td>64.83</td>\n      <td>0.511</td>\n      <td>NaN</td>\n      <td>NaN</td>\n      <td>NaN</td>\n      <td>NaN</td>\n    </tr>\n  </tbody>\n</table>\n<p>5 rows × 67 columns</p>\n</div>"
     },
     "execution_count": 3,
     "metadata": {},
     "output_type": "execute_result"
    }
   ],
   "source": [
    "covid_data.head(5)"
   ],
   "id": "f436d9d2427730c2"
  },
  {
   "cell_type": "code",
   "execution_count": 4,
   "metadata": {
    "ExecuteTime": {
     "end_time": "2023-08-03T15:42:36.143345400Z",
     "start_time": "2023-08-03T15:42:36.123655100Z"
    }
   },
   "outputs": [],
   "source": [
    "covid_data = covid_data[['iso_code','continent','location','date','total_cases','new_cases']]"
   ],
   "id": "52c52f4c8d97955b"
  },
  {
   "cell_type": "code",
   "execution_count": 5,
   "metadata": {
    "scrolled": true,
    "ExecuteTime": {
     "end_time": "2023-08-03T15:42:36.327676100Z",
     "start_time": "2023-08-03T15:42:36.146344100Z"
    }
   },
   "outputs": [
    {
     "data": {
      "text/plain": "  iso_code continent     location        date  total_cases  new_cases\n0      AFG      Asia  Afghanistan  24/02/2020            5          5\n1      AFG      Asia  Afghanistan  25/02/2020            5          0\n2      AFG      Asia  Afghanistan  26/02/2020            5          0\n3      AFG      Asia  Afghanistan  27/02/2020            5          0\n4      AFG      Asia  Afghanistan  28/02/2020            5          0",
      "text/html": "<div>\n<style scoped>\n    .dataframe tbody tr th:only-of-type {\n        vertical-align: middle;\n    }\n\n    .dataframe tbody tr th {\n        vertical-align: top;\n    }\n\n    .dataframe thead th {\n        text-align: right;\n    }\n</style>\n<table border=\"1\" class=\"dataframe\">\n  <thead>\n    <tr style=\"text-align: right;\">\n      <th></th>\n      <th>iso_code</th>\n      <th>continent</th>\n      <th>location</th>\n      <th>date</th>\n      <th>total_cases</th>\n      <th>new_cases</th>\n    </tr>\n  </thead>\n  <tbody>\n    <tr>\n      <th>0</th>\n      <td>AFG</td>\n      <td>Asia</td>\n      <td>Afghanistan</td>\n      <td>24/02/2020</td>\n      <td>5</td>\n      <td>5</td>\n    </tr>\n    <tr>\n      <th>1</th>\n      <td>AFG</td>\n      <td>Asia</td>\n      <td>Afghanistan</td>\n      <td>25/02/2020</td>\n      <td>5</td>\n      <td>0</td>\n    </tr>\n    <tr>\n      <th>2</th>\n      <td>AFG</td>\n      <td>Asia</td>\n      <td>Afghanistan</td>\n      <td>26/02/2020</td>\n      <td>5</td>\n      <td>0</td>\n    </tr>\n    <tr>\n      <th>3</th>\n      <td>AFG</td>\n      <td>Asia</td>\n      <td>Afghanistan</td>\n      <td>27/02/2020</td>\n      <td>5</td>\n      <td>0</td>\n    </tr>\n    <tr>\n      <th>4</th>\n      <td>AFG</td>\n      <td>Asia</td>\n      <td>Afghanistan</td>\n      <td>28/02/2020</td>\n      <td>5</td>\n      <td>0</td>\n    </tr>\n  </tbody>\n</table>\n</div>"
     },
     "execution_count": 5,
     "metadata": {},
     "output_type": "execute_result"
    }
   ],
   "source": [
    "covid_data.head(5)"
   ],
   "id": "76974991658f182a"
  },
  {
   "cell_type": "code",
   "execution_count": 6,
   "metadata": {
    "scrolled": true,
    "ExecuteTime": {
     "end_time": "2023-08-03T15:42:36.420621400Z",
     "start_time": "2023-08-03T15:42:36.216745500Z"
    }
   },
   "outputs": [
    {
     "data": {
      "text/plain": "iso_code       object\ncontinent      object\nlocation       object\ndate           object\ntotal_cases     int64\nnew_cases       int64\ndtype: object"
     },
     "execution_count": 6,
     "metadata": {},
     "output_type": "execute_result"
    }
   ],
   "source": [
    "covid_data.dtypes"
   ],
   "id": "8edeb76dd6e0c85e"
  },
  {
   "cell_type": "code",
   "execution_count": 7,
   "metadata": {
    "ExecuteTime": {
     "end_time": "2023-08-03T15:42:36.422621100Z",
     "start_time": "2023-08-03T15:42:36.248087600Z"
    }
   },
   "outputs": [
    {
     "data": {
      "text/plain": "(5818, 6)"
     },
     "execution_count": 7,
     "metadata": {},
     "output_type": "execute_result"
    }
   ],
   "source": [
    "covid_data.shape"
   ],
   "id": "10ba738d031c5dd"
  },
  {
   "cell_type": "markdown",
   "metadata": {},
   "source": [
    "#### Analyse the mean of the new_cases column using the mean method in numpy"
   ],
   "id": "27d45c9149e4ad17"
  },
  {
   "cell_type": "code",
   "execution_count": 8,
   "metadata": {
    "ExecuteTime": {
     "end_time": "2023-08-03T15:42:36.508571700Z",
     "start_time": "2023-08-03T15:42:36.278669800Z"
    }
   },
   "outputs": [
    {
     "data": {
      "text/plain": "8814.365761430045"
     },
     "execution_count": 8,
     "metadata": {},
     "output_type": "execute_result"
    }
   ],
   "source": [
    "data_mean = np.mean(covid_data[\"new_cases\"])\n",
    "data_mean"
   ],
   "id": "731c0f2722746b9"
  },
  {
   "cell_type": "markdown",
   "metadata": {},
   "source": [
    "#### Analyse the mean of the new_cases column using the mean method in pandas"
   ],
   "id": "a91dfc2fe01b1b9f"
  },
  {
   "cell_type": "code",
   "execution_count": 9,
   "metadata": {
    "ExecuteTime": {
     "end_time": "2023-08-03T15:42:36.616508800Z",
     "start_time": "2023-08-03T15:42:36.308042800Z"
    }
   },
   "outputs": [
    {
     "data": {
      "text/plain": "8814.365761430045"
     },
     "execution_count": 9,
     "metadata": {},
     "output_type": "execute_result"
    }
   ],
   "source": [
    "data_mean = covid_data[\"new_cases\"].mean()\n",
    "data_mean"
   ],
   "id": "269e92d09496daad"
  }
 ],
 "metadata": {
  "kernelspec": {
   "display_name": "Python 3",
   "language": "python",
   "name": "python3"
  },
  "language_info": {
   "codemirror_mode": {
    "name": "ipython",
    "version": 3
   },
   "file_extension": ".py",
   "mimetype": "text/x-python",
   "name": "python",
   "nbconvert_exporter": "python",
   "pygments_lexer": "ipython3",
   "version": "3.7.1"
  }
 },
 "nbformat": 4,
 "nbformat_minor": 5
}
