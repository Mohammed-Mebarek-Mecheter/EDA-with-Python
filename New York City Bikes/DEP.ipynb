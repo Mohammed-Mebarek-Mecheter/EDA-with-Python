{
 "cells": [
  {
   "cell_type": "code",
   "id": "initial_id",
   "metadata": {
    "collapsed": true,
    "ExecuteTime": {
     "end_time": "2024-04-14T21:04:34.411630Z",
     "start_time": "2024-04-14T21:04:34.406137Z"
    }
   },
   "source": [
    "import pandas as pd\n",
    "import numpy as np\n",
    "import seaborn as sns"
   ],
   "outputs": [],
   "execution_count": 83
  },
  {
   "metadata": {
    "ExecuteTime": {
     "end_time": "2024-04-14T21:04:34.603266Z",
     "start_time": "2024-04-14T21:04:34.474090Z"
    }
   },
   "cell_type": "code",
   "source": "bikes = pd.read_csv(\"data/bikes.csv\")",
   "id": "b4f47981d41436ed",
   "outputs": [],
   "execution_count": 84
  },
  {
   "metadata": {
    "ExecuteTime": {
     "end_time": "2024-04-14T21:04:34.674275Z",
     "start_time": "2024-04-14T21:04:34.648375Z"
    }
   },
   "cell_type": "code",
   "source": "bikes.head()",
   "id": "ee06667b68cdc027",
   "outputs": [
    {
     "data": {
      "text/plain": [
       "      Start Time      Stop Time  Start Station ID Start Station Name  \\\n",
       "0  1/1/2017 0:38  1/1/2017 1:03              3194    McGinley Square   \n",
       "1  1/1/2017 1:47  1/1/2017 1:58              3183     Exchange Place   \n",
       "2  1/1/2017 1:47  1/1/2017 1:58              3183     Exchange Place   \n",
       "3  1/1/2017 1:56  1/1/2017 2:00              3186      Grove St PATH   \n",
       "4  1/1/2017 2:12  1/1/2017 2:23              3270    Jersey & 6th St   \n",
       "\n",
       "   End Station ID     End Station Name  Bike ID   User Type  Birth Year  Age  \\\n",
       "0            3271  Danforth Light Rail    24668  Subscriber        1961   60   \n",
       "1            3203        Hamilton Park    26167  Subscriber        1993   28   \n",
       "2            3203        Hamilton Park    26167  Subscriber        1993   28   \n",
       "3            3270      Jersey & 6th St    24604  Subscriber        1970   51   \n",
       "4            3206              Hilltop    24641  Subscriber        1978   43   \n",
       "\n",
       "  Age Groups  Trip Duration  Trip_Duration_in_min  Month  Season  Temperature  \\\n",
       "0      55-64           1513                    25      1  Winter           10   \n",
       "1      25-34            639                    11      1  Winter           10   \n",
       "2      25-34            639                    11      1  Winter           10   \n",
       "3      45-54            258                     4      1  Winter           10   \n",
       "4      35-44            663                    11      1  Winter           10   \n",
       "\n",
       "  Weekday  \n",
       "0  Sunday  \n",
       "1  Sunday  \n",
       "2  Sunday  \n",
       "3  Sunday  \n",
       "4  Sunday  "
      ],
      "text/html": [
       "<div>\n",
       "<style scoped>\n",
       "    .dataframe tbody tr th:only-of-type {\n",
       "        vertical-align: middle;\n",
       "    }\n",
       "\n",
       "    .dataframe tbody tr th {\n",
       "        vertical-align: top;\n",
       "    }\n",
       "\n",
       "    .dataframe thead th {\n",
       "        text-align: right;\n",
       "    }\n",
       "</style>\n",
       "<table border=\"1\" class=\"dataframe\">\n",
       "  <thead>\n",
       "    <tr style=\"text-align: right;\">\n",
       "      <th></th>\n",
       "      <th>Start Time</th>\n",
       "      <th>Stop Time</th>\n",
       "      <th>Start Station ID</th>\n",
       "      <th>Start Station Name</th>\n",
       "      <th>End Station ID</th>\n",
       "      <th>End Station Name</th>\n",
       "      <th>Bike ID</th>\n",
       "      <th>User Type</th>\n",
       "      <th>Birth Year</th>\n",
       "      <th>Age</th>\n",
       "      <th>Age Groups</th>\n",
       "      <th>Trip Duration</th>\n",
       "      <th>Trip_Duration_in_min</th>\n",
       "      <th>Month</th>\n",
       "      <th>Season</th>\n",
       "      <th>Temperature</th>\n",
       "      <th>Weekday</th>\n",
       "    </tr>\n",
       "  </thead>\n",
       "  <tbody>\n",
       "    <tr>\n",
       "      <th>0</th>\n",
       "      <td>1/1/2017 0:38</td>\n",
       "      <td>1/1/2017 1:03</td>\n",
       "      <td>3194</td>\n",
       "      <td>McGinley Square</td>\n",
       "      <td>3271</td>\n",
       "      <td>Danforth Light Rail</td>\n",
       "      <td>24668</td>\n",
       "      <td>Subscriber</td>\n",
       "      <td>1961</td>\n",
       "      <td>60</td>\n",
       "      <td>55-64</td>\n",
       "      <td>1513</td>\n",
       "      <td>25</td>\n",
       "      <td>1</td>\n",
       "      <td>Winter</td>\n",
       "      <td>10</td>\n",
       "      <td>Sunday</td>\n",
       "    </tr>\n",
       "    <tr>\n",
       "      <th>1</th>\n",
       "      <td>1/1/2017 1:47</td>\n",
       "      <td>1/1/2017 1:58</td>\n",
       "      <td>3183</td>\n",
       "      <td>Exchange Place</td>\n",
       "      <td>3203</td>\n",
       "      <td>Hamilton Park</td>\n",
       "      <td>26167</td>\n",
       "      <td>Subscriber</td>\n",
       "      <td>1993</td>\n",
       "      <td>28</td>\n",
       "      <td>25-34</td>\n",
       "      <td>639</td>\n",
       "      <td>11</td>\n",
       "      <td>1</td>\n",
       "      <td>Winter</td>\n",
       "      <td>10</td>\n",
       "      <td>Sunday</td>\n",
       "    </tr>\n",
       "    <tr>\n",
       "      <th>2</th>\n",
       "      <td>1/1/2017 1:47</td>\n",
       "      <td>1/1/2017 1:58</td>\n",
       "      <td>3183</td>\n",
       "      <td>Exchange Place</td>\n",
       "      <td>3203</td>\n",
       "      <td>Hamilton Park</td>\n",
       "      <td>26167</td>\n",
       "      <td>Subscriber</td>\n",
       "      <td>1993</td>\n",
       "      <td>28</td>\n",
       "      <td>25-34</td>\n",
       "      <td>639</td>\n",
       "      <td>11</td>\n",
       "      <td>1</td>\n",
       "      <td>Winter</td>\n",
       "      <td>10</td>\n",
       "      <td>Sunday</td>\n",
       "    </tr>\n",
       "    <tr>\n",
       "      <th>3</th>\n",
       "      <td>1/1/2017 1:56</td>\n",
       "      <td>1/1/2017 2:00</td>\n",
       "      <td>3186</td>\n",
       "      <td>Grove St PATH</td>\n",
       "      <td>3270</td>\n",
       "      <td>Jersey &amp; 6th St</td>\n",
       "      <td>24604</td>\n",
       "      <td>Subscriber</td>\n",
       "      <td>1970</td>\n",
       "      <td>51</td>\n",
       "      <td>45-54</td>\n",
       "      <td>258</td>\n",
       "      <td>4</td>\n",
       "      <td>1</td>\n",
       "      <td>Winter</td>\n",
       "      <td>10</td>\n",
       "      <td>Sunday</td>\n",
       "    </tr>\n",
       "    <tr>\n",
       "      <th>4</th>\n",
       "      <td>1/1/2017 2:12</td>\n",
       "      <td>1/1/2017 2:23</td>\n",
       "      <td>3270</td>\n",
       "      <td>Jersey &amp; 6th St</td>\n",
       "      <td>3206</td>\n",
       "      <td>Hilltop</td>\n",
       "      <td>24641</td>\n",
       "      <td>Subscriber</td>\n",
       "      <td>1978</td>\n",
       "      <td>43</td>\n",
       "      <td>35-44</td>\n",
       "      <td>663</td>\n",
       "      <td>11</td>\n",
       "      <td>1</td>\n",
       "      <td>Winter</td>\n",
       "      <td>10</td>\n",
       "      <td>Sunday</td>\n",
       "    </tr>\n",
       "  </tbody>\n",
       "</table>\n",
       "</div>"
      ]
     },
     "execution_count": 85,
     "metadata": {},
     "output_type": "execute_result"
    }
   ],
   "execution_count": 85
  },
  {
   "metadata": {
    "ExecuteTime": {
     "end_time": "2024-04-14T21:04:34.750311Z",
     "start_time": "2024-04-14T21:04:34.714941Z"
    }
   },
   "cell_type": "code",
   "source": "bikes.info()",
   "id": "93381e39959dfc8e",
   "outputs": [
    {
     "name": "stdout",
     "output_type": "stream",
     "text": [
      "<class 'pandas.core.frame.DataFrame'>\n",
      "RangeIndex: 20400 entries, 0 to 20399\n",
      "Data columns (total 17 columns):\n",
      " #   Column                Non-Null Count  Dtype \n",
      "---  ------                --------------  ----- \n",
      " 0   Start Time            20400 non-null  object\n",
      " 1   Stop Time             20400 non-null  object\n",
      " 2   Start Station ID      20400 non-null  int64 \n",
      " 3   Start Station Name    20400 non-null  object\n",
      " 4   End Station ID        20400 non-null  int64 \n",
      " 5   End Station Name      20399 non-null  object\n",
      " 6   Bike ID               20400 non-null  int64 \n",
      " 7   User Type             20400 non-null  object\n",
      " 8   Birth Year            20400 non-null  int64 \n",
      " 9   Age                   20400 non-null  int64 \n",
      " 10  Age Groups            20400 non-null  object\n",
      " 11  Trip Duration         20400 non-null  int64 \n",
      " 12  Trip_Duration_in_min  20400 non-null  int64 \n",
      " 13  Month                 20400 non-null  int64 \n",
      " 14  Season                20400 non-null  object\n",
      " 15  Temperature           20400 non-null  int64 \n",
      " 16  Weekday               20400 non-null  object\n",
      "dtypes: int64(9), object(8)\n",
      "memory usage: 2.6+ MB\n"
     ]
    }
   ],
   "execution_count": 86
  },
  {
   "metadata": {
    "ExecuteTime": {
     "end_time": "2024-04-14T21:04:35.623908Z",
     "start_time": "2024-04-14T21:04:34.875133Z"
    }
   },
   "cell_type": "code",
   "source": [
    "bikes[\"Start Time\"] = pd.to_datetime(bikes[\"Start Time\"])\n",
    "bikes[\"Stop Time\"] = pd.to_datetime(bikes[\"Stop Time\"])"
   ],
   "id": "974cdc58eb2d8f73",
   "outputs": [],
   "execution_count": 87
  },
  {
   "metadata": {
    "ExecuteTime": {
     "end_time": "2024-04-14T21:04:35.647420Z",
     "start_time": "2024-04-14T21:04:35.630904Z"
    }
   },
   "cell_type": "code",
   "source": "bikes.dtypes",
   "id": "527068f2339ea0f6",
   "outputs": [
    {
     "data": {
      "text/plain": [
       "Start Time              datetime64[ns]\n",
       "Stop Time               datetime64[ns]\n",
       "Start Station ID                 int64\n",
       "Start Station Name              object\n",
       "End Station ID                   int64\n",
       "End Station Name                object\n",
       "Bike ID                          int64\n",
       "User Type                       object\n",
       "Birth Year                       int64\n",
       "Age                              int64\n",
       "Age Groups                      object\n",
       "Trip Duration                    int64\n",
       "Trip_Duration_in_min             int64\n",
       "Month                            int64\n",
       "Season                          object\n",
       "Temperature                      int64\n",
       "Weekday                         object\n",
       "dtype: object"
      ]
     },
     "execution_count": 88,
     "metadata": {},
     "output_type": "execute_result"
    }
   ],
   "execution_count": 88
  },
  {
   "metadata": {
    "ExecuteTime": {
     "end_time": "2024-04-14T21:04:35.682318Z",
     "start_time": "2024-04-14T21:04:35.650476Z"
    }
   },
   "cell_type": "code",
   "source": [
    "print(bikes['Start Time'].isna().sum())\n",
    "print(bikes['Stop Time'].isna().sum())"
   ],
   "id": "fcbaf174cf3931b9",
   "outputs": [
    {
     "name": "stdout",
     "output_type": "stream",
     "text": [
      "0\n",
      "0\n"
     ]
    }
   ],
   "execution_count": 89
  },
  {
   "metadata": {
    "ExecuteTime": {
     "end_time": "2024-04-14T21:04:35.788567Z",
     "start_time": "2024-04-14T21:04:35.685317Z"
    }
   },
   "cell_type": "code",
   "source": [
    "# Identify rows and columns with inf values\n",
    "inf_rows = bikes[bikes.isin([float('inf'), -float('inf')]).any(axis=1)].index\n",
    "inf_cols = bikes.columns[bikes.isin([float('inf'), -float('inf')]).any()]\n",
    "\n",
    "print(\"Rows with infinite values:\")\n",
    "print(inf_rows)\n",
    "\n",
    "print(\"\\nColumns with infinite values:\")\n",
    "print(inf_cols)"
   ],
   "id": "d9993d8461f7e0c0",
   "outputs": [
    {
     "name": "stdout",
     "output_type": "stream",
     "text": [
      "Rows with infinite values:\n",
      "Index([], dtype='int64')\n",
      "\n",
      "Columns with infinite values:\n",
      "Index([], dtype='object')\n"
     ]
    }
   ],
   "execution_count": 90
  },
  {
   "metadata": {
    "ExecuteTime": {
     "end_time": "2024-04-14T21:04:35.849262Z",
     "start_time": "2024-04-14T21:04:35.795559Z"
    }
   },
   "cell_type": "code",
   "source": "bikes.replace([np.inf, -np.inf], np.nan, inplace=True)",
   "id": "772b77ba23dd5426",
   "outputs": [],
   "execution_count": 91
  },
  {
   "metadata": {
    "ExecuteTime": {
     "end_time": "2024-04-14T21:04:35.895356Z",
     "start_time": "2024-04-14T21:04:35.852261Z"
    }
   },
   "cell_type": "code",
   "source": [
    "# Check for inf values\n",
    "print(bikes.isin([float('inf'), -float('inf')]).sum())"
   ],
   "id": "4bbe15907ec707c6",
   "outputs": [
    {
     "name": "stdout",
     "output_type": "stream",
     "text": [
      "Start Time              0\n",
      "Stop Time               0\n",
      "Start Station ID        0\n",
      "Start Station Name      0\n",
      "End Station ID          0\n",
      "End Station Name        0\n",
      "Bike ID                 0\n",
      "User Type               0\n",
      "Birth Year              0\n",
      "Age                     0\n",
      "Age Groups              0\n",
      "Trip Duration           0\n",
      "Trip_Duration_in_min    0\n",
      "Month                   0\n",
      "Season                  0\n",
      "Temperature             0\n",
      "Weekday                 0\n",
      "dtype: int64\n"
     ]
    }
   ],
   "execution_count": 92
  },
  {
   "metadata": {
    "ExecuteTime": {
     "end_time": "2024-04-14T21:04:35.930011Z",
     "start_time": "2024-04-14T21:04:35.899428Z"
    }
   },
   "cell_type": "code",
   "source": "bikes.isna().sum()",
   "id": "4be93879febb898b",
   "outputs": [
    {
     "data": {
      "text/plain": [
       "Start Time              0\n",
       "Stop Time               0\n",
       "Start Station ID        0\n",
       "Start Station Name      0\n",
       "End Station ID          0\n",
       "End Station Name        1\n",
       "Bike ID                 0\n",
       "User Type               0\n",
       "Birth Year              0\n",
       "Age                     0\n",
       "Age Groups              0\n",
       "Trip Duration           0\n",
       "Trip_Duration_in_min    0\n",
       "Month                   0\n",
       "Season                  0\n",
       "Temperature             0\n",
       "Weekday                 0\n",
       "dtype: int64"
      ]
     },
     "execution_count": 93,
     "metadata": {},
     "output_type": "execute_result"
    }
   ],
   "execution_count": 93
  },
  {
   "metadata": {
    "ExecuteTime": {
     "end_time": "2024-04-14T21:04:35.971609Z",
     "start_time": "2024-04-14T21:04:35.935117Z"
    }
   },
   "cell_type": "code",
   "source": [
    "bikes = bikes.dropna()\n",
    "bikes.isna().sum()"
   ],
   "id": "a47972545d46a488",
   "outputs": [
    {
     "data": {
      "text/plain": [
       "Start Time              0\n",
       "Stop Time               0\n",
       "Start Station ID        0\n",
       "Start Station Name      0\n",
       "End Station ID          0\n",
       "End Station Name        0\n",
       "Bike ID                 0\n",
       "User Type               0\n",
       "Birth Year              0\n",
       "Age                     0\n",
       "Age Groups              0\n",
       "Trip Duration           0\n",
       "Trip_Duration_in_min    0\n",
       "Month                   0\n",
       "Season                  0\n",
       "Temperature             0\n",
       "Weekday                 0\n",
       "dtype: int64"
      ]
     },
     "execution_count": 94,
     "metadata": {},
     "output_type": "execute_result"
    }
   ],
   "execution_count": 94
  },
  {
   "metadata": {
    "ExecuteTime": {
     "end_time": "2024-04-14T21:04:36.009653Z",
     "start_time": "2024-04-14T21:04:35.976597Z"
    }
   },
   "cell_type": "code",
   "source": "bikes.info()",
   "id": "d35542d1454d280e",
   "outputs": [
    {
     "name": "stdout",
     "output_type": "stream",
     "text": [
      "<class 'pandas.core.frame.DataFrame'>\n",
      "Index: 20399 entries, 0 to 20399\n",
      "Data columns (total 17 columns):\n",
      " #   Column                Non-Null Count  Dtype         \n",
      "---  ------                --------------  -----         \n",
      " 0   Start Time            20399 non-null  datetime64[ns]\n",
      " 1   Stop Time             20399 non-null  datetime64[ns]\n",
      " 2   Start Station ID      20399 non-null  int64         \n",
      " 3   Start Station Name    20399 non-null  object        \n",
      " 4   End Station ID        20399 non-null  int64         \n",
      " 5   End Station Name      20399 non-null  object        \n",
      " 6   Bike ID               20399 non-null  int64         \n",
      " 7   User Type             20399 non-null  object        \n",
      " 8   Birth Year            20399 non-null  int64         \n",
      " 9   Age                   20399 non-null  int64         \n",
      " 10  Age Groups            20399 non-null  object        \n",
      " 11  Trip Duration         20399 non-null  int64         \n",
      " 12  Trip_Duration_in_min  20399 non-null  int64         \n",
      " 13  Month                 20399 non-null  int64         \n",
      " 14  Season                20399 non-null  object        \n",
      " 15  Temperature           20399 non-null  int64         \n",
      " 16  Weekday               20399 non-null  object        \n",
      "dtypes: datetime64[ns](2), int64(9), object(6)\n",
      "memory usage: 2.8+ MB\n"
     ]
    }
   ],
   "execution_count": 95
  },
  {
   "metadata": {
    "ExecuteTime": {
     "end_time": "2024-04-14T21:04:36.988812Z",
     "start_time": "2024-04-14T21:04:36.096160Z"
    }
   },
   "cell_type": "code",
   "source": [
    "# boxplot to check for outliers\n",
    "sns.boxplot(x=bikes[\"Age\"])"
   ],
   "id": "2a0440a589ef4070",
   "outputs": [
    {
     "data": {
      "text/plain": [
       "<Axes: xlabel='Age'>"
      ]
     },
     "execution_count": 96,
     "metadata": {},
     "output_type": "execute_result"
    },
    {
     "data": {
      "text/plain": [
       "<Figure size 640x480 with 1 Axes>"
      ],
      "image/png": "[encoded data removed]"
     },
     "metadata": {},
     "output_type": "display_data"
    }
   ],
   "execution_count": 96
  },
  {
   "metadata": {
    "ExecuteTime": {
     "end_time": "2024-04-14T21:04:37.620982Z",
     "start_time": "2024-04-14T21:04:36.993967Z"
    }
   },
   "cell_type": "code",
   "source": [
    "# boxplot to check for outliers\n",
    "sns.boxplot(x=bikes[\"Trip_Duration_in_min\"])"
   ],
   "id": "1c4ffee5fb662b4a",
   "outputs": [
    {
     "data": {
      "text/plain": [
       "<Axes: xlabel='Trip_Duration_in_min'>"
      ]
     },
     "execution_count": 97,
     "metadata": {},
     "output_type": "execute_result"
    },
    {
     "data": {
      "text/plain": [
       "<Figure size 640x480 with 1 Axes>"
      ],
      "image/png": "[encoded data removed]"
     },
     "metadata": {},
     "output_type": "display_data"
    }
   ],
   "execution_count": 97
  },
  {
   "metadata": {
    "ExecuteTime": {
     "end_time": "2024-04-14T21:04:38.122219Z",
     "start_time": "2024-04-14T21:04:37.623981Z"
    }
   },
   "cell_type": "code",
   "source": [
    "# boxplot to check for outliers\n",
    "sns.boxplot(x=bikes[\"Trip Duration\"])"
   ],
   "id": "a10f3f43a75a650f",
   "outputs": [
    {
     "data": {
      "text/plain": [
       "<Axes: xlabel='Trip Duration'>"
      ]
     },
     "execution_count": 98,
     "metadata": {},
     "output_type": "execute_result"
    },
    {
     "data": {
      "text/plain": [
       "<Figure size 640x480 with 1 Axes>"
      ],
      "image/png": "[encoded data removed]"
     },
     "metadata": {},
     "output_type": "display_data"
    }
   ],
   "execution_count": 98
  },
  {
   "metadata": {
    "ExecuteTime": {
     "end_time": "2024-04-14T21:04:38.162513Z",
     "start_time": "2024-04-14T21:04:38.126214Z"
    }
   },
   "cell_type": "code",
   "source": [
    "def detect_and_remove_outliers(data, columns):\n",
    "    for col in columns:\n",
    "        # Calculate the lower and upper bounds for outliers\n",
    "        q1 = data[col].quantile(0.25)\n",
    "        q3 = data[col].quantile(0.75)\n",
    "        iqr = q3 - q1\n",
    "        lower_bound = q1 - 1.5 * iqr\n",
    "        upper_bound = q3 + 1.5 * iqr\n",
    "\n",
    "        # Remove outliers\n",
    "        data = data[(data[col] >= lower_bound) & (data[col] <= upper_bound)]\n",
    "    return data\n",
    "\n",
    "# Columns to check for outliers\n",
    "columns_to_check = ['Age', 'Trip_Duration_in_min', 'Trip Duration']\n",
    "\n",
    "# Apply the function to remove outliers\n",
    "bikes = detect_and_remove_outliers(bikes, columns_to_check)"
   ],
   "id": "3a855b5032b99a49",
   "outputs": [],
   "execution_count": 99
  },
  {
   "metadata": {
    "ExecuteTime": {
     "end_time": "2024-04-14T21:04:38.517922Z",
     "start_time": "2024-04-14T21:04:38.166599Z"
    }
   },
   "cell_type": "code",
   "source": [
    "# boxplot to check for outliers\n",
    "sns.boxplot(x=bikes[\"Age\"])"
   ],
   "id": "59e2bed9bb86cea9",
   "outputs": [
    {
     "data": {
      "text/plain": [
       "<Axes: xlabel='Age'>"
      ]
     },
     "execution_count": 100,
     "metadata": {},
     "output_type": "execute_result"
    },
    {
     "data": {
      "text/plain": [
       "<Figure size 640x480 with 1 Axes>"
      ],
      "image/png": "[encoded data removed]"
     },
     "metadata": {},
     "output_type": "display_data"
    }
   ],
   "execution_count": 100
  },
  {
   "metadata": {
    "ExecuteTime": {
     "end_time": "2024-04-14T21:04:39.467898Z",
     "start_time": "2024-04-14T21:04:38.522986Z"
    }
   },
   "cell_type": "code",
   "source": [
    "# boxplot to check for outliers\n",
    "sns.boxplot(x=bikes[\"Trip_Duration_in_min\"])"
   ],
   "id": "aa71be1757b781b1",
   "outputs": [
    {
     "data": {
      "text/plain": [
       "<Axes: xlabel='Trip_Duration_in_min'>"
      ]
     },
     "execution_count": 101,
     "metadata": {},
     "output_type": "execute_result"
    },
    {
     "data": {
      "text/plain": [
       "<Figure size 640x480 with 1 Axes>"
      ],
      "image/png": "[encoded data removed]"
     },
     "metadata": {},
     "output_type": "display_data"
    }
   ],
   "execution_count": 101
  },
  {
   "metadata": {
    "ExecuteTime": {
     "end_time": "2024-04-14T21:04:39.900655Z",
     "start_time": "2024-04-14T21:04:39.470900Z"
    }
   },
   "cell_type": "code",
   "source": [
    "# boxplot to check for outliers\n",
    "sns.boxplot(x=bikes[\"Trip Duration\"])"
   ],
   "id": "c977daff84c7a812",
   "outputs": [
    {
     "data": {
      "text/plain": [
       "<Axes: xlabel='Trip Duration'>"
      ]
     },
     "execution_count": 102,
     "metadata": {},
     "output_type": "execute_result"
    },
    {
     "data": {
      "text/plain": [
       "<Figure size 640x480 with 1 Axes>"
      ],
      "image/png": "[encoded data removed]"
     },
     "metadata": {},
     "output_type": "display_data"
    }
   ],
   "execution_count": 102
  },
  {
   "metadata": {
    "ExecuteTime": {
     "end_time": "2024-04-14T21:04:39.926216Z",
     "start_time": "2024-04-14T21:04:39.903656Z"
    }
   },
   "cell_type": "code",
   "source": "bikes.info()",
   "id": "41483922b80727ef",
   "outputs": [
    {
     "name": "stdout",
     "output_type": "stream",
     "text": [
      "<class 'pandas.core.frame.DataFrame'>\n",
      "Index: 17886 entries, 1 to 20399\n",
      "Data columns (total 17 columns):\n",
      " #   Column                Non-Null Count  Dtype         \n",
      "---  ------                --------------  -----         \n",
      " 0   Start Time            17886 non-null  datetime64[ns]\n",
      " 1   Stop Time             17886 non-null  datetime64[ns]\n",
      " 2   Start Station ID      17886 non-null  int64         \n",
      " 3   Start Station Name    17886 non-null  object        \n",
      " 4   End Station ID        17886 non-null  int64         \n",
      " 5   End Station Name      17886 non-null  object        \n",
      " 6   Bike ID               17886 non-null  int64         \n",
      " 7   User Type             17886 non-null  object        \n",
      " 8   Birth Year            17886 non-null  int64         \n",
      " 9   Age                   17886 non-null  int64         \n",
      " 10  Age Groups            17886 non-null  object        \n",
      " 11  Trip Duration         17886 non-null  int64         \n",
      " 12  Trip_Duration_in_min  17886 non-null  int64         \n",
      " 13  Month                 17886 non-null  int64         \n",
      " 14  Season                17886 non-null  object        \n",
      " 15  Temperature           17886 non-null  int64         \n",
      " 16  Weekday               17886 non-null  object        \n",
      "dtypes: datetime64[ns](2), int64(9), object(6)\n",
      "memory usage: 2.5+ MB\n"
     ]
    }
   ],
   "execution_count": 103
  },
  {
   "metadata": {
    "ExecuteTime": {
     "end_time": "2024-04-14T21:04:40.284335Z",
     "start_time": "2024-04-14T21:04:39.929287Z"
    }
   },
   "cell_type": "code",
   "source": [
    "# save the cleaned data\n",
    "bikes.to_csv(\"data/bikes_clean.csv\", index=False)"
   ],
   "id": "6aef0e00d9684d5b",
   "outputs": [],
   "execution_count": 104
  }
 ],
 "metadata": {
  "kernelspec": {
   "display_name": "Python 3",
   "language": "python",
   "name": "python3"
  },
  "language_info": {
   "codemirror_mode": {
    "name": "ipython",
    "version": 2
   },
   "file_extension": ".py",
   "mimetype": "text/x-python",
   "name": "python",
   "nbconvert_exporter": "python",
   "pygments_lexer": "ipython2",
   "version": "2.7.6"
  }
 },
 "nbformat": 4,
 "nbformat_minor": 5
}
