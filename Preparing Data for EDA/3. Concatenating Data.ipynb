{
 "cells": [
  {
   "cell_type": "markdown",
   "id": "308eb41d",
   "metadata": {},
   "source": [
    "#### Import relevant libraries"
   ]
  },
  {
   "cell_type": "code",
   "execution_count": 1,
   "id": "0ae67507",
   "metadata": {
    "ExecuteTime": {
     "end_time": "2023-08-03T16:09:47.602655700Z",
     "start_time": "2023-08-03T16:09:38.816753900Z"
    }
   },
   "outputs": [],
   "source": [
    "import numpy as np\n",
    "import pandas as pd\n",
    "from scipy import stats"
   ]
  },
  {
   "cell_type": "markdown",
   "id": "b7fab64d",
   "metadata": {},
   "source": [
    "#### Load dataset"
   ]
  },
  {
   "cell_type": "code",
   "execution_count": 2,
   "id": "3a02fac1",
   "metadata": {
    "ExecuteTime": {
     "end_time": "2023-08-03T16:09:47.776554700Z",
     "start_time": "2023-08-03T16:09:47.447108500Z"
    }
   },
   "outputs": [],
   "source": [
    "marketing_sample1 = pd.read_csv(\"data/marketing_campaign_concat1.csv\")\n",
    "marketing_sample2 = pd.read_csv(\"data/marketing_campaign_concat2.csv\")"
   ]
  },
  {
   "cell_type": "markdown",
   "id": "4dff10d7",
   "metadata": {},
   "source": [
    "#### Inspect the datasets"
   ]
  },
  {
   "cell_type": "code",
   "execution_count": 3,
   "id": "3c526f8f",
   "metadata": {
    "ExecuteTime": {
     "end_time": "2023-08-03T16:09:47.805539Z",
     "start_time": "2023-08-03T16:09:47.505547600Z"
    }
   },
   "outputs": [
    {
     "data": {
      "text/plain": "(2240, 5)"
     },
     "execution_count": 3,
     "metadata": {},
     "output_type": "execute_result"
    }
   ],
   "source": [
    "marketing_sample1.shape"
   ]
  },
  {
   "cell_type": "code",
   "execution_count": 4,
   "id": "4fd0d150",
   "metadata": {
    "ExecuteTime": {
     "end_time": "2023-08-03T16:09:47.987955500Z",
     "start_time": "2023-08-03T16:09:47.598657900Z"
    }
   },
   "outputs": [
    {
     "data": {
      "text/plain": "     ID  Year_Birth   Education Marital_Status   Income\n0  5524        1957  Graduation         Single  58138.0\n1  2174        1954  Graduation         Single  46344.0\n2  4141        1965  Graduation       Together  71613.0\n3  6182        1984  Graduation       Together  26646.0\n4  5324        1981         PhD        Married  58293.0",
      "text/html": "<div>\n<style scoped>\n    .dataframe tbody tr th:only-of-type {\n        vertical-align: middle;\n    }\n\n    .dataframe tbody tr th {\n        vertical-align: top;\n    }\n\n    .dataframe thead th {\n        text-align: right;\n    }\n</style>\n<table border=\"1\" class=\"dataframe\">\n  <thead>\n    <tr style=\"text-align: right;\">\n      <th></th>\n      <th>ID</th>\n      <th>Year_Birth</th>\n      <th>Education</th>\n      <th>Marital_Status</th>\n      <th>Income</th>\n    </tr>\n  </thead>\n  <tbody>\n    <tr>\n      <th>0</th>\n      <td>5524</td>\n      <td>1957</td>\n      <td>Graduation</td>\n      <td>Single</td>\n      <td>58138.0</td>\n    </tr>\n    <tr>\n      <th>1</th>\n      <td>2174</td>\n      <td>1954</td>\n      <td>Graduation</td>\n      <td>Single</td>\n      <td>46344.0</td>\n    </tr>\n    <tr>\n      <th>2</th>\n      <td>4141</td>\n      <td>1965</td>\n      <td>Graduation</td>\n      <td>Together</td>\n      <td>71613.0</td>\n    </tr>\n    <tr>\n      <th>3</th>\n      <td>6182</td>\n      <td>1984</td>\n      <td>Graduation</td>\n      <td>Together</td>\n      <td>26646.0</td>\n    </tr>\n    <tr>\n      <th>4</th>\n      <td>5324</td>\n      <td>1981</td>\n      <td>PhD</td>\n      <td>Married</td>\n      <td>58293.0</td>\n    </tr>\n  </tbody>\n</table>\n</div>"
     },
     "execution_count": 4,
     "metadata": {},
     "output_type": "execute_result"
    }
   ],
   "source": [
    "marketing_sample1.head()"
   ]
  },
  {
   "cell_type": "code",
   "execution_count": 5,
   "id": "46db9a43",
   "metadata": {
    "ExecuteTime": {
     "end_time": "2023-08-03T16:09:47.991953900Z",
     "start_time": "2023-08-03T16:09:47.815700600Z"
    }
   },
   "outputs": [
    {
     "data": {
      "text/plain": "(2240, 5)"
     },
     "execution_count": 5,
     "metadata": {},
     "output_type": "execute_result"
    }
   ],
   "source": [
    "marketing_sample2.shape"
   ]
  },
  {
   "cell_type": "code",
   "execution_count": 6,
   "id": "7ad2538d",
   "metadata": {
    "ExecuteTime": {
     "end_time": "2023-08-03T16:09:48.432822600Z",
     "start_time": "2023-08-03T16:09:47.929988600Z"
    }
   },
   "outputs": [
    {
     "data": {
      "text/plain": "   NumDealsPurchases  NumWebPurchases  NumCatalogPurchases  NumStorePurchases  \\\n0                  3                8                   10                  4   \n1                  2                1                    1                  2   \n2                  1                8                    2                 10   \n3                  2                2                    0                  4   \n4                  5                5                    3                  6   \n\n   NumWebVisitsMonth  \n0                  7  \n1                  5  \n2                  4  \n3                  6  \n4                  5  ",
      "text/html": "<div>\n<style scoped>\n    .dataframe tbody tr th:only-of-type {\n        vertical-align: middle;\n    }\n\n    .dataframe tbody tr th {\n        vertical-align: top;\n    }\n\n    .dataframe thead th {\n        text-align: right;\n    }\n</style>\n<table border=\"1\" class=\"dataframe\">\n  <thead>\n    <tr style=\"text-align: right;\">\n      <th></th>\n      <th>NumDealsPurchases</th>\n      <th>NumWebPurchases</th>\n      <th>NumCatalogPurchases</th>\n      <th>NumStorePurchases</th>\n      <th>NumWebVisitsMonth</th>\n    </tr>\n  </thead>\n  <tbody>\n    <tr>\n      <th>0</th>\n      <td>3</td>\n      <td>8</td>\n      <td>10</td>\n      <td>4</td>\n      <td>7</td>\n    </tr>\n    <tr>\n      <th>1</th>\n      <td>2</td>\n      <td>1</td>\n      <td>1</td>\n      <td>2</td>\n      <td>5</td>\n    </tr>\n    <tr>\n      <th>2</th>\n      <td>1</td>\n      <td>8</td>\n      <td>2</td>\n      <td>10</td>\n      <td>4</td>\n    </tr>\n    <tr>\n      <th>3</th>\n      <td>2</td>\n      <td>2</td>\n      <td>0</td>\n      <td>4</td>\n      <td>6</td>\n    </tr>\n    <tr>\n      <th>4</th>\n      <td>5</td>\n      <td>5</td>\n      <td>3</td>\n      <td>6</td>\n      <td>5</td>\n    </tr>\n  </tbody>\n</table>\n</div>"
     },
     "execution_count": 6,
     "metadata": {},
     "output_type": "execute_result"
    }
   ],
   "source": [
    "marketing_sample2.head()"
   ]
  },
  {
   "cell_type": "markdown",
   "id": "e7eb50db",
   "metadata": {},
   "source": [
    "#### Concatenate the two datasets into one new dataset"
   ]
  },
  {
   "cell_type": "code",
   "execution_count": 7,
   "id": "d0e2db65",
   "metadata": {
    "ExecuteTime": {
     "end_time": "2023-08-03T16:09:48.556693300Z",
     "start_time": "2023-08-03T16:09:48.426825400Z"
    }
   },
   "outputs": [],
   "source": [
    "concatenated_data = pd.concat([marketing_sample1, marketing_sample2], axis = 1)"
   ]
  },
  {
   "cell_type": "code",
   "execution_count": 8,
   "id": "a29f35da",
   "metadata": {
    "ExecuteTime": {
     "end_time": "2023-08-03T16:09:48.627521900Z",
     "start_time": "2023-08-03T16:09:48.557692700Z"
    }
   },
   "outputs": [
    {
     "data": {
      "text/plain": "(2240, 10)"
     },
     "execution_count": 8,
     "metadata": {},
     "output_type": "execute_result"
    }
   ],
   "source": [
    "concatenated_data.shape"
   ]
  },
  {
   "cell_type": "code",
   "execution_count": 9,
   "id": "b6710e4a",
   "metadata": {
    "ExecuteTime": {
     "end_time": "2023-08-03T16:09:48.775207700Z",
     "start_time": "2023-08-03T16:09:48.626521900Z"
    }
   },
   "outputs": [
    {
     "data": {
      "text/plain": "     ID  Year_Birth   Education Marital_Status   Income  NumDealsPurchases  \\\n0  5524        1957  Graduation         Single  58138.0                  3   \n1  2174        1954  Graduation         Single  46344.0                  2   \n2  4141        1965  Graduation       Together  71613.0                  1   \n3  6182        1984  Graduation       Together  26646.0                  2   \n4  5324        1981         PhD        Married  58293.0                  5   \n\n   NumWebPurchases  NumCatalogPurchases  NumStorePurchases  NumWebVisitsMonth  \n0                8                   10                  4                  7  \n1                1                    1                  2                  5  \n2                8                    2                 10                  4  \n3                2                    0                  4                  6  \n4                5                    3                  6                  5  ",
      "text/html": "<div>\n<style scoped>\n    .dataframe tbody tr th:only-of-type {\n        vertical-align: middle;\n    }\n\n    .dataframe tbody tr th {\n        vertical-align: top;\n    }\n\n    .dataframe thead th {\n        text-align: right;\n    }\n</style>\n<table border=\"1\" class=\"dataframe\">\n  <thead>\n    <tr style=\"text-align: right;\">\n      <th></th>\n      <th>ID</th>\n      <th>Year_Birth</th>\n      <th>Education</th>\n      <th>Marital_Status</th>\n      <th>Income</th>\n      <th>NumDealsPurchases</th>\n      <th>NumWebPurchases</th>\n      <th>NumCatalogPurchases</th>\n      <th>NumStorePurchases</th>\n      <th>NumWebVisitsMonth</th>\n    </tr>\n  </thead>\n  <tbody>\n    <tr>\n      <th>0</th>\n      <td>5524</td>\n      <td>1957</td>\n      <td>Graduation</td>\n      <td>Single</td>\n      <td>58138.0</td>\n      <td>3</td>\n      <td>8</td>\n      <td>10</td>\n      <td>4</td>\n      <td>7</td>\n    </tr>\n    <tr>\n      <th>1</th>\n      <td>2174</td>\n      <td>1954</td>\n      <td>Graduation</td>\n      <td>Single</td>\n      <td>46344.0</td>\n      <td>2</td>\n      <td>1</td>\n      <td>1</td>\n      <td>2</td>\n      <td>5</td>\n    </tr>\n    <tr>\n      <th>2</th>\n      <td>4141</td>\n      <td>1965</td>\n      <td>Graduation</td>\n      <td>Together</td>\n      <td>71613.0</td>\n      <td>1</td>\n      <td>8</td>\n      <td>2</td>\n      <td>10</td>\n      <td>4</td>\n    </tr>\n    <tr>\n      <th>3</th>\n      <td>6182</td>\n      <td>1984</td>\n      <td>Graduation</td>\n      <td>Together</td>\n      <td>26646.0</td>\n      <td>2</td>\n      <td>2</td>\n      <td>0</td>\n      <td>4</td>\n      <td>6</td>\n    </tr>\n    <tr>\n      <th>4</th>\n      <td>5324</td>\n      <td>1981</td>\n      <td>PhD</td>\n      <td>Married</td>\n      <td>58293.0</td>\n      <td>5</td>\n      <td>5</td>\n      <td>3</td>\n      <td>6</td>\n      <td>5</td>\n    </tr>\n  </tbody>\n</table>\n</div>"
     },
     "execution_count": 9,
     "metadata": {},
     "output_type": "execute_result"
    }
   ],
   "source": [
    "concatenated_data.head()"
   ]
  }
 ],
 "metadata": {
  "kernelspec": {
   "display_name": "Python 3",
   "language": "python",
   "name": "python3"
  },
  "language_info": {
   "codemirror_mode": {
    "name": "ipython",
    "version": 3
   },
   "file_extension": ".py",
   "mimetype": "text/x-python",
   "name": "python",
   "nbconvert_exporter": "python",
   "pygments_lexer": "ipython3",
   "version": "3.7.1"
  }
 },
 "nbformat": 4,
 "nbformat_minor": 5
}
