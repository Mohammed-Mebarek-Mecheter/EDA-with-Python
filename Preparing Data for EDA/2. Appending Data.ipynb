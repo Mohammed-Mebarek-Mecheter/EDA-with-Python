{
 "cells": [
  {
   "cell_type": "markdown",
   "id": "5a15a23b",
   "metadata": {},
   "source": [
    "#### Import relevant libraries"
   ]
  },
  {
   "cell_type": "code",
   "execution_count": 1,
   "id": "0ae67507",
   "metadata": {
    "ExecuteTime": {
     "end_time": "2023-08-03T16:09:44.268322Z",
     "start_time": "2023-08-03T16:09:38.826748700Z"
    }
   },
   "outputs": [],
   "source": [
    "import numpy as np\n",
    "import pandas as pd"
   ]
  },
  {
   "cell_type": "markdown",
   "id": "5f5c3605",
   "metadata": {},
   "source": [
    "#### Load datasets"
   ]
  },
  {
   "cell_type": "code",
   "execution_count": 2,
   "id": "3a02fac1",
   "metadata": {
    "ExecuteTime": {
     "end_time": "2023-08-03T16:09:44.275317Z",
     "start_time": "2023-08-03T16:09:44.260325400Z"
    }
   },
   "outputs": [],
   "source": [
    "marketing_sample1 = pd.read_csv(\"data/marketing_campaign_append1.csv\")\n",
    "marketing_sample2 = pd.read_csv(\"data/marketing_campaign_append2.csv\")"
   ]
  },
  {
   "cell_type": "markdown",
   "id": "a3a9dc3b",
   "metadata": {},
   "source": [
    "#### Subset for relevant columns"
   ]
  },
  {
   "cell_type": "code",
   "execution_count": 3,
   "id": "9279d462",
   "metadata": {
    "ExecuteTime": {
     "end_time": "2023-08-03T16:09:44.276317100Z",
     "start_time": "2023-08-03T16:09:44.260325400Z"
    }
   },
   "outputs": [],
   "source": [
    "marketing_sample1 = marketing_sample1[['ID', 'Year_Birth', 'Education', 'Marital_Status',\n",
    "                'Income', 'Kidhome', 'Teenhome', 'Dt_Customer', \n",
    "                'Recency','NumStorePurchases', 'NumWebVisitsMonth']]"
   ]
  },
  {
   "cell_type": "code",
   "execution_count": 4,
   "id": "f56cf42c",
   "metadata": {
    "ExecuteTime": {
     "end_time": "2023-08-03T16:09:44.277316700Z",
     "start_time": "2023-08-03T16:09:44.260325400Z"
    }
   },
   "outputs": [],
   "source": [
    "marketing_sample2 = marketing_sample2[['ID', 'Year_Birth', 'Education', 'Marital_Status',\n",
    "                'Income', 'Kidhome', 'Teenhome', 'Dt_Customer', \n",
    "                'Recency','NumStorePurchases', 'NumWebVisitsMonth']]"
   ]
  },
  {
   "cell_type": "markdown",
   "id": "8bf11ede",
   "metadata": {},
   "source": [
    "#### Inspect the shape of the datasets and first 5 rows"
   ]
  },
  {
   "cell_type": "code",
   "execution_count": 5,
   "id": "7a2720f2",
   "metadata": {
    "ExecuteTime": {
     "end_time": "2023-08-03T16:09:44.281314Z",
     "start_time": "2023-08-03T16:09:44.260325400Z"
    }
   },
   "outputs": [
    {
     "data": {
      "text/plain": "(500, 11)"
     },
     "execution_count": 5,
     "metadata": {},
     "output_type": "execute_result"
    }
   ],
   "source": [
    "marketing_sample1.shape"
   ]
  },
  {
   "cell_type": "code",
   "execution_count": 6,
   "id": "a688bdd0",
   "metadata": {
    "ExecuteTime": {
     "end_time": "2023-08-03T16:09:44.283313800Z",
     "start_time": "2023-08-03T16:09:44.261324900Z"
    }
   },
   "outputs": [
    {
     "data": {
      "text/plain": "(500, 11)"
     },
     "execution_count": 6,
     "metadata": {},
     "output_type": "execute_result"
    }
   ],
   "source": [
    "marketing_sample2.shape"
   ]
  },
  {
   "cell_type": "code",
   "execution_count": 7,
   "id": "7ee15cda",
   "metadata": {
    "ExecuteTime": {
     "end_time": "2023-08-03T16:09:44.301304700Z",
     "start_time": "2023-08-03T16:09:44.261324900Z"
    }
   },
   "outputs": [
    {
     "data": {
      "text/plain": "     ID  Year_Birth   Education Marital_Status   Income  Kidhome  Teenhome  \\\n0  5524        1957  Graduation         Single  58138.0        0         0   \n1  2174        1954  Graduation         Single  46344.0        1         1   \n2  4141        1965  Graduation       Together  71613.0        0         0   \n3  6182        1984  Graduation       Together  26646.0        1         0   \n4  5324        1981         PhD        Married  58293.0        1         0   \n\n  Dt_Customer  Recency  NumStorePurchases  NumWebVisitsMonth  \n0  04/09/2012       58                  4                  7  \n1  08/03/2014       38                  2                  5  \n2  21/08/2013       26                 10                  4  \n3  10/02/2014       26                  4                  6  \n4  19/01/2014       94                  6                  5  ",
      "text/html": "<div>\n<style scoped>\n    .dataframe tbody tr th:only-of-type {\n        vertical-align: middle;\n    }\n\n    .dataframe tbody tr th {\n        vertical-align: top;\n    }\n\n    .dataframe thead th {\n        text-align: right;\n    }\n</style>\n<table border=\"1\" class=\"dataframe\">\n  <thead>\n    <tr style=\"text-align: right;\">\n      <th></th>\n      <th>ID</th>\n      <th>Year_Birth</th>\n      <th>Education</th>\n      <th>Marital_Status</th>\n      <th>Income</th>\n      <th>Kidhome</th>\n      <th>Teenhome</th>\n      <th>Dt_Customer</th>\n      <th>Recency</th>\n      <th>NumStorePurchases</th>\n      <th>NumWebVisitsMonth</th>\n    </tr>\n  </thead>\n  <tbody>\n    <tr>\n      <th>0</th>\n      <td>5524</td>\n      <td>1957</td>\n      <td>Graduation</td>\n      <td>Single</td>\n      <td>58138.0</td>\n      <td>0</td>\n      <td>0</td>\n      <td>04/09/2012</td>\n      <td>58</td>\n      <td>4</td>\n      <td>7</td>\n    </tr>\n    <tr>\n      <th>1</th>\n      <td>2174</td>\n      <td>1954</td>\n      <td>Graduation</td>\n      <td>Single</td>\n      <td>46344.0</td>\n      <td>1</td>\n      <td>1</td>\n      <td>08/03/2014</td>\n      <td>38</td>\n      <td>2</td>\n      <td>5</td>\n    </tr>\n    <tr>\n      <th>2</th>\n      <td>4141</td>\n      <td>1965</td>\n      <td>Graduation</td>\n      <td>Together</td>\n      <td>71613.0</td>\n      <td>0</td>\n      <td>0</td>\n      <td>21/08/2013</td>\n      <td>26</td>\n      <td>10</td>\n      <td>4</td>\n    </tr>\n    <tr>\n      <th>3</th>\n      <td>6182</td>\n      <td>1984</td>\n      <td>Graduation</td>\n      <td>Together</td>\n      <td>26646.0</td>\n      <td>1</td>\n      <td>0</td>\n      <td>10/02/2014</td>\n      <td>26</td>\n      <td>4</td>\n      <td>6</td>\n    </tr>\n    <tr>\n      <th>4</th>\n      <td>5324</td>\n      <td>1981</td>\n      <td>PhD</td>\n      <td>Married</td>\n      <td>58293.0</td>\n      <td>1</td>\n      <td>0</td>\n      <td>19/01/2014</td>\n      <td>94</td>\n      <td>6</td>\n      <td>5</td>\n    </tr>\n  </tbody>\n</table>\n</div>"
     },
     "execution_count": 7,
     "metadata": {},
     "output_type": "execute_result"
    }
   ],
   "source": [
    "marketing_sample1.head()"
   ]
  },
  {
   "cell_type": "code",
   "execution_count": 8,
   "id": "ff9c3768",
   "metadata": {
    "ExecuteTime": {
     "end_time": "2023-08-03T16:09:44.303302700Z",
     "start_time": "2023-08-03T16:09:44.262325Z"
    }
   },
   "outputs": [
    {
     "data": {
      "text/plain": "      ID  Year_Birth   Education Marital_Status  Income  Kidhome  Teenhome  \\\n0   9135        1950  Graduation       Together   27203        1         1   \n1    466        1944  Graduation        Married   65275        0         0   \n2   9135        1950  Graduation       Together   27203        1         1   \n3  10623        1961      Master       Together   48330        0         1   \n4   8151        1990       Basic        Married   24279        0         0   \n\n  Dt_Customer  Recency  NumStorePurchases  NumWebVisitsMonth  \n0  06/08/2012       92                  2                  8  \n1  03/04/2013        9                 13                  2  \n2  06/08/2012       92                  2                  8  \n3  15/11/2013        2                  3                  5  \n4  29/12/2012        6                  3                  8  ",
      "text/html": "<div>\n<style scoped>\n    .dataframe tbody tr th:only-of-type {\n        vertical-align: middle;\n    }\n\n    .dataframe tbody tr th {\n        vertical-align: top;\n    }\n\n    .dataframe thead th {\n        text-align: right;\n    }\n</style>\n<table border=\"1\" class=\"dataframe\">\n  <thead>\n    <tr style=\"text-align: right;\">\n      <th></th>\n      <th>ID</th>\n      <th>Year_Birth</th>\n      <th>Education</th>\n      <th>Marital_Status</th>\n      <th>Income</th>\n      <th>Kidhome</th>\n      <th>Teenhome</th>\n      <th>Dt_Customer</th>\n      <th>Recency</th>\n      <th>NumStorePurchases</th>\n      <th>NumWebVisitsMonth</th>\n    </tr>\n  </thead>\n  <tbody>\n    <tr>\n      <th>0</th>\n      <td>9135</td>\n      <td>1950</td>\n      <td>Graduation</td>\n      <td>Together</td>\n      <td>27203</td>\n      <td>1</td>\n      <td>1</td>\n      <td>06/08/2012</td>\n      <td>92</td>\n      <td>2</td>\n      <td>8</td>\n    </tr>\n    <tr>\n      <th>1</th>\n      <td>466</td>\n      <td>1944</td>\n      <td>Graduation</td>\n      <td>Married</td>\n      <td>65275</td>\n      <td>0</td>\n      <td>0</td>\n      <td>03/04/2013</td>\n      <td>9</td>\n      <td>13</td>\n      <td>2</td>\n    </tr>\n    <tr>\n      <th>2</th>\n      <td>9135</td>\n      <td>1950</td>\n      <td>Graduation</td>\n      <td>Together</td>\n      <td>27203</td>\n      <td>1</td>\n      <td>1</td>\n      <td>06/08/2012</td>\n      <td>92</td>\n      <td>2</td>\n      <td>8</td>\n    </tr>\n    <tr>\n      <th>3</th>\n      <td>10623</td>\n      <td>1961</td>\n      <td>Master</td>\n      <td>Together</td>\n      <td>48330</td>\n      <td>0</td>\n      <td>1</td>\n      <td>15/11/2013</td>\n      <td>2</td>\n      <td>3</td>\n      <td>5</td>\n    </tr>\n    <tr>\n      <th>4</th>\n      <td>8151</td>\n      <td>1990</td>\n      <td>Basic</td>\n      <td>Married</td>\n      <td>24279</td>\n      <td>0</td>\n      <td>0</td>\n      <td>29/12/2012</td>\n      <td>6</td>\n      <td>3</td>\n      <td>8</td>\n    </tr>\n  </tbody>\n</table>\n</div>"
     },
     "execution_count": 8,
     "metadata": {},
     "output_type": "execute_result"
    }
   ],
   "source": [
    "marketing_sample2.head()"
   ]
  },
  {
   "cell_type": "markdown",
   "id": "d0431fc3",
   "metadata": {},
   "source": [
    "#### Append the two datasets into one new dataset"
   ]
  },
  {
   "cell_type": "code",
   "execution_count": 9,
   "id": "bda28517",
   "metadata": {
    "ExecuteTime": {
     "end_time": "2023-08-03T16:09:44.304301800Z",
     "start_time": "2023-08-03T16:09:44.262325Z"
    }
   },
   "outputs": [],
   "source": [
    "appended_data = pd.concat([marketing_sample1, marketing_sample2])"
   ]
  },
  {
   "cell_type": "code",
   "execution_count": 10,
   "id": "c67c0655",
   "metadata": {
    "ExecuteTime": {
     "end_time": "2023-08-03T16:09:44.305302800Z",
     "start_time": "2023-08-03T16:09:44.262325Z"
    }
   },
   "outputs": [
    {
     "data": {
      "text/plain": "(1000, 11)"
     },
     "execution_count": 10,
     "metadata": {},
     "output_type": "execute_result"
    }
   ],
   "source": [
    "appended_data.shape"
   ]
  },
  {
   "cell_type": "code",
   "execution_count": 11,
   "id": "798b57a0",
   "metadata": {
    "ExecuteTime": {
     "end_time": "2023-08-03T16:09:44.311297400Z",
     "start_time": "2023-08-03T16:09:44.264324900Z"
    }
   },
   "outputs": [
    {
     "data": {
      "text/plain": "     ID  Year_Birth   Education Marital_Status   Income  Kidhome  Teenhome  \\\n0  5524        1957  Graduation         Single  58138.0        0         0   \n1  2174        1954  Graduation         Single  46344.0        1         1   \n2  4141        1965  Graduation       Together  71613.0        0         0   \n3  6182        1984  Graduation       Together  26646.0        1         0   \n4  5324        1981         PhD        Married  58293.0        1         0   \n\n  Dt_Customer  Recency  NumStorePurchases  NumWebVisitsMonth  \n0  04/09/2012       58                  4                  7  \n1  08/03/2014       38                  2                  5  \n2  21/08/2013       26                 10                  4  \n3  10/02/2014       26                  4                  6  \n4  19/01/2014       94                  6                  5  ",
      "text/html": "<div>\n<style scoped>\n    .dataframe tbody tr th:only-of-type {\n        vertical-align: middle;\n    }\n\n    .dataframe tbody tr th {\n        vertical-align: top;\n    }\n\n    .dataframe thead th {\n        text-align: right;\n    }\n</style>\n<table border=\"1\" class=\"dataframe\">\n  <thead>\n    <tr style=\"text-align: right;\">\n      <th></th>\n      <th>ID</th>\n      <th>Year_Birth</th>\n      <th>Education</th>\n      <th>Marital_Status</th>\n      <th>Income</th>\n      <th>Kidhome</th>\n      <th>Teenhome</th>\n      <th>Dt_Customer</th>\n      <th>Recency</th>\n      <th>NumStorePurchases</th>\n      <th>NumWebVisitsMonth</th>\n    </tr>\n  </thead>\n  <tbody>\n    <tr>\n      <th>0</th>\n      <td>5524</td>\n      <td>1957</td>\n      <td>Graduation</td>\n      <td>Single</td>\n      <td>58138.0</td>\n      <td>0</td>\n      <td>0</td>\n      <td>04/09/2012</td>\n      <td>58</td>\n      <td>4</td>\n      <td>7</td>\n    </tr>\n    <tr>\n      <th>1</th>\n      <td>2174</td>\n      <td>1954</td>\n      <td>Graduation</td>\n      <td>Single</td>\n      <td>46344.0</td>\n      <td>1</td>\n      <td>1</td>\n      <td>08/03/2014</td>\n      <td>38</td>\n      <td>2</td>\n      <td>5</td>\n    </tr>\n    <tr>\n      <th>2</th>\n      <td>4141</td>\n      <td>1965</td>\n      <td>Graduation</td>\n      <td>Together</td>\n      <td>71613.0</td>\n      <td>0</td>\n      <td>0</td>\n      <td>21/08/2013</td>\n      <td>26</td>\n      <td>10</td>\n      <td>4</td>\n    </tr>\n    <tr>\n      <th>3</th>\n      <td>6182</td>\n      <td>1984</td>\n      <td>Graduation</td>\n      <td>Together</td>\n      <td>26646.0</td>\n      <td>1</td>\n      <td>0</td>\n      <td>10/02/2014</td>\n      <td>26</td>\n      <td>4</td>\n      <td>6</td>\n    </tr>\n    <tr>\n      <th>4</th>\n      <td>5324</td>\n      <td>1981</td>\n      <td>PhD</td>\n      <td>Married</td>\n      <td>58293.0</td>\n      <td>1</td>\n      <td>0</td>\n      <td>19/01/2014</td>\n      <td>94</td>\n      <td>6</td>\n      <td>5</td>\n    </tr>\n  </tbody>\n</table>\n</div>"
     },
     "execution_count": 11,
     "metadata": {},
     "output_type": "execute_result"
    }
   ],
   "source": [
    "appended_data.head()"
   ]
  }
 ],
 "metadata": {
  "kernelspec": {
   "display_name": "Python 3",
   "language": "python",
   "name": "python3"
  },
  "language_info": {
   "codemirror_mode": {
    "name": "ipython",
    "version": 3
   },
   "file_extension": ".py",
   "mimetype": "text/x-python",
   "name": "python",
   "nbconvert_exporter": "python",
   "pygments_lexer": "ipython3",
   "version": "3.7.1"
  }
 },
 "nbformat": 4,
 "nbformat_minor": 5
}
