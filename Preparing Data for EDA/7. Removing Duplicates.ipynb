{
 "cells": [
  {
   "cell_type": "markdown",
   "id": "2dbc33b1",
   "metadata": {},
   "source": [
    "#### Import relevant libraries"
   ]
  },
  {
   "cell_type": "code",
   "execution_count": 1,
   "id": "0ae67507",
   "metadata": {
    "ExecuteTime": {
     "end_time": "2023-08-03T16:10:15.105606200Z",
     "start_time": "2023-08-03T16:10:13.004632100Z"
    }
   },
   "outputs": [],
   "source": [
    "import numpy as np\n",
    "import pandas as pd"
   ]
  },
  {
   "cell_type": "markdown",
   "id": "a2050fe1",
   "metadata": {},
   "source": [
    "#### Load dataset"
   ]
  },
  {
   "cell_type": "code",
   "execution_count": 2,
   "id": "3a02fac1",
   "metadata": {
    "ExecuteTime": {
     "end_time": "2023-08-03T16:10:15.306221800Z",
     "start_time": "2023-08-03T16:10:15.147580100Z"
    }
   },
   "outputs": [],
   "source": [
    "marketing_data = pd.read_csv(\"data/marketing_campaign.csv\")"
   ]
  },
  {
   "cell_type": "markdown",
   "id": "e81aa501",
   "metadata": {},
   "source": [
    "#### Subset for relevant columns"
   ]
  },
  {
   "cell_type": "code",
   "execution_count": 3,
   "id": "9279d462",
   "metadata": {
    "ExecuteTime": {
     "end_time": "2023-08-03T16:10:15.363579400Z",
     "start_time": "2023-08-03T16:10:15.309221Z"
    }
   },
   "outputs": [],
   "source": [
    "marketing_data = marketing_data[['Education', 'Marital_Status',\n",
    "                'Kidhome', 'Teenhome']]"
   ]
  },
  {
   "cell_type": "markdown",
   "id": "128c9ecd",
   "metadata": {},
   "source": [
    "#### Inspect first 5 rows and data types of the dataset"
   ]
  },
  {
   "cell_type": "code",
   "execution_count": 4,
   "id": "1f556097",
   "metadata": {
    "ExecuteTime": {
     "end_time": "2023-08-03T16:10:15.411430200Z",
     "start_time": "2023-08-03T16:10:15.366578600Z"
    }
   },
   "outputs": [
    {
     "data": {
      "text/plain": "    Education Marital_Status  Kidhome  Teenhome\n0  Graduation         Single        0         0\n1  Graduation         Single        1         1\n2  Graduation       Together        0         0\n3  Graduation       Together        1         0\n4         PhD        Married        1         0",
      "text/html": "<div>\n<style scoped>\n    .dataframe tbody tr th:only-of-type {\n        vertical-align: middle;\n    }\n\n    .dataframe tbody tr th {\n        vertical-align: top;\n    }\n\n    .dataframe thead th {\n        text-align: right;\n    }\n</style>\n<table border=\"1\" class=\"dataframe\">\n  <thead>\n    <tr style=\"text-align: right;\">\n      <th></th>\n      <th>Education</th>\n      <th>Marital_Status</th>\n      <th>Kidhome</th>\n      <th>Teenhome</th>\n    </tr>\n  </thead>\n  <tbody>\n    <tr>\n      <th>0</th>\n      <td>Graduation</td>\n      <td>Single</td>\n      <td>0</td>\n      <td>0</td>\n    </tr>\n    <tr>\n      <th>1</th>\n      <td>Graduation</td>\n      <td>Single</td>\n      <td>1</td>\n      <td>1</td>\n    </tr>\n    <tr>\n      <th>2</th>\n      <td>Graduation</td>\n      <td>Together</td>\n      <td>0</td>\n      <td>0</td>\n    </tr>\n    <tr>\n      <th>3</th>\n      <td>Graduation</td>\n      <td>Together</td>\n      <td>1</td>\n      <td>0</td>\n    </tr>\n    <tr>\n      <th>4</th>\n      <td>PhD</td>\n      <td>Married</td>\n      <td>1</td>\n      <td>0</td>\n    </tr>\n  </tbody>\n</table>\n</div>"
     },
     "execution_count": 4,
     "metadata": {},
     "output_type": "execute_result"
    }
   ],
   "source": [
    "marketing_data.head()"
   ]
  },
  {
   "cell_type": "code",
   "execution_count": 5,
   "id": "b3601b62",
   "metadata": {
    "ExecuteTime": {
     "end_time": "2023-08-03T16:10:15.851520300Z",
     "start_time": "2023-08-03T16:10:15.528363500Z"
    }
   },
   "outputs": [
    {
     "data": {
      "text/plain": "(2240, 4)"
     },
     "execution_count": 5,
     "metadata": {},
     "output_type": "execute_result"
    }
   ],
   "source": [
    "marketing_data.shape"
   ]
  },
  {
   "cell_type": "markdown",
   "id": "46f24ec2",
   "metadata": {},
   "source": [
    "#### Remove duplicates across the four columns"
   ]
  },
  {
   "cell_type": "code",
   "execution_count": 6,
   "id": "fe10f0a2",
   "metadata": {
    "ExecuteTime": {
     "end_time": "2023-08-03T16:10:15.852520100Z",
     "start_time": "2023-08-03T16:10:15.815181100Z"
    }
   },
   "outputs": [],
   "source": [
    "marketing_data_duplicate = marketing_data.drop_duplicates()"
   ]
  },
  {
   "cell_type": "code",
   "execution_count": 7,
   "id": "bf5c8316",
   "metadata": {
    "ExecuteTime": {
     "end_time": "2023-08-03T16:10:15.920755Z",
     "start_time": "2023-08-03T16:10:15.831531700Z"
    }
   },
   "outputs": [
    {
     "data": {
      "text/plain": "       Education Marital_Status  Kidhome  Teenhome\n0     Graduation         Single        0         0\n1     Graduation         Single        1         1\n2     Graduation       Together        0         0\n3     Graduation       Together        1         0\n4            PhD        Married        1         0\n...          ...            ...      ...       ...\n2134      Master         Absurd        0         0\n2147      Master       Together        1         2\n2177         PhD           YOLO        0         1\n2208       Basic       Together        0         1\n2223      Master        Married        1         2\n\n[135 rows x 4 columns]",
      "text/html": "<div>\n<style scoped>\n    .dataframe tbody tr th:only-of-type {\n        vertical-align: middle;\n    }\n\n    .dataframe tbody tr th {\n        vertical-align: top;\n    }\n\n    .dataframe thead th {\n        text-align: right;\n    }\n</style>\n<table border=\"1\" class=\"dataframe\">\n  <thead>\n    <tr style=\"text-align: right;\">\n      <th></th>\n      <th>Education</th>\n      <th>Marital_Status</th>\n      <th>Kidhome</th>\n      <th>Teenhome</th>\n    </tr>\n  </thead>\n  <tbody>\n    <tr>\n      <th>0</th>\n      <td>Graduation</td>\n      <td>Single</td>\n      <td>0</td>\n      <td>0</td>\n    </tr>\n    <tr>\n      <th>1</th>\n      <td>Graduation</td>\n      <td>Single</td>\n      <td>1</td>\n      <td>1</td>\n    </tr>\n    <tr>\n      <th>2</th>\n      <td>Graduation</td>\n      <td>Together</td>\n      <td>0</td>\n      <td>0</td>\n    </tr>\n    <tr>\n      <th>3</th>\n      <td>Graduation</td>\n      <td>Together</td>\n      <td>1</td>\n      <td>0</td>\n    </tr>\n    <tr>\n      <th>4</th>\n      <td>PhD</td>\n      <td>Married</td>\n      <td>1</td>\n      <td>0</td>\n    </tr>\n    <tr>\n      <th>...</th>\n      <td>...</td>\n      <td>...</td>\n      <td>...</td>\n      <td>...</td>\n    </tr>\n    <tr>\n      <th>2134</th>\n      <td>Master</td>\n      <td>Absurd</td>\n      <td>0</td>\n      <td>0</td>\n    </tr>\n    <tr>\n      <th>2147</th>\n      <td>Master</td>\n      <td>Together</td>\n      <td>1</td>\n      <td>2</td>\n    </tr>\n    <tr>\n      <th>2177</th>\n      <td>PhD</td>\n      <td>YOLO</td>\n      <td>0</td>\n      <td>1</td>\n    </tr>\n    <tr>\n      <th>2208</th>\n      <td>Basic</td>\n      <td>Together</td>\n      <td>0</td>\n      <td>1</td>\n    </tr>\n    <tr>\n      <th>2223</th>\n      <td>Master</td>\n      <td>Married</td>\n      <td>1</td>\n      <td>2</td>\n    </tr>\n  </tbody>\n</table>\n<p>135 rows × 4 columns</p>\n</div>"
     },
     "execution_count": 7,
     "metadata": {},
     "output_type": "execute_result"
    }
   ],
   "source": [
    "marketing_data_duplicate"
   ]
  },
  {
   "cell_type": "code",
   "execution_count": 8,
   "id": "22f77944",
   "metadata": {
    "ExecuteTime": {
     "end_time": "2023-08-03T16:10:15.925751400Z",
     "start_time": "2023-08-03T16:10:15.886295400Z"
    }
   },
   "outputs": [
    {
     "data": {
      "text/plain": "(135, 4)"
     },
     "execution_count": 8,
     "metadata": {},
     "output_type": "execute_result"
    }
   ],
   "source": [
    "marketing_data_duplicate.shape"
   ]
  }
 ],
 "metadata": {
  "kernelspec": {
   "display_name": "Python 3",
   "language": "python",
   "name": "python3"
  },
  "language_info": {
   "codemirror_mode": {
    "name": "ipython",
    "version": 3
   },
   "file_extension": ".py",
   "mimetype": "text/x-python",
   "name": "python",
   "nbconvert_exporter": "python",
   "pygments_lexer": "ipython3",
   "version": "3.7.1"
  }
 },
 "nbformat": 4,
 "nbformat_minor": 5
}
