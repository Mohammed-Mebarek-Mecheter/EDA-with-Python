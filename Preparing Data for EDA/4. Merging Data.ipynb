{
 "cells": [
  {
   "cell_type": "markdown",
   "id": "308eb41d",
   "metadata": {},
   "source": [
    "#### Import relevant libraries"
   ]
  },
  {
   "cell_type": "code",
   "execution_count": 1,
   "id": "0ae67507",
   "metadata": {
    "ExecuteTime": {
     "end_time": "2023-08-03T16:09:44.274317900Z",
     "start_time": "2023-08-03T16:09:40.915549600Z"
    }
   },
   "outputs": [],
   "source": [
    "import numpy as np\n",
    "import pandas as pd"
   ]
  },
  {
   "cell_type": "markdown",
   "id": "b7fab64d",
   "metadata": {},
   "source": [
    "#### Load dataset"
   ]
  },
  {
   "cell_type": "code",
   "execution_count": 2,
   "id": "3a02fac1",
   "metadata": {
    "ExecuteTime": {
     "end_time": "2023-08-03T16:09:44.275317Z",
     "start_time": "2023-08-03T16:09:44.260325400Z"
    }
   },
   "outputs": [],
   "source": [
    "marketing_sample1 = pd.read_csv(\"data/marketing_campaign_merge1.csv\")\n",
    "marketing_sample2 = pd.read_csv(\"data/marketing_campaign_merge2.csv\")"
   ]
  },
  {
   "cell_type": "markdown",
   "id": "4dff10d7",
   "metadata": {},
   "source": [
    "#### Inspect the datasets"
   ]
  },
  {
   "cell_type": "code",
   "execution_count": 3,
   "id": "3c526f8f",
   "metadata": {
    "ExecuteTime": {
     "end_time": "2023-08-03T16:09:44.277316700Z",
     "start_time": "2023-08-03T16:09:44.260325400Z"
    }
   },
   "outputs": [
    {
     "data": {
      "text/plain": "(2240, 3)"
     },
     "execution_count": 3,
     "metadata": {},
     "output_type": "execute_result"
    }
   ],
   "source": [
    "marketing_sample1.shape"
   ]
  },
  {
   "cell_type": "code",
   "execution_count": 4,
   "id": "4fd0d150",
   "metadata": {
    "ExecuteTime": {
     "end_time": "2023-08-03T16:09:44.279315400Z",
     "start_time": "2023-08-03T16:09:44.260325400Z"
    }
   },
   "outputs": [
    {
     "data": {
      "text/plain": "     ID  Year_Birth   Education\n0  5524        1957  Graduation\n1  2174        1954  Graduation\n2  4141        1965  Graduation\n3  6182        1984  Graduation\n4  5324        1981         PhD",
      "text/html": "<div>\n<style scoped>\n    .dataframe tbody tr th:only-of-type {\n        vertical-align: middle;\n    }\n\n    .dataframe tbody tr th {\n        vertical-align: top;\n    }\n\n    .dataframe thead th {\n        text-align: right;\n    }\n</style>\n<table border=\"1\" class=\"dataframe\">\n  <thead>\n    <tr style=\"text-align: right;\">\n      <th></th>\n      <th>ID</th>\n      <th>Year_Birth</th>\n      <th>Education</th>\n    </tr>\n  </thead>\n  <tbody>\n    <tr>\n      <th>0</th>\n      <td>5524</td>\n      <td>1957</td>\n      <td>Graduation</td>\n    </tr>\n    <tr>\n      <th>1</th>\n      <td>2174</td>\n      <td>1954</td>\n      <td>Graduation</td>\n    </tr>\n    <tr>\n      <th>2</th>\n      <td>4141</td>\n      <td>1965</td>\n      <td>Graduation</td>\n    </tr>\n    <tr>\n      <th>3</th>\n      <td>6182</td>\n      <td>1984</td>\n      <td>Graduation</td>\n    </tr>\n    <tr>\n      <th>4</th>\n      <td>5324</td>\n      <td>1981</td>\n      <td>PhD</td>\n    </tr>\n  </tbody>\n</table>\n</div>"
     },
     "execution_count": 4,
     "metadata": {},
     "output_type": "execute_result"
    }
   ],
   "source": [
    "marketing_sample1.head()"
   ]
  },
  {
   "cell_type": "code",
   "execution_count": 5,
   "id": "a3f169c0",
   "metadata": {
    "ExecuteTime": {
     "end_time": "2023-08-03T16:09:44.282313400Z",
     "start_time": "2023-08-03T16:09:44.261324900Z"
    }
   },
   "outputs": [
    {
     "data": {
      "text/plain": "(2240, 3)"
     },
     "execution_count": 5,
     "metadata": {},
     "output_type": "execute_result"
    }
   ],
   "source": [
    "marketing_sample1.shape"
   ]
  },
  {
   "cell_type": "code",
   "execution_count": 6,
   "id": "0eefc061",
   "metadata": {
    "ExecuteTime": {
     "end_time": "2023-08-03T16:09:44.284312900Z",
     "start_time": "2023-08-03T16:09:44.261324900Z"
    }
   },
   "outputs": [
    {
     "data": {
      "text/plain": "     ID Marital_Status   Income\n0  5524         Single  58138.0\n1  2174         Single  46344.0\n2  4141       Together  71613.0\n3  6182       Together  26646.0\n4  5324        Married  58293.0",
      "text/html": "<div>\n<style scoped>\n    .dataframe tbody tr th:only-of-type {\n        vertical-align: middle;\n    }\n\n    .dataframe tbody tr th {\n        vertical-align: top;\n    }\n\n    .dataframe thead th {\n        text-align: right;\n    }\n</style>\n<table border=\"1\" class=\"dataframe\">\n  <thead>\n    <tr style=\"text-align: right;\">\n      <th></th>\n      <th>ID</th>\n      <th>Marital_Status</th>\n      <th>Income</th>\n    </tr>\n  </thead>\n  <tbody>\n    <tr>\n      <th>0</th>\n      <td>5524</td>\n      <td>Single</td>\n      <td>58138.0</td>\n    </tr>\n    <tr>\n      <th>1</th>\n      <td>2174</td>\n      <td>Single</td>\n      <td>46344.0</td>\n    </tr>\n    <tr>\n      <th>2</th>\n      <td>4141</td>\n      <td>Together</td>\n      <td>71613.0</td>\n    </tr>\n    <tr>\n      <th>3</th>\n      <td>6182</td>\n      <td>Together</td>\n      <td>26646.0</td>\n    </tr>\n    <tr>\n      <th>4</th>\n      <td>5324</td>\n      <td>Married</td>\n      <td>58293.0</td>\n    </tr>\n  </tbody>\n</table>\n</div>"
     },
     "execution_count": 6,
     "metadata": {},
     "output_type": "execute_result"
    }
   ],
   "source": [
    "marketing_sample2.head()"
   ]
  },
  {
   "cell_type": "code",
   "execution_count": 7,
   "id": "46db9a43",
   "metadata": {
    "ExecuteTime": {
     "end_time": "2023-08-03T16:09:44.300303Z",
     "start_time": "2023-08-03T16:09:44.261324900Z"
    }
   },
   "outputs": [
    {
     "data": {
      "text/plain": "(2240, 3)"
     },
     "execution_count": 7,
     "metadata": {},
     "output_type": "execute_result"
    }
   ],
   "source": [
    "marketing_sample2.shape"
   ]
  },
  {
   "cell_type": "markdown",
   "id": "e7eb50db",
   "metadata": {},
   "source": [
    "#### Merge the two datasets into one new dataset based on the common column (i.e. ID)"
   ]
  },
  {
   "cell_type": "code",
   "execution_count": 8,
   "id": "d0e2db65",
   "metadata": {
    "ExecuteTime": {
     "end_time": "2023-08-03T16:09:44.341963700Z",
     "start_time": "2023-08-03T16:09:44.261324900Z"
    }
   },
   "outputs": [],
   "source": [
    "merged_data = pd.merge(marketing_sample1,marketing_sample2,on = \"ID\")"
   ]
  },
  {
   "cell_type": "code",
   "execution_count": 9,
   "id": "a29f35da",
   "metadata": {
    "ExecuteTime": {
     "end_time": "2023-08-03T16:09:44.585275300Z",
     "start_time": "2023-08-03T16:09:44.291309100Z"
    }
   },
   "outputs": [
    {
     "data": {
      "text/plain": "(2240, 5)"
     },
     "execution_count": 9,
     "metadata": {},
     "output_type": "execute_result"
    }
   ],
   "source": [
    "merged_data.shape"
   ]
  },
  {
   "cell_type": "code",
   "execution_count": 10,
   "id": "b6710e4a",
   "metadata": {
    "ExecuteTime": {
     "end_time": "2023-08-03T16:09:44.843125700Z",
     "start_time": "2023-08-03T16:09:44.335966700Z"
    }
   },
   "outputs": [
    {
     "data": {
      "text/plain": "     ID  Year_Birth   Education Marital_Status   Income\n0  5524        1957  Graduation         Single  58138.0\n1  2174        1954  Graduation         Single  46344.0\n2  4141        1965  Graduation       Together  71613.0\n3  6182        1984  Graduation       Together  26646.0\n4  5324        1981         PhD        Married  58293.0",
      "text/html": "<div>\n<style scoped>\n    .dataframe tbody tr th:only-of-type {\n        vertical-align: middle;\n    }\n\n    .dataframe tbody tr th {\n        vertical-align: top;\n    }\n\n    .dataframe thead th {\n        text-align: right;\n    }\n</style>\n<table border=\"1\" class=\"dataframe\">\n  <thead>\n    <tr style=\"text-align: right;\">\n      <th></th>\n      <th>ID</th>\n      <th>Year_Birth</th>\n      <th>Education</th>\n      <th>Marital_Status</th>\n      <th>Income</th>\n    </tr>\n  </thead>\n  <tbody>\n    <tr>\n      <th>0</th>\n      <td>5524</td>\n      <td>1957</td>\n      <td>Graduation</td>\n      <td>Single</td>\n      <td>58138.0</td>\n    </tr>\n    <tr>\n      <th>1</th>\n      <td>2174</td>\n      <td>1954</td>\n      <td>Graduation</td>\n      <td>Single</td>\n      <td>46344.0</td>\n    </tr>\n    <tr>\n      <th>2</th>\n      <td>4141</td>\n      <td>1965</td>\n      <td>Graduation</td>\n      <td>Together</td>\n      <td>71613.0</td>\n    </tr>\n    <tr>\n      <th>3</th>\n      <td>6182</td>\n      <td>1984</td>\n      <td>Graduation</td>\n      <td>Together</td>\n      <td>26646.0</td>\n    </tr>\n    <tr>\n      <th>4</th>\n      <td>5324</td>\n      <td>1981</td>\n      <td>PhD</td>\n      <td>Married</td>\n      <td>58293.0</td>\n    </tr>\n  </tbody>\n</table>\n</div>"
     },
     "execution_count": 10,
     "metadata": {},
     "output_type": "execute_result"
    }
   ],
   "source": [
    "merged_data.head()"
   ]
  }
 ],
 "metadata": {
  "kernelspec": {
   "display_name": "Python 3",
   "language": "python",
   "name": "python3"
  },
  "language_info": {
   "codemirror_mode": {
    "name": "ipython",
    "version": 3
   },
   "file_extension": ".py",
   "mimetype": "text/x-python",
   "name": "python",
   "nbconvert_exporter": "python",
   "pygments_lexer": "ipython3",
   "version": "3.7.1"
  }
 },
 "nbformat": 4,
 "nbformat_minor": 5
}
