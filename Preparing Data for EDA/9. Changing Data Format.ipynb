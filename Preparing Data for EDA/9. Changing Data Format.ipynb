{
 "cells": [
  {
   "cell_type": "markdown",
   "id": "2dbc33b1",
   "metadata": {},
   "source": [
    "#### Import relevant libraries"
   ]
  },
  {
   "cell_type": "code",
   "execution_count": 1,
   "id": "0ae67507",
   "metadata": {
    "ExecuteTime": {
     "end_time": "2023-08-03T16:10:34.009061100Z",
     "start_time": "2023-08-03T16:10:28.798515200Z"
    }
   },
   "outputs": [],
   "source": [
    "import numpy as np\n",
    "import pandas as pd"
   ]
  },
  {
   "cell_type": "markdown",
   "id": "a2050fe1",
   "metadata": {},
   "source": [
    "#### Load dataset"
   ]
  },
  {
   "cell_type": "code",
   "execution_count": 2,
   "id": "3a02fac1",
   "metadata": {
    "ExecuteTime": {
     "end_time": "2023-08-03T16:10:34.803885400Z",
     "start_time": "2023-08-03T16:10:33.998068700Z"
    }
   },
   "outputs": [],
   "source": [
    "marketing_data = pd.read_csv(\"data/marketing_campaign.csv\")"
   ]
  },
  {
   "cell_type": "markdown",
   "id": "e81aa501",
   "metadata": {},
   "source": [
    "#### Subset for relevant columns"
   ]
  },
  {
   "cell_type": "code",
   "execution_count": 3,
   "id": "9279d462",
   "metadata": {
    "ExecuteTime": {
     "end_time": "2023-08-03T16:10:34.804885700Z",
     "start_time": "2023-08-03T16:10:33.998068700Z"
    }
   },
   "outputs": [],
   "source": [
    "marketing_data = marketing_data[['ID', 'Year_Birth','Marital_Status','Income']]"
   ]
  },
  {
   "cell_type": "markdown",
   "id": "128c9ecd",
   "metadata": {},
   "source": [
    "#### Inspect first 5 rows and data types of the dataset"
   ]
  },
  {
   "cell_type": "code",
   "execution_count": 4,
   "id": "1f556097",
   "metadata": {
    "ExecuteTime": {
     "end_time": "2023-08-03T16:10:34.805884600Z",
     "start_time": "2023-08-03T16:10:33.998068700Z"
    }
   },
   "outputs": [
    {
     "data": {
      "text/plain": "     ID  Year_Birth Marital_Status   Income\n0  5524        1957         Single  58138.0\n1  2174        1954         Single  46344.0\n2  4141        1965       Together  71613.0\n3  6182        1984       Together  26646.0\n4  5324        1981        Married  58293.0",
      "text/html": "<div>\n<style scoped>\n    .dataframe tbody tr th:only-of-type {\n        vertical-align: middle;\n    }\n\n    .dataframe tbody tr th {\n        vertical-align: top;\n    }\n\n    .dataframe thead th {\n        text-align: right;\n    }\n</style>\n<table border=\"1\" class=\"dataframe\">\n  <thead>\n    <tr style=\"text-align: right;\">\n      <th></th>\n      <th>ID</th>\n      <th>Year_Birth</th>\n      <th>Marital_Status</th>\n      <th>Income</th>\n    </tr>\n  </thead>\n  <tbody>\n    <tr>\n      <th>0</th>\n      <td>5524</td>\n      <td>1957</td>\n      <td>Single</td>\n      <td>58138.0</td>\n    </tr>\n    <tr>\n      <th>1</th>\n      <td>2174</td>\n      <td>1954</td>\n      <td>Single</td>\n      <td>46344.0</td>\n    </tr>\n    <tr>\n      <th>2</th>\n      <td>4141</td>\n      <td>1965</td>\n      <td>Together</td>\n      <td>71613.0</td>\n    </tr>\n    <tr>\n      <th>3</th>\n      <td>6182</td>\n      <td>1984</td>\n      <td>Together</td>\n      <td>26646.0</td>\n    </tr>\n    <tr>\n      <th>4</th>\n      <td>5324</td>\n      <td>1981</td>\n      <td>Married</td>\n      <td>58293.0</td>\n    </tr>\n  </tbody>\n</table>\n</div>"
     },
     "execution_count": 4,
     "metadata": {},
     "output_type": "execute_result"
    }
   ],
   "source": [
    "marketing_data.head()"
   ]
  },
  {
   "cell_type": "code",
   "execution_count": 5,
   "id": "b3601b62",
   "metadata": {
    "ExecuteTime": {
     "end_time": "2023-08-03T16:10:34.806885600Z",
     "start_time": "2023-08-03T16:10:33.998068700Z"
    }
   },
   "outputs": [
    {
     "data": {
      "text/plain": "(2240, 4)"
     },
     "execution_count": 5,
     "metadata": {},
     "output_type": "execute_result"
    }
   ],
   "source": [
    "marketing_data.shape"
   ]
  },
  {
   "cell_type": "markdown",
   "id": "35c8704d",
   "metadata": {},
   "source": [
    "#### Fill NAs in the income column"
   ]
  },
  {
   "cell_type": "code",
   "execution_count": 6,
   "id": "9e28186b",
   "metadata": {
    "ExecuteTime": {
     "end_time": "2023-08-03T16:10:34.807883500Z",
     "start_time": "2023-08-03T16:10:33.999068Z"
    }
   },
   "outputs": [],
   "source": [
    "marketing_data['Income'] = marketing_data['Income'].fillna(0)"
   ]
  },
  {
   "cell_type": "markdown",
   "id": "46f24ec2",
   "metadata": {},
   "source": [
    "#### Change the data type of the Income from float to int"
   ]
  },
  {
   "cell_type": "code",
   "execution_count": 7,
   "id": "fe10f0a2",
   "metadata": {
    "ExecuteTime": {
     "end_time": "2023-08-03T16:10:34.807883500Z",
     "start_time": "2023-08-03T16:10:33.999068Z"
    }
   },
   "outputs": [],
   "source": [
    "marketing_data['Income_changed'] = marketing_data['Income'].astype(int)"
   ]
  },
  {
   "cell_type": "code",
   "execution_count": 8,
   "id": "5b38b1b8",
   "metadata": {
    "ExecuteTime": {
     "end_time": "2023-08-03T16:10:34.809882600Z",
     "start_time": "2023-08-03T16:10:33.999068Z"
    }
   },
   "outputs": [
    {
     "data": {
      "text/plain": "    Income  Income_changed\n0  58138.0           58138\n1  46344.0           46344\n2  71613.0           71613\n3  26646.0           26646\n4  58293.0           58293",
      "text/html": "<div>\n<style scoped>\n    .dataframe tbody tr th:only-of-type {\n        vertical-align: middle;\n    }\n\n    .dataframe tbody tr th {\n        vertical-align: top;\n    }\n\n    .dataframe thead th {\n        text-align: right;\n    }\n</style>\n<table border=\"1\" class=\"dataframe\">\n  <thead>\n    <tr style=\"text-align: right;\">\n      <th></th>\n      <th>Income</th>\n      <th>Income_changed</th>\n    </tr>\n  </thead>\n  <tbody>\n    <tr>\n      <th>0</th>\n      <td>58138.0</td>\n      <td>58138</td>\n    </tr>\n    <tr>\n      <th>1</th>\n      <td>46344.0</td>\n      <td>46344</td>\n    </tr>\n    <tr>\n      <th>2</th>\n      <td>71613.0</td>\n      <td>71613</td>\n    </tr>\n    <tr>\n      <th>3</th>\n      <td>26646.0</td>\n      <td>26646</td>\n    </tr>\n    <tr>\n      <th>4</th>\n      <td>58293.0</td>\n      <td>58293</td>\n    </tr>\n  </tbody>\n</table>\n</div>"
     },
     "execution_count": 8,
     "metadata": {},
     "output_type": "execute_result"
    }
   ],
   "source": [
    "marketing_data[['Income','Income_changed']].head()"
   ]
  },
  {
   "cell_type": "code",
   "execution_count": 9,
   "id": "998a9da7",
   "metadata": {
    "ExecuteTime": {
     "end_time": "2023-08-03T16:10:34.810881300Z",
     "start_time": "2023-08-03T16:10:33.999068Z"
    }
   },
   "outputs": [
    {
     "data": {
      "text/plain": "Income            float64\nIncome_changed      int32\ndtype: object"
     },
     "execution_count": 9,
     "metadata": {},
     "output_type": "execute_result"
    }
   ],
   "source": [
    "marketing_data[['Income','Income_changed']].dtypes"
   ]
  }
 ],
 "metadata": {
  "kernelspec": {
   "display_name": "Python 3",
   "language": "python",
   "name": "python3"
  },
  "language_info": {
   "codemirror_mode": {
    "name": "ipython",
    "version": 3
   },
   "file_extension": ".py",
   "mimetype": "text/x-python",
   "name": "python",
   "nbconvert_exporter": "python",
   "pygments_lexer": "ipython3",
   "version": "3.7.1"
  }
 },
 "nbformat": 4,
 "nbformat_minor": 5
}
