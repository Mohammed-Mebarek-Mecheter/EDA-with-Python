{
 "cells": [
  {
   "cell_type": "markdown",
   "id": "2dbc33b1",
   "metadata": {},
   "source": [
    "#### Import relevant libraries"
   ]
  },
  {
   "cell_type": "code",
   "execution_count": 1,
   "id": "0ae67507",
   "metadata": {
    "ExecuteTime": {
     "end_time": "2023-08-03T16:10:46.759029700Z",
     "start_time": "2023-08-03T16:10:43.865492800Z"
    }
   },
   "outputs": [],
   "source": [
    "import pandas as pd"
   ]
  },
  {
   "cell_type": "markdown",
   "id": "a2050fe1",
   "metadata": {},
   "source": [
    "#### Load dataset"
   ]
  },
  {
   "cell_type": "code",
   "execution_count": 2,
   "id": "3a02fac1",
   "metadata": {
    "ExecuteTime": {
     "end_time": "2023-08-03T16:10:46.807432Z",
     "start_time": "2023-08-03T16:10:46.759029700Z"
    }
   },
   "outputs": [],
   "source": [
    "marketing_data = pd.read_csv(\"data/marketing_campaign.csv\")"
   ]
  },
  {
   "cell_type": "markdown",
   "id": "e81aa501",
   "metadata": {},
   "source": [
    "#### Subset for relevant columns"
   ]
  },
  {
   "cell_type": "code",
   "execution_count": 3,
   "id": "9279d462",
   "metadata": {
    "ExecuteTime": {
     "end_time": "2023-08-03T16:10:46.865375Z",
     "start_time": "2023-08-03T16:10:46.803435400Z"
    }
   },
   "outputs": [],
   "source": [
    "marketing_data = marketing_data[['ID', 'Year_Birth', 'Education','Income']]"
   ]
  },
  {
   "cell_type": "markdown",
   "id": "128c9ecd",
   "metadata": {},
   "source": [
    "#### Inspect first 5 rows and data types of the dataset"
   ]
  },
  {
   "cell_type": "code",
   "execution_count": 4,
   "id": "1f556097",
   "metadata": {
    "ExecuteTime": {
     "end_time": "2023-08-03T16:10:46.993456Z",
     "start_time": "2023-08-03T16:10:46.875369300Z"
    }
   },
   "outputs": [
    {
     "data": {
      "text/plain": "     ID  Year_Birth   Education   Income\n0  5524        1957  Graduation  58138.0\n1  2174        1954  Graduation  46344.0\n2  4141        1965  Graduation  71613.0\n3  6182        1984  Graduation  26646.0\n4  5324        1981         PhD  58293.0",
      "text/html": "<div>\n<style scoped>\n    .dataframe tbody tr th:only-of-type {\n        vertical-align: middle;\n    }\n\n    .dataframe tbody tr th {\n        vertical-align: top;\n    }\n\n    .dataframe thead th {\n        text-align: right;\n    }\n</style>\n<table border=\"1\" class=\"dataframe\">\n  <thead>\n    <tr style=\"text-align: right;\">\n      <th></th>\n      <th>ID</th>\n      <th>Year_Birth</th>\n      <th>Education</th>\n      <th>Income</th>\n    </tr>\n  </thead>\n  <tbody>\n    <tr>\n      <th>0</th>\n      <td>5524</td>\n      <td>1957</td>\n      <td>Graduation</td>\n      <td>58138.0</td>\n    </tr>\n    <tr>\n      <th>1</th>\n      <td>2174</td>\n      <td>1954</td>\n      <td>Graduation</td>\n      <td>46344.0</td>\n    </tr>\n    <tr>\n      <th>2</th>\n      <td>4141</td>\n      <td>1965</td>\n      <td>Graduation</td>\n      <td>71613.0</td>\n    </tr>\n    <tr>\n      <th>3</th>\n      <td>6182</td>\n      <td>1984</td>\n      <td>Graduation</td>\n      <td>26646.0</td>\n    </tr>\n    <tr>\n      <th>4</th>\n      <td>5324</td>\n      <td>1981</td>\n      <td>PhD</td>\n      <td>58293.0</td>\n    </tr>\n  </tbody>\n</table>\n</div>"
     },
     "execution_count": 4,
     "metadata": {},
     "output_type": "execute_result"
    }
   ],
   "source": [
    "marketing_data.head()"
   ]
  },
  {
   "cell_type": "code",
   "execution_count": 5,
   "id": "b3601b62",
   "metadata": {
    "ExecuteTime": {
     "end_time": "2023-08-03T16:10:47.014469100Z",
     "start_time": "2023-08-03T16:10:46.994455800Z"
    }
   },
   "outputs": [
    {
     "data": {
      "text/plain": "(2240, 4)"
     },
     "execution_count": 5,
     "metadata": {},
     "output_type": "execute_result"
    }
   ],
   "source": [
    "marketing_data.shape"
   ]
  },
  {
   "cell_type": "markdown",
   "id": "acbb9f0c",
   "metadata": {},
   "source": [
    "#### Check for missing values"
   ]
  },
  {
   "cell_type": "code",
   "execution_count": 6,
   "id": "010182f2",
   "metadata": {
    "ExecuteTime": {
     "end_time": "2023-08-03T16:10:47.064197600Z",
     "start_time": "2023-08-03T16:10:47.006473100Z"
    }
   },
   "outputs": [
    {
     "data": {
      "text/plain": "ID             0\nYear_Birth     0\nEducation      0\nIncome        24\ndtype: int64"
     },
     "execution_count": 6,
     "metadata": {},
     "output_type": "execute_result"
    }
   ],
   "source": [
    "marketing_data.isnull().sum()"
   ]
  },
  {
   "cell_type": "markdown",
   "id": "46f24ec2",
   "metadata": {},
   "source": [
    "#### Drop Missing values"
   ]
  },
  {
   "cell_type": "code",
   "execution_count": 7,
   "id": "fe10f0a2",
   "metadata": {
    "ExecuteTime": {
     "end_time": "2023-08-03T16:10:47.159741800Z",
     "start_time": "2023-08-03T16:10:47.039211500Z"
    }
   },
   "outputs": [
    {
     "data": {
      "text/plain": "     ID  Year_Birth   Education   Income\n0  5524        1957  Graduation  58138.0\n1  2174        1954  Graduation  46344.0\n2  4141        1965  Graduation  71613.0\n3  6182        1984  Graduation  26646.0\n4  5324        1981         PhD  58293.0",
      "text/html": "<div>\n<style scoped>\n    .dataframe tbody tr th:only-of-type {\n        vertical-align: middle;\n    }\n\n    .dataframe tbody tr th {\n        vertical-align: top;\n    }\n\n    .dataframe thead th {\n        text-align: right;\n    }\n</style>\n<table border=\"1\" class=\"dataframe\">\n  <thead>\n    <tr style=\"text-align: right;\">\n      <th></th>\n      <th>ID</th>\n      <th>Year_Birth</th>\n      <th>Education</th>\n      <th>Income</th>\n    </tr>\n  </thead>\n  <tbody>\n    <tr>\n      <th>0</th>\n      <td>5524</td>\n      <td>1957</td>\n      <td>Graduation</td>\n      <td>58138.0</td>\n    </tr>\n    <tr>\n      <th>1</th>\n      <td>2174</td>\n      <td>1954</td>\n      <td>Graduation</td>\n      <td>46344.0</td>\n    </tr>\n    <tr>\n      <th>2</th>\n      <td>4141</td>\n      <td>1965</td>\n      <td>Graduation</td>\n      <td>71613.0</td>\n    </tr>\n    <tr>\n      <th>3</th>\n      <td>6182</td>\n      <td>1984</td>\n      <td>Graduation</td>\n      <td>26646.0</td>\n    </tr>\n    <tr>\n      <th>4</th>\n      <td>5324</td>\n      <td>1981</td>\n      <td>PhD</td>\n      <td>58293.0</td>\n    </tr>\n  </tbody>\n</table>\n</div>"
     },
     "execution_count": 7,
     "metadata": {},
     "output_type": "execute_result"
    }
   ],
   "source": [
    "marketing_data_withoutna = marketing_data.dropna(how = 'any')\n",
    "marketing_data_withoutna.head()"
   ]
  },
  {
   "cell_type": "code",
   "execution_count": 8,
   "id": "22f77944",
   "metadata": {
    "ExecuteTime": {
     "end_time": "2023-08-03T16:10:47.209946200Z",
     "start_time": "2023-08-03T16:10:47.161740400Z"
    }
   },
   "outputs": [
    {
     "data": {
      "text/plain": "(2216, 4)"
     },
     "execution_count": 8,
     "metadata": {},
     "output_type": "execute_result"
    }
   ],
   "source": [
    "marketing_data_withoutna.shape"
   ]
  }
 ],
 "metadata": {
  "kernelspec": {
   "display_name": "Python 3",
   "language": "python",
   "name": "python3"
  },
  "language_info": {
   "codemirror_mode": {
    "name": "ipython",
    "version": 3
   },
   "file_extension": ".py",
   "mimetype": "text/x-python",
   "name": "python",
   "nbconvert_exporter": "python",
   "pygments_lexer": "ipython3",
   "version": "3.7.1"
  }
 },
 "nbformat": 4,
 "nbformat_minor": 5
}
