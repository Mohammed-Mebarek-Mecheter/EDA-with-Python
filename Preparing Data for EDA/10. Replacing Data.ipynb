{
 "cells": [
  {
   "cell_type": "markdown",
   "id": "2dbc33b1",
   "metadata": {},
   "source": [
    "#### Import relevant libraries"
   ]
  },
  {
   "cell_type": "code",
   "execution_count": 1,
   "id": "0ae67507",
   "metadata": {
    "ExecuteTime": {
     "end_time": "2023-08-03T16:10:39.366304300Z",
     "start_time": "2023-08-03T16:10:37.790288100Z"
    }
   },
   "outputs": [],
   "source": [
    "import numpy as np\n",
    "import pandas as pd"
   ]
  },
  {
   "cell_type": "markdown",
   "id": "a2050fe1",
   "metadata": {},
   "source": [
    "#### Load dataset"
   ]
  },
  {
   "cell_type": "code",
   "execution_count": 2,
   "id": "3a02fac1",
   "metadata": {
    "ExecuteTime": {
     "end_time": "2023-08-03T16:10:39.412858400Z",
     "start_time": "2023-08-03T16:10:39.369300500Z"
    }
   },
   "outputs": [],
   "source": [
    "marketing_data = pd.read_csv(\"data/marketing_campaign.csv\")"
   ]
  },
  {
   "cell_type": "markdown",
   "id": "e81aa501",
   "metadata": {},
   "source": [
    "#### Subset for relevant columns"
   ]
  },
  {
   "cell_type": "code",
   "execution_count": 3,
   "id": "9279d462",
   "metadata": {
    "ExecuteTime": {
     "end_time": "2023-08-03T16:10:39.461324600Z",
     "start_time": "2023-08-03T16:10:39.414858Z"
    }
   },
   "outputs": [],
   "source": [
    "marketing_data = marketing_data[['ID', 'Year_Birth', 'Kidhome', 'Teenhome']]"
   ]
  },
  {
   "cell_type": "markdown",
   "id": "128c9ecd",
   "metadata": {},
   "source": [
    "#### Inspect first 5 rows and data types of the dataset"
   ]
  },
  {
   "cell_type": "code",
   "execution_count": 4,
   "id": "1f556097",
   "metadata": {
    "scrolled": true,
    "ExecuteTime": {
     "end_time": "2023-08-03T16:10:39.510011600Z",
     "start_time": "2023-08-03T16:10:39.441335900Z"
    }
   },
   "outputs": [
    {
     "data": {
      "text/plain": "     ID  Year_Birth  Kidhome  Teenhome\n0  5524        1957        0         0\n1  2174        1954        1         1\n2  4141        1965        0         0\n3  6182        1984        1         0\n4  5324        1981        1         0",
      "text/html": "<div>\n<style scoped>\n    .dataframe tbody tr th:only-of-type {\n        vertical-align: middle;\n    }\n\n    .dataframe tbody tr th {\n        vertical-align: top;\n    }\n\n    .dataframe thead th {\n        text-align: right;\n    }\n</style>\n<table border=\"1\" class=\"dataframe\">\n  <thead>\n    <tr style=\"text-align: right;\">\n      <th></th>\n      <th>ID</th>\n      <th>Year_Birth</th>\n      <th>Kidhome</th>\n      <th>Teenhome</th>\n    </tr>\n  </thead>\n  <tbody>\n    <tr>\n      <th>0</th>\n      <td>5524</td>\n      <td>1957</td>\n      <td>0</td>\n      <td>0</td>\n    </tr>\n    <tr>\n      <th>1</th>\n      <td>2174</td>\n      <td>1954</td>\n      <td>1</td>\n      <td>1</td>\n    </tr>\n    <tr>\n      <th>2</th>\n      <td>4141</td>\n      <td>1965</td>\n      <td>0</td>\n      <td>0</td>\n    </tr>\n    <tr>\n      <th>3</th>\n      <td>6182</td>\n      <td>1984</td>\n      <td>1</td>\n      <td>0</td>\n    </tr>\n    <tr>\n      <th>4</th>\n      <td>5324</td>\n      <td>1981</td>\n      <td>1</td>\n      <td>0</td>\n    </tr>\n  </tbody>\n</table>\n</div>"
     },
     "execution_count": 4,
     "metadata": {},
     "output_type": "execute_result"
    }
   ],
   "source": [
    "marketing_data.head()"
   ]
  },
  {
   "cell_type": "code",
   "execution_count": 5,
   "id": "b3601b62",
   "metadata": {
    "ExecuteTime": {
     "end_time": "2023-08-03T16:10:39.560920700Z",
     "start_time": "2023-08-03T16:10:39.514009500Z"
    }
   },
   "outputs": [
    {
     "data": {
      "text/plain": "(2240, 4)"
     },
     "execution_count": 5,
     "metadata": {},
     "output_type": "execute_result"
    }
   ],
   "source": [
    "marketing_data.shape"
   ]
  },
  {
   "cell_type": "markdown",
   "id": "46f24ec2",
   "metadata": {},
   "source": [
    "#### Replace the values in Teenhomes with \"has teen\" and \"has no teen\""
   ]
  },
  {
   "cell_type": "code",
   "execution_count": 6,
   "id": "fe10f0a2",
   "metadata": {
    "ExecuteTime": {
     "end_time": "2023-08-03T16:10:40.347776Z",
     "start_time": "2023-08-03T16:10:39.524821300Z"
    }
   },
   "outputs": [],
   "source": [
    "marketing_data['Teenhome_replaced'] = marketing_data['Teenhome'].replace([0,1,2],['has no teen','has teen','has teen'])"
   ]
  },
  {
   "cell_type": "code",
   "execution_count": 7,
   "id": "998a9da7",
   "metadata": {
    "ExecuteTime": {
     "end_time": "2023-08-03T16:10:40.411734700Z",
     "start_time": "2023-08-03T16:10:39.557922500Z"
    }
   },
   "outputs": [
    {
     "data": {
      "text/plain": "   Teenhome Teenhome_replaced\n0         0       has no teen\n1         1          has teen\n2         0       has no teen\n3         0       has no teen\n4         0       has no teen",
      "text/html": "<div>\n<style scoped>\n    .dataframe tbody tr th:only-of-type {\n        vertical-align: middle;\n    }\n\n    .dataframe tbody tr th {\n        vertical-align: top;\n    }\n\n    .dataframe thead th {\n        text-align: right;\n    }\n</style>\n<table border=\"1\" class=\"dataframe\">\n  <thead>\n    <tr style=\"text-align: right;\">\n      <th></th>\n      <th>Teenhome</th>\n      <th>Teenhome_replaced</th>\n    </tr>\n  </thead>\n  <tbody>\n    <tr>\n      <th>0</th>\n      <td>0</td>\n      <td>has no teen</td>\n    </tr>\n    <tr>\n      <th>1</th>\n      <td>1</td>\n      <td>has teen</td>\n    </tr>\n    <tr>\n      <th>2</th>\n      <td>0</td>\n      <td>has no teen</td>\n    </tr>\n    <tr>\n      <th>3</th>\n      <td>0</td>\n      <td>has no teen</td>\n    </tr>\n    <tr>\n      <th>4</th>\n      <td>0</td>\n      <td>has no teen</td>\n    </tr>\n  </tbody>\n</table>\n</div>"
     },
     "execution_count": 7,
     "metadata": {},
     "output_type": "execute_result"
    }
   ],
   "source": [
    "marketing_data[['Teenhome','Teenhome_replaced']].head()"
   ]
  }
 ],
 "metadata": {
  "kernelspec": {
   "display_name": "Python 3",
   "language": "python",
   "name": "python3"
  },
  "language_info": {
   "codemirror_mode": {
    "name": "ipython",
    "version": 3
   },
   "file_extension": ".py",
   "mimetype": "text/x-python",
   "name": "python",
   "nbconvert_exporter": "python",
   "pygments_lexer": "ipython3",
   "version": "3.7.1"
  }
 },
 "nbformat": 4,
 "nbformat_minor": 5
}
