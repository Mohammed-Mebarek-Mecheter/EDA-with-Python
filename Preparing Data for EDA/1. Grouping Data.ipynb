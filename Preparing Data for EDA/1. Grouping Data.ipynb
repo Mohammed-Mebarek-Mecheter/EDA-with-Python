{
 "cells": [
  {
   "cell_type": "markdown",
   "id": "2dbc33b1",
   "metadata": {},
   "source": [
    "#### Import relevant libraries"
   ]
  },
  {
   "cell_type": "code",
   "execution_count": 1,
   "id": "0ae67507",
   "metadata": {
    "ExecuteTime": {
     "end_time": "2023-08-03T16:09:45.030046900Z",
     "start_time": "2023-08-03T16:09:41.369288Z"
    }
   },
   "outputs": [],
   "source": [
    "import numpy as np\n",
    "import pandas as pd"
   ]
  },
  {
   "cell_type": "markdown",
   "id": "a2050fe1",
   "metadata": {},
   "source": [
    "#### Load dataset"
   ]
  },
  {
   "cell_type": "code",
   "execution_count": 2,
   "id": "3a02fac1",
   "metadata": {
    "ExecuteTime": {
     "end_time": "2023-08-03T16:09:45.033045300Z",
     "start_time": "2023-08-03T16:09:44.828133200Z"
    }
   },
   "outputs": [],
   "source": [
    "marketing_data = pd.read_csv(\"data/marketing_campaign.csv\")"
   ]
  },
  {
   "cell_type": "markdown",
   "id": "e81aa501",
   "metadata": {},
   "source": [
    "#### Subset for relevant columns"
   ]
  },
  {
   "cell_type": "code",
   "execution_count": 3,
   "id": "9279d462",
   "metadata": {
    "ExecuteTime": {
     "end_time": "2023-08-03T16:09:45.034045100Z",
     "start_time": "2023-08-03T16:09:44.829135700Z"
    }
   },
   "outputs": [],
   "source": [
    "marketing_data = marketing_data[['ID', 'Year_Birth', 'Education', 'Marital_Status',\n",
    "                'Income', 'Kidhome', 'Teenhome', 'Dt_Customer', \n",
    "                'Recency','NumStorePurchases', 'NumWebVisitsMonth']]"
   ]
  },
  {
   "cell_type": "markdown",
   "id": "128c9ecd",
   "metadata": {},
   "source": [
    "#### Inspect first 2 rows and data types of the dataset"
   ]
  },
  {
   "cell_type": "code",
   "execution_count": 4,
   "id": "1f556097",
   "metadata": {
    "ExecuteTime": {
     "end_time": "2023-08-03T16:09:45.160220900Z",
     "start_time": "2023-08-03T16:09:44.830132800Z"
    }
   },
   "outputs": [
    {
     "data": {
      "text/plain": "                            0           1\nID                       5524        2174\nYear_Birth               1957        1954\nEducation          Graduation  Graduation\nMarital_Status         Single      Single\nIncome                58138.0     46344.0\nKidhome                     0           1\nTeenhome                    0           1\nDt_Customer        04-09-2012  08-03-2014\nRecency                    58          38\nNumStorePurchases           4           2\nNumWebVisitsMonth           7           5",
      "text/html": "<div>\n<style scoped>\n    .dataframe tbody tr th:only-of-type {\n        vertical-align: middle;\n    }\n\n    .dataframe tbody tr th {\n        vertical-align: top;\n    }\n\n    .dataframe thead th {\n        text-align: right;\n    }\n</style>\n<table border=\"1\" class=\"dataframe\">\n  <thead>\n    <tr style=\"text-align: right;\">\n      <th></th>\n      <th>0</th>\n      <th>1</th>\n    </tr>\n  </thead>\n  <tbody>\n    <tr>\n      <th>ID</th>\n      <td>5524</td>\n      <td>2174</td>\n    </tr>\n    <tr>\n      <th>Year_Birth</th>\n      <td>1957</td>\n      <td>1954</td>\n    </tr>\n    <tr>\n      <th>Education</th>\n      <td>Graduation</td>\n      <td>Graduation</td>\n    </tr>\n    <tr>\n      <th>Marital_Status</th>\n      <td>Single</td>\n      <td>Single</td>\n    </tr>\n    <tr>\n      <th>Income</th>\n      <td>58138.0</td>\n      <td>46344.0</td>\n    </tr>\n    <tr>\n      <th>Kidhome</th>\n      <td>0</td>\n      <td>1</td>\n    </tr>\n    <tr>\n      <th>Teenhome</th>\n      <td>0</td>\n      <td>1</td>\n    </tr>\n    <tr>\n      <th>Dt_Customer</th>\n      <td>04-09-2012</td>\n      <td>08-03-2014</td>\n    </tr>\n    <tr>\n      <th>Recency</th>\n      <td>58</td>\n      <td>38</td>\n    </tr>\n    <tr>\n      <th>NumStorePurchases</th>\n      <td>4</td>\n      <td>2</td>\n    </tr>\n    <tr>\n      <th>NumWebVisitsMonth</th>\n      <td>7</td>\n      <td>5</td>\n    </tr>\n  </tbody>\n</table>\n</div>"
     },
     "execution_count": 4,
     "metadata": {},
     "output_type": "execute_result"
    }
   ],
   "source": [
    "marketing_data.head(2).T"
   ]
  },
  {
   "cell_type": "code",
   "execution_count": 5,
   "id": "b3601b62",
   "metadata": {
    "ExecuteTime": {
     "end_time": "2023-08-03T16:09:45.225025300Z",
     "start_time": "2023-08-03T16:09:44.913869Z"
    }
   },
   "outputs": [
    {
     "data": {
      "text/plain": "ID                     int64\nYear_Birth             int64\nEducation             object\nMarital_Status        object\nIncome               float64\nKidhome                int64\nTeenhome               int64\nDt_Customer           object\nRecency                int64\nNumStorePurchases      int64\nNumWebVisitsMonth      int64\ndtype: object"
     },
     "execution_count": 5,
     "metadata": {},
     "output_type": "execute_result"
    }
   ],
   "source": [
    "marketing_data.dtypes"
   ]
  },
  {
   "cell_type": "code",
   "execution_count": 6,
   "id": "bdf17c4b",
   "metadata": {
    "ExecuteTime": {
     "end_time": "2023-08-03T16:09:45.579069600Z",
     "start_time": "2023-08-03T16:09:44.978077Z"
    }
   },
   "outputs": [
    {
     "data": {
      "text/plain": "(2240, 11)"
     },
     "execution_count": 6,
     "metadata": {},
     "output_type": "execute_result"
    }
   ],
   "source": [
    "marketing_data.shape"
   ]
  },
  {
   "cell_type": "markdown",
   "id": "46f24ec2",
   "metadata": {},
   "source": [
    "#### Check the average number of store purchases of customers based on number of kids in the home"
   ]
  },
  {
   "cell_type": "code",
   "execution_count": 7,
   "id": "fe10f0a2",
   "metadata": {
    "ExecuteTime": {
     "end_time": "2023-08-03T16:09:45.630377800Z",
     "start_time": "2023-08-03T16:09:45.480371Z"
    }
   },
   "outputs": [
    {
     "data": {
      "text/plain": "Kidhome\n0    7.217324\n1    3.863181\n2    3.437500\nName: NumStorePurchases, dtype: float64"
     },
     "execution_count": 7,
     "metadata": {},
     "output_type": "execute_result"
    }
   ],
   "source": [
    "marketing_data.groupby('Kidhome')['NumStorePurchases'].mean()"
   ]
  }
 ],
 "metadata": {
  "kernelspec": {
   "display_name": "Python 3",
   "language": "python",
   "name": "python3"
  },
  "language_info": {
   "codemirror_mode": {
    "name": "ipython",
    "version": 3
   },
   "file_extension": ".py",
   "mimetype": "text/x-python",
   "name": "python",
   "nbconvert_exporter": "python",
   "pygments_lexer": "ipython3",
   "version": "3.7.1"
  }
 },
 "nbformat": 4,
 "nbformat_minor": 5
}
