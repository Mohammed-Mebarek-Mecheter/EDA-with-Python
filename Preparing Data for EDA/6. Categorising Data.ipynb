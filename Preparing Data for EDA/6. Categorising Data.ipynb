{
 "cells": [
  {
   "cell_type": "markdown",
   "id": "2dbc33b1",
   "metadata": {},
   "source": [
    "#### Import relevant libraries"
   ]
  },
  {
   "cell_type": "code",
   "execution_count": 1,
   "id": "0ae67507",
   "metadata": {
    "ExecuteTime": {
     "end_time": "2023-08-03T16:09:58.742899300Z",
     "start_time": "2023-08-03T16:09:57.000113300Z"
    }
   },
   "outputs": [],
   "source": [
    "import numpy as np\n",
    "import pandas as pd"
   ]
  },
  {
   "cell_type": "markdown",
   "id": "a2050fe1",
   "metadata": {},
   "source": [
    "#### Load dataset"
   ]
  },
  {
   "cell_type": "code",
   "execution_count": 2,
   "id": "3a02fac1",
   "metadata": {
    "ExecuteTime": {
     "end_time": "2023-08-03T16:09:58.745898400Z",
     "start_time": "2023-08-03T16:09:58.669695400Z"
    }
   },
   "outputs": [],
   "source": [
    "marketing_data = pd.read_csv(\"data/marketing_campaign.csv\")"
   ]
  },
  {
   "cell_type": "markdown",
   "id": "e81aa501",
   "metadata": {},
   "source": [
    "#### Subset for relevant columns"
   ]
  },
  {
   "cell_type": "code",
   "execution_count": 3,
   "id": "9279d462",
   "metadata": {
    "ExecuteTime": {
     "end_time": "2023-08-03T16:09:59.087421Z",
     "start_time": "2023-08-03T16:09:58.716915900Z"
    }
   },
   "outputs": [],
   "source": [
    "marketing_data = marketing_data[['ID', 'Year_Birth', 'Education', 'Marital_Status',\n",
    "                'Income', 'Kidhome', 'Teenhome', 'Dt_Customer', \n",
    "                'Recency','NumStorePurchases', 'NumWebVisitsMonth']]"
   ]
  },
  {
   "cell_type": "markdown",
   "id": "128c9ecd",
   "metadata": {},
   "source": [
    "#### Inspect first 5 rows and data types of the dataset"
   ]
  },
  {
   "cell_type": "code",
   "execution_count": 4,
   "id": "1f556097",
   "metadata": {
    "ExecuteTime": {
     "end_time": "2023-08-03T16:09:59.785210900Z",
     "start_time": "2023-08-03T16:09:58.835508300Z"
    }
   },
   "outputs": [
    {
     "data": {
      "text/plain": "     ID  Year_Birth   Education Marital_Status   Income  Kidhome  Teenhome  \\\n0  5524        1957  Graduation         Single  58138.0        0         0   \n1  2174        1954  Graduation         Single  46344.0        1         1   \n2  4141        1965  Graduation       Together  71613.0        0         0   \n3  6182        1984  Graduation       Together  26646.0        1         0   \n4  5324        1981         PhD        Married  58293.0        1         0   \n\n  Dt_Customer  Recency  NumStorePurchases  NumWebVisitsMonth  \n0  04-09-2012       58                  4                  7  \n1  08-03-2014       38                  2                  5  \n2  21-08-2013       26                 10                  4  \n3  10-02-2014       26                  4                  6  \n4  19-01-2014       94                  6                  5  ",
      "text/html": "<div>\n<style scoped>\n    .dataframe tbody tr th:only-of-type {\n        vertical-align: middle;\n    }\n\n    .dataframe tbody tr th {\n        vertical-align: top;\n    }\n\n    .dataframe thead th {\n        text-align: right;\n    }\n</style>\n<table border=\"1\" class=\"dataframe\">\n  <thead>\n    <tr style=\"text-align: right;\">\n      <th></th>\n      <th>ID</th>\n      <th>Year_Birth</th>\n      <th>Education</th>\n      <th>Marital_Status</th>\n      <th>Income</th>\n      <th>Kidhome</th>\n      <th>Teenhome</th>\n      <th>Dt_Customer</th>\n      <th>Recency</th>\n      <th>NumStorePurchases</th>\n      <th>NumWebVisitsMonth</th>\n    </tr>\n  </thead>\n  <tbody>\n    <tr>\n      <th>0</th>\n      <td>5524</td>\n      <td>1957</td>\n      <td>Graduation</td>\n      <td>Single</td>\n      <td>58138.0</td>\n      <td>0</td>\n      <td>0</td>\n      <td>04-09-2012</td>\n      <td>58</td>\n      <td>4</td>\n      <td>7</td>\n    </tr>\n    <tr>\n      <th>1</th>\n      <td>2174</td>\n      <td>1954</td>\n      <td>Graduation</td>\n      <td>Single</td>\n      <td>46344.0</td>\n      <td>1</td>\n      <td>1</td>\n      <td>08-03-2014</td>\n      <td>38</td>\n      <td>2</td>\n      <td>5</td>\n    </tr>\n    <tr>\n      <th>2</th>\n      <td>4141</td>\n      <td>1965</td>\n      <td>Graduation</td>\n      <td>Together</td>\n      <td>71613.0</td>\n      <td>0</td>\n      <td>0</td>\n      <td>21-08-2013</td>\n      <td>26</td>\n      <td>10</td>\n      <td>4</td>\n    </tr>\n    <tr>\n      <th>3</th>\n      <td>6182</td>\n      <td>1984</td>\n      <td>Graduation</td>\n      <td>Together</td>\n      <td>26646.0</td>\n      <td>1</td>\n      <td>0</td>\n      <td>10-02-2014</td>\n      <td>26</td>\n      <td>4</td>\n      <td>6</td>\n    </tr>\n    <tr>\n      <th>4</th>\n      <td>5324</td>\n      <td>1981</td>\n      <td>PhD</td>\n      <td>Married</td>\n      <td>58293.0</td>\n      <td>1</td>\n      <td>0</td>\n      <td>19-01-2014</td>\n      <td>94</td>\n      <td>6</td>\n      <td>5</td>\n    </tr>\n  </tbody>\n</table>\n</div>"
     },
     "execution_count": 4,
     "metadata": {},
     "output_type": "execute_result"
    }
   ],
   "source": [
    "marketing_data.head()"
   ]
  },
  {
   "cell_type": "code",
   "execution_count": 5,
   "id": "b3601b62",
   "metadata": {
    "ExecuteTime": {
     "end_time": "2023-08-03T16:09:59.823061200Z",
     "start_time": "2023-08-03T16:09:59.057438Z"
    }
   },
   "outputs": [
    {
     "data": {
      "text/plain": "ID                     int64\nYear_Birth             int64\nEducation             object\nMarital_Status        object\nIncome               float64\nKidhome                int64\nTeenhome               int64\nDt_Customer           object\nRecency                int64\nNumStorePurchases      int64\nNumWebVisitsMonth      int64\ndtype: object"
     },
     "execution_count": 5,
     "metadata": {},
     "output_type": "execute_result"
    }
   ],
   "source": [
    "marketing_data.dtypes"
   ]
  },
  {
   "cell_type": "markdown",
   "id": "46f24ec2",
   "metadata": {},
   "source": [
    "#### Categorise the number of store purchases into high, moderate and low categories"
   ]
  },
  {
   "cell_type": "code",
   "execution_count": 6,
   "id": "fe10f0a2",
   "metadata": {
    "ExecuteTime": {
     "end_time": "2023-08-03T16:09:59.888022500Z",
     "start_time": "2023-08-03T16:09:59.119736900Z"
    }
   },
   "outputs": [],
   "source": [
    "marketing_data['bins'] = pd.cut(x=marketing_data['NumStorePurchases'], bins=[0,4,8,13],\n",
    "                               labels = ['Low', 'Moderate', 'High'])"
   ]
  },
  {
   "cell_type": "code",
   "execution_count": 7,
   "id": "b2521f4e",
   "metadata": {
    "ExecuteTime": {
     "end_time": "2023-08-03T16:09:59.934998600Z",
     "start_time": "2023-08-03T16:09:59.395739900Z"
    }
   },
   "outputs": [
    {
     "data": {
      "text/plain": "   NumStorePurchases      bins\n0                  4       Low\n1                  2       Low\n2                 10      High\n3                  4       Low\n4                  6  Moderate",
      "text/html": "<div>\n<style scoped>\n    .dataframe tbody tr th:only-of-type {\n        vertical-align: middle;\n    }\n\n    .dataframe tbody tr th {\n        vertical-align: top;\n    }\n\n    .dataframe thead th {\n        text-align: right;\n    }\n</style>\n<table border=\"1\" class=\"dataframe\">\n  <thead>\n    <tr style=\"text-align: right;\">\n      <th></th>\n      <th>NumStorePurchases</th>\n      <th>bins</th>\n    </tr>\n  </thead>\n  <tbody>\n    <tr>\n      <th>0</th>\n      <td>4</td>\n      <td>Low</td>\n    </tr>\n    <tr>\n      <th>1</th>\n      <td>2</td>\n      <td>Low</td>\n    </tr>\n    <tr>\n      <th>2</th>\n      <td>10</td>\n      <td>High</td>\n    </tr>\n    <tr>\n      <th>3</th>\n      <td>4</td>\n      <td>Low</td>\n    </tr>\n    <tr>\n      <th>4</th>\n      <td>6</td>\n      <td>Moderate</td>\n    </tr>\n  </tbody>\n</table>\n</div>"
     },
     "execution_count": 7,
     "metadata": {},
     "output_type": "execute_result"
    }
   ],
   "source": [
    "marketing_data[['NumStorePurchases','bins']].head()"
   ]
  },
  {
   "cell_type": "code",
   "execution_count": 8,
   "id": "2b81febf",
   "metadata": {
    "ExecuteTime": {
     "end_time": "2023-08-03T16:09:59.972978200Z",
     "start_time": "2023-08-03T16:09:59.425814200Z"
    }
   },
   "outputs": [],
   "source": [
    "marketing_data['bins'] = pd.cut(x=marketing_data['NumStorePurchases'], bins=3\n",
    "                               ,labels = ['Low', 'Moderate', 'High'])"
   ]
  },
  {
   "cell_type": "code",
   "execution_count": 9,
   "id": "e5567f71",
   "metadata": {
    "ExecuteTime": {
     "end_time": "2023-08-03T16:10:00.008954800Z",
     "start_time": "2023-08-03T16:09:59.523183400Z"
    }
   },
   "outputs": [
    {
     "data": {
      "text/plain": "   NumStorePurchases      bins\n0                  4       Low\n1                  2       Low\n2                 10      High\n3                  4       Low\n4                  6  Moderate",
      "text/html": "<div>\n<style scoped>\n    .dataframe tbody tr th:only-of-type {\n        vertical-align: middle;\n    }\n\n    .dataframe tbody tr th {\n        vertical-align: top;\n    }\n\n    .dataframe thead th {\n        text-align: right;\n    }\n</style>\n<table border=\"1\" class=\"dataframe\">\n  <thead>\n    <tr style=\"text-align: right;\">\n      <th></th>\n      <th>NumStorePurchases</th>\n      <th>bins</th>\n    </tr>\n  </thead>\n  <tbody>\n    <tr>\n      <th>0</th>\n      <td>4</td>\n      <td>Low</td>\n    </tr>\n    <tr>\n      <th>1</th>\n      <td>2</td>\n      <td>Low</td>\n    </tr>\n    <tr>\n      <th>2</th>\n      <td>10</td>\n      <td>High</td>\n    </tr>\n    <tr>\n      <th>3</th>\n      <td>4</td>\n      <td>Low</td>\n    </tr>\n    <tr>\n      <th>4</th>\n      <td>6</td>\n      <td>Moderate</td>\n    </tr>\n  </tbody>\n</table>\n</div>"
     },
     "execution_count": 9,
     "metadata": {},
     "output_type": "execute_result"
    }
   ],
   "source": [
    "marketing_data[['NumStorePurchases','bins']].head()"
   ]
  }
 ],
 "metadata": {
  "kernelspec": {
   "display_name": "Python 3",
   "language": "python",
   "name": "python3"
  },
  "language_info": {
   "codemirror_mode": {
    "name": "ipython",
    "version": 3
   },
   "file_extension": ".py",
   "mimetype": "text/x-python",
   "name": "python",
   "nbconvert_exporter": "python",
   "pygments_lexer": "ipython3",
   "version": "3.7.1"
  }
 },
 "nbformat": 4,
 "nbformat_minor": 5
}
