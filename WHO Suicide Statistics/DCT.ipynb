{
 "cells": [
  {
   "metadata": {
    "ExecuteTime": {
     "end_time": "2024-06-21T16:18:37.630759Z",
     "start_time": "2024-06-21T16:18:37.564216Z"
    }
   },
   "cell_type": "code",
   "source": [
    "# import libraries\n",
    "import pandas as pd\n",
    "import matplotlib.pyplot as plt\n",
    "\n",
    "# read dataset\n",
    "df = pd.read_csv('data/data.csv')"
   ],
   "id": "4b2f8e2774623b06",
   "outputs": [],
   "execution_count": 7
  },
  {
   "metadata": {
    "ExecuteTime": {
     "end_time": "2024-06-21T16:18:37.718391Z",
     "start_time": "2024-06-21T16:18:37.635576Z"
    }
   },
   "cell_type": "code",
   "source": [
    "# Display the first few rows of the dataset and summary information\n",
    "df.head(), df.info(), df.describe(include='all'), df.shape"
   ],
   "id": "c8b6c0d83d4c9ff7",
   "outputs": [
    {
     "name": "stdout",
     "output_type": "stream",
     "text": [
      "<class 'pandas.core.frame.DataFrame'>\n",
      "RangeIndex: 43776 entries, 0 to 43775\n",
      "Data columns (total 6 columns):\n",
      " #   Column       Non-Null Count  Dtype  \n",
      "---  ------       --------------  -----  \n",
      " 0   country      43776 non-null  object \n",
      " 1   year         43776 non-null  int64  \n",
      " 2   sex          43776 non-null  object \n",
      " 3   age          43776 non-null  object \n",
      " 4   suicides_no  41520 non-null  float64\n",
      " 5   population   38316 non-null  float64\n",
      "dtypes: float64(2), int64(1), object(3)\n",
      "memory usage: 2.0+ MB\n"
     ]
    },
    {
     "data": {
      "text/plain": [
       "(   country  year     sex          age  suicides_no  population\n",
       " 0  Albania  1985  female  15-24 years          NaN    277900.0\n",
       " 1  Albania  1985  female  25-34 years          NaN    246800.0\n",
       " 2  Albania  1985  female  35-54 years          NaN    267500.0\n",
       " 3  Albania  1985  female   5-14 years          NaN    298300.0\n",
       " 4  Albania  1985  female  55-74 years          NaN    138700.0,\n",
       " None,\n",
       "         country          year     sex          age   suicides_no    population\n",
       " count     43776  43776.000000   43776        43776  41520.000000  3.831600e+04\n",
       " unique      141           NaN       2            6           NaN           NaN\n",
       " top     Austria           NaN  female  15-24 years           NaN           NaN\n",
       " freq        456           NaN   21888         7296           NaN           NaN\n",
       " mean        NaN   1998.502467     NaN          NaN    193.315390  1.664091e+06\n",
       " std         NaN     10.338711     NaN          NaN    800.589926  3.647231e+06\n",
       " min         NaN   1979.000000     NaN          NaN      0.000000  2.590000e+02\n",
       " 25%         NaN   1990.000000     NaN          NaN      1.000000  8.511275e+04\n",
       " 50%         NaN   1999.000000     NaN          NaN     14.000000  3.806550e+05\n",
       " 75%         NaN   2007.000000     NaN          NaN     91.000000  1.305698e+06\n",
       " max         NaN   2016.000000     NaN          NaN  22338.000000  4.380521e+07,\n",
       " (43776, 6))"
      ]
     },
     "execution_count": 8,
     "metadata": {},
     "output_type": "execute_result"
    }
   ],
   "execution_count": 8
  },
  {
   "metadata": {
    "ExecuteTime": {
     "end_time": "2024-06-21T16:18:37.808107Z",
     "start_time": "2024-06-21T16:18:37.722393Z"
    }
   },
   "cell_type": "code",
   "source": [
    "# Create a mapping dictionary to standardize country names\n",
    "country_name_mapping = {\n",
    "    'Russian Federation': 'Russia',\n",
    "    'Reunion': 'France',\n",
    "    'Aruba': 'Netherlands',\n",
    "    'Saint Vincent and Grenadines': 'Saint Vincent and the Grenadines',\n",
    "    'Cabo Verde': 'Cape Verde',\n",
    "    'French Guiana': 'France',\n",
    "    'Cayman Islands': 'United Kingdom',\n",
    "    'Sao Tome and Principe': 'São Tomé and Príncipe',\n",
    "    'Macau': 'China',\n",
    "    'Brunei Darussalam': 'Brunei',\n",
    "    'Hong Kong SAR': 'China',\n",
    "    'Republic of Moldova': 'Moldova',\n",
    "    'Antigua and Barbuda': 'Antigua And Barbuda',\n",
    "    'Venezuela (Bolivarian Republic of)': 'Venezuela',\n",
    "    'Mayotte': 'France',\n",
    "    'Saint Kitts and Nevis': 'Saint Kitts And Nevis',\n",
    "    'Virgin Islands (USA)': 'United States',\n",
    "    'Bermuda': 'United Kingdom',\n",
    "    'Guadeloupe': 'France',\n",
    "    'Republic of Korea': 'South Korea',\n",
    "    'Martinique': 'France',\n",
    "    'Iran (Islamic Rep of)': 'Iran',\n",
    "    'Rodrigues': 'Mauritius',\n",
    "    'Czech Republic': 'Czechia',\n",
    "    'TFYR Macedonia': 'North Macedonia'\n",
    "}\n",
    "\n",
    "# Apply the mapping to standardize country names\n",
    "df['country'] = df['country'].replace(country_name_mapping)"
   ],
   "id": "10fb7f7b051b4ae4",
   "outputs": [],
   "execution_count": 9
  },
  {
   "metadata": {
    "ExecuteTime": {
     "end_time": "2024-06-21T16:18:38.392736Z",
     "start_time": "2024-06-21T16:18:38.322625Z"
    }
   },
   "cell_type": "code",
   "source": [
    "# Handle missing values by dropping rows with missing values\n",
    "df = df.dropna()\n",
    "\n",
    "# Convert categorical columns to category type\n",
    "df['country'] = df['country'].astype('category')\n",
    "df['sex'] = df['sex'].astype('category')\n",
    "df['age'] = df['age'].astype('category')\n",
    "\n",
    "# Verify the changes\n",
    "print(df.info())\n",
    "print(df.head())\n",
    "print(df.shape)"
   ],
   "id": "fbc121e30a2defb3",
   "outputs": [
    {
     "name": "stdout",
     "output_type": "stream",
     "text": [
      "<class 'pandas.core.frame.DataFrame'>\n",
      "Index: 36060 entries, 24 to 43763\n",
      "Data columns (total 6 columns):\n",
      " #   Column       Non-Null Count  Dtype   \n",
      "---  ------       --------------  -----   \n",
      " 0   country      36060 non-null  category\n",
      " 1   year         36060 non-null  int64   \n",
      " 2   sex          36060 non-null  category\n",
      " 3   age          36060 non-null  category\n",
      " 4   suicides_no  36060 non-null  float64 \n",
      " 5   population   36060 non-null  float64 \n",
      "dtypes: category(3), float64(2), int64(1)\n",
      "memory usage: 1.2 MB\n",
      "None\n",
      "    country  year     sex          age  suicides_no  population\n",
      "24  Albania  1987  female  15-24 years         14.0    289700.0\n",
      "25  Albania  1987  female  25-34 years          4.0    257200.0\n",
      "26  Albania  1987  female  35-54 years          6.0    278800.0\n",
      "27  Albania  1987  female   5-14 years          0.0    311000.0\n",
      "28  Albania  1987  female  55-74 years          0.0    144600.0\n",
      "(36060, 6)\n"
     ]
    }
   ],
   "execution_count": 11
  },
  {
   "metadata": {
    "ExecuteTime": {
     "end_time": "2024-06-21T16:18:38.643562Z",
     "start_time": "2024-06-21T16:18:38.394739Z"
    }
   },
   "cell_type": "code",
   "source": [
    "# Save dataset\n",
    "df.to_csv('data/who_suicide_statistics.csv', index=False)"
   ],
   "id": "8eca1f0db66f062c",
   "outputs": [],
   "execution_count": 12
  }
 ],
 "metadata": {
  "kernelspec": {
   "display_name": "Python 3",
   "language": "python",
   "name": "python3"
  },
  "language_info": {
   "codemirror_mode": {
    "name": "ipython",
    "version": 2
   },
   "file_extension": ".py",
   "mimetype": "text/x-python",
   "name": "python",
   "nbconvert_exporter": "python",
   "pygments_lexer": "ipython2",
   "version": "2.7.6"
  }
 },
 "nbformat": 4,
 "nbformat_minor": 5
}
