{
 "cells": [
  {
   "cell_type": "markdown",
   "source": [
    "![New York City schoolbus](schoolbus.jpg)\n",
    "\n",
    "Photo by [Jannis Lucas](https://unsplash.com/@jannis_lucas) on [Unsplash](https://unsplash.com).\n",
    "<br>\n",
    "\n",
    "Every year, American high school students take SATs, which are standardized tests intended to measure literacy, numeracy, and writing skills. There are three sections - reading, math, and writing, each with a **maximum score of 800 points**. These tests are extremely important for students and colleges, as they play a pivotal role in the admissions process.\n",
    "\n",
    "Analyzing the performance of schools is important for a variety of stakeholders, including policy and education professionals, researchers, government, and even parents considering which school their children should attend. \n",
    "\n",
    "You have been provided with a dataset called `schools.csv`, which is previewed below.\n",
    "\n",
    "You have been tasked with answering three key questions about New York City (NYC) public school SAT performance."
   ],
   "metadata": {
    "collapsed": false
   },
   "id": "528b8eb02dbe9a1b"
  },
  {
   "cell_type": "code",
   "outputs": [
    {
     "data": {
      "text/plain": "                                         school_name    borough building_code  \\\n0  New Explorations into Science, Technology and ...  Manhattan          M022   \n1                               Essex Street Academy  Manhattan          M445   \n2                       Lower Manhattan Arts Academy  Manhattan          M445   \n3    High School for Dual Language and Asian Studies  Manhattan          M445   \n4      Henry Street School for International Studies  Manhattan          M056   \n\n   average_math  average_reading  average_writing  percent_tested  \n0           657              601              601             NaN  \n1           395              411              387            78.9  \n2           418              428              415            65.1  \n3           613              453              463            95.9  \n4           410              406              381            59.7  ",
      "text/html": "<div>\n<style scoped>\n    .dataframe tbody tr th:only-of-type {\n        vertical-align: middle;\n    }\n\n    .dataframe tbody tr th {\n        vertical-align: top;\n    }\n\n    .dataframe thead th {\n        text-align: right;\n    }\n</style>\n<table border=\"1\" class=\"dataframe\">\n  <thead>\n    <tr style=\"text-align: right;\">\n      <th></th>\n      <th>school_name</th>\n      <th>borough</th>\n      <th>building_code</th>\n      <th>average_math</th>\n      <th>average_reading</th>\n      <th>average_writing</th>\n      <th>percent_tested</th>\n    </tr>\n  </thead>\n  <tbody>\n    <tr>\n      <th>0</th>\n      <td>New Explorations into Science, Technology and ...</td>\n      <td>Manhattan</td>\n      <td>M022</td>\n      <td>657</td>\n      <td>601</td>\n      <td>601</td>\n      <td>NaN</td>\n    </tr>\n    <tr>\n      <th>1</th>\n      <td>Essex Street Academy</td>\n      <td>Manhattan</td>\n      <td>M445</td>\n      <td>395</td>\n      <td>411</td>\n      <td>387</td>\n      <td>78.9</td>\n    </tr>\n    <tr>\n      <th>2</th>\n      <td>Lower Manhattan Arts Academy</td>\n      <td>Manhattan</td>\n      <td>M445</td>\n      <td>418</td>\n      <td>428</td>\n      <td>415</td>\n      <td>65.1</td>\n    </tr>\n    <tr>\n      <th>3</th>\n      <td>High School for Dual Language and Asian Studies</td>\n      <td>Manhattan</td>\n      <td>M445</td>\n      <td>613</td>\n      <td>453</td>\n      <td>463</td>\n      <td>95.9</td>\n    </tr>\n    <tr>\n      <th>4</th>\n      <td>Henry Street School for International Studies</td>\n      <td>Manhattan</td>\n      <td>M056</td>\n      <td>410</td>\n      <td>406</td>\n      <td>381</td>\n      <td>59.7</td>\n    </tr>\n  </tbody>\n</table>\n</div>"
     },
     "execution_count": 1,
     "metadata": {},
     "output_type": "execute_result"
    }
   ],
   "source": [
    "# Re-run this cell \n",
    "import pandas as pd\n",
    "\n",
    "# Read in the data\n",
    "schools = pd.read_csv(\"schools.csv\")\n",
    "\n",
    "# Preview the data\n",
    "schools.head()"
   ],
   "metadata": {
    "collapsed": false,
    "ExecuteTime": {
     "end_time": "2024-02-15T21:32:56.857842Z",
     "start_time": "2024-02-15T21:32:54.688020Z"
    }
   },
   "id": "9299c42056297bce",
   "execution_count": 1
  },
  {
   "cell_type": "code",
   "outputs": [
    {
     "name": "stdout",
     "output_type": "stream",
     "text": [
      "                                         school_name  average_math\n",
      "0                             Stuyvesant High School           754\n",
      "1                       Bronx High School of Science           714\n",
      "2                Staten Island Technical High School           711\n",
      "3  Queens High School for the Sciences at York Co...           701\n",
      "4  High School for Mathematics, Science, and Engi...           683\n",
      "5                     Brooklyn Technical High School           682\n",
      "6                        Townsend Harris High School           680\n",
      "7  High School of American Studies at Lehman College           669\n",
      "8  New Explorations into Science, Technology and ...           657\n",
      "9                      Eleanor Roosevelt High School           641\n"
     ]
    }
   ],
   "source": [
    "# Calculate the maximum possible score for math\n",
    "max_math_score = 800\n",
    "\n",
    "# Filter schools with average math score at least 80% of the maximum\n",
    "best_math_schools = schools[schools['average_math'] >= 0.8 * max_math_score]\n",
    "\n",
    "# Select only the necessary columns\n",
    "best_math_schools = best_math_schools[['school_name', 'average_math']]\n",
    "\n",
    "# Sort by average_math score in descending order\n",
    "best_math_schools = best_math_schools.sort_values(by='average_math', ascending=False)\n",
    "\n",
    "# Reset index\n",
    "best_math_schools.reset_index(drop=True, inplace=True)\n",
    "\n",
    "# Display the resulting DataFrame\n",
    "print(best_math_schools)"
   ],
   "metadata": {
    "collapsed": false,
    "ExecuteTime": {
     "end_time": "2024-02-15T21:32:56.913321Z",
     "start_time": "2024-02-15T21:32:56.866830Z"
    }
   },
   "id": "eba289f3030f0b86",
   "execution_count": 2
  },
  {
   "cell_type": "code",
   "outputs": [
    {
     "name": "stdout",
     "output_type": "stream",
     "text": [
      "                                         school_name  total_SAT\n",
      "0                             Stuyvesant High School       2144\n",
      "1                       Bronx High School of Science       2041\n",
      "2                Staten Island Technical High School       2041\n",
      "3  High School of American Studies at Lehman College       2013\n",
      "4                        Townsend Harris High School       1981\n",
      "5  Queens High School for the Sciences at York Co...       1947\n",
      "6                     Bard High School Early College       1914\n",
      "7                     Brooklyn Technical High School       1896\n",
      "8                      Eleanor Roosevelt High School       1889\n",
      "9  High School for Mathematics, Science, and Engi...       1889\n"
     ]
    }
   ],
   "source": [
    "# Calculate the total SAT score for each school\n",
    "schools['total_SAT'] = schools['average_math'] + schools['average_reading'] + schools['average_writing']\n",
    "\n",
    "# Select the necessary columns\n",
    "top_10_schools = schools[['school_name', 'total_SAT']]\n",
    "\n",
    "# Sort by total SAT score in descending order\n",
    "top_10_schools = top_10_schools.sort_values(by='total_SAT', ascending=False)\n",
    "\n",
    "# Take the top 10 performing schools\n",
    "top_10_schools = top_10_schools.head(10)\n",
    "\n",
    "# Reset index\n",
    "top_10_schools.reset_index(drop=True, inplace=True)\n",
    "\n",
    "# Display the resulting DataFrame\n",
    "print(top_10_schools)"
   ],
   "metadata": {
    "collapsed": false,
    "ExecuteTime": {
     "end_time": "2024-02-15T21:32:56.961803Z",
     "start_time": "2024-02-15T21:32:56.916827Z"
    }
   },
   "id": "2867d06ad075ed2f",
   "execution_count": 3
  },
  {
   "cell_type": "code",
   "outputs": [
    {
     "name": "stdout",
     "output_type": "stream",
     "text": [
      "           num_schools  average_SAT  std_SAT\n",
      "borough                                     \n",
      "Manhattan           89      1340.13   230.29\n"
     ]
    }
   ],
   "source": [
    "# Calculate total SAT score for each school\n",
    "schools['total_SAT'] = schools['average_math'] + schools['average_reading'] + schools['average_writing']\n",
    "\n",
    "# Group by borough and calculate mean and standard deviation of total SAT score\n",
    "borough_stats = schools.groupby('borough')['total_SAT'].agg(['count', 'mean', 'std'])\n",
    "\n",
    "# Rename columns\n",
    "borough_stats.columns = ['num_schools', 'average_SAT', 'std_SAT']\n",
    "\n",
    "# Find the borough with the largest standard deviation\n",
    "largest_std_dev = borough_stats[borough_stats['std_SAT'] == borough_stats['std_SAT'].max()]\n",
    "\n",
    "# Round numeric values to two decimal places\n",
    "largest_std_dev = largest_std_dev.round(2)\n",
    "\n",
    "# Reset index to make 'borough' a column\n",
    "largest_std_dev.reset_index(inplace=True)\n",
    "\n",
    "# Set 'borough' as the index\n",
    "largest_std_dev.set_index('borough', inplace=True)\n",
    "\n",
    "# Display the resulting DataFrame\n",
    "print(largest_std_dev)"
   ],
   "metadata": {
    "collapsed": false,
    "ExecuteTime": {
     "end_time": "2024-02-15T21:32:57.021781Z",
     "start_time": "2024-02-15T21:32:56.965801Z"
    }
   },
   "id": "81d5d119f09082d7",
   "execution_count": 4
  }
 ],
 "metadata": {
  "kernelspec": {
   "display_name": "Python 3",
   "language": "python",
   "name": "python3"
  },
  "language_info": {
   "codemirror_mode": {
    "name": "ipython",
    "version": 2
   },
   "file_extension": ".py",
   "mimetype": "text/x-python",
   "name": "python",
   "nbconvert_exporter": "python",
   "pygments_lexer": "ipython2",
   "version": "2.7.6"
  }
 },
 "nbformat": 4,
 "nbformat_minor": 5
}
