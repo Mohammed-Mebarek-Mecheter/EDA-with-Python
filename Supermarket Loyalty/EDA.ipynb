{
 "cells": [
  {
   "cell_type": "code",
   "id": "initial_id",
   "metadata": {
    "collapsed": true,
    "ExecuteTime": {
     "end_time": "2024-04-20T22:55:31.090674Z",
     "start_time": "2024-04-20T22:55:31.083409Z"
    }
   },
   "source": [
    "import pandas as pd\n",
    "import numpy as np"
   ],
   "outputs": [],
   "execution_count": 57
  },
  {
   "metadata": {
    "ExecuteTime": {
     "end_time": "2024-04-20T22:55:31.146351Z",
     "start_time": "2024-04-20T22:55:31.128992Z"
    }
   },
   "cell_type": "code",
   "source": [
    "df = pd.read_csv('loyalty.csv')\n",
    "data = pd.DataFrame(df)"
   ],
   "id": "5a5ead935de7f0a9",
   "outputs": [],
   "execution_count": 58
  },
  {
   "metadata": {
    "ExecuteTime": {
     "end_time": "2024-04-20T22:55:31.278422Z",
     "start_time": "2024-04-20T22:55:31.244302Z"
    }
   },
   "cell_type": "code",
   "source": "data.head()",
   "id": "8353fbe8083168e4",
   "outputs": [
    {
     "data": {
      "text/plain": [
       "   customer_id   spend first_month  items_in_first_month              region  \\\n",
       "0            1  132.68       15.30                     5        Asia/Pacific   \n",
       "1            2  106.45       16.20                    14        Asia/Pacific   \n",
       "2            3  123.16       25.26                     7  Middle East/Africa   \n",
       "3            4  130.60       24.74                     8  Middle East/Africa   \n",
       "4            5  130.41       25.59                     8  Middle East/Africa   \n",
       "\n",
       "  loyalty_years joining_month promotion  \n",
       "0        10-May           Nov        No  \n",
       "1           NaN           Feb       Yes  \n",
       "2           NaN           Dec       Yes  \n",
       "3         5-Mar           Apr        No  \n",
       "4         5-Mar           Apr       Yes  "
      ],
      "text/html": [
       "<div>\n",
       "<style scoped>\n",
       "    .dataframe tbody tr th:only-of-type {\n",
       "        vertical-align: middle;\n",
       "    }\n",
       "\n",
       "    .dataframe tbody tr th {\n",
       "        vertical-align: top;\n",
       "    }\n",
       "\n",
       "    .dataframe thead th {\n",
       "        text-align: right;\n",
       "    }\n",
       "</style>\n",
       "<table border=\"1\" class=\"dataframe\">\n",
       "  <thead>\n",
       "    <tr style=\"text-align: right;\">\n",
       "      <th></th>\n",
       "      <th>customer_id</th>\n",
       "      <th>spend</th>\n",
       "      <th>first_month</th>\n",
       "      <th>items_in_first_month</th>\n",
       "      <th>region</th>\n",
       "      <th>loyalty_years</th>\n",
       "      <th>joining_month</th>\n",
       "      <th>promotion</th>\n",
       "    </tr>\n",
       "  </thead>\n",
       "  <tbody>\n",
       "    <tr>\n",
       "      <th>0</th>\n",
       "      <td>1</td>\n",
       "      <td>132.68</td>\n",
       "      <td>15.30</td>\n",
       "      <td>5</td>\n",
       "      <td>Asia/Pacific</td>\n",
       "      <td>10-May</td>\n",
       "      <td>Nov</td>\n",
       "      <td>No</td>\n",
       "    </tr>\n",
       "    <tr>\n",
       "      <th>1</th>\n",
       "      <td>2</td>\n",
       "      <td>106.45</td>\n",
       "      <td>16.20</td>\n",
       "      <td>14</td>\n",
       "      <td>Asia/Pacific</td>\n",
       "      <td>NaN</td>\n",
       "      <td>Feb</td>\n",
       "      <td>Yes</td>\n",
       "    </tr>\n",
       "    <tr>\n",
       "      <th>2</th>\n",
       "      <td>3</td>\n",
       "      <td>123.16</td>\n",
       "      <td>25.26</td>\n",
       "      <td>7</td>\n",
       "      <td>Middle East/Africa</td>\n",
       "      <td>NaN</td>\n",
       "      <td>Dec</td>\n",
       "      <td>Yes</td>\n",
       "    </tr>\n",
       "    <tr>\n",
       "      <th>3</th>\n",
       "      <td>4</td>\n",
       "      <td>130.60</td>\n",
       "      <td>24.74</td>\n",
       "      <td>8</td>\n",
       "      <td>Middle East/Africa</td>\n",
       "      <td>5-Mar</td>\n",
       "      <td>Apr</td>\n",
       "      <td>No</td>\n",
       "    </tr>\n",
       "    <tr>\n",
       "      <th>4</th>\n",
       "      <td>5</td>\n",
       "      <td>130.41</td>\n",
       "      <td>25.59</td>\n",
       "      <td>8</td>\n",
       "      <td>Middle East/Africa</td>\n",
       "      <td>5-Mar</td>\n",
       "      <td>Apr</td>\n",
       "      <td>Yes</td>\n",
       "    </tr>\n",
       "  </tbody>\n",
       "</table>\n",
       "</div>"
      ]
     },
     "execution_count": 59,
     "metadata": {},
     "output_type": "execute_result"
    }
   ],
   "execution_count": 59
  },
  {
   "metadata": {
    "ExecuteTime": {
     "end_time": "2024-04-20T22:55:31.361969Z",
     "start_time": "2024-04-20T22:55:31.306414Z"
    }
   },
   "cell_type": "code",
   "source": "data.info()",
   "id": "a62fbdbb770242d8",
   "outputs": [
    {
     "name": "stdout",
     "output_type": "stream",
     "text": [
      "<class 'pandas.core.frame.DataFrame'>\n",
      "RangeIndex: 1246 entries, 0 to 1245\n",
      "Data columns (total 8 columns):\n",
      " #   Column                Non-Null Count  Dtype  \n",
      "---  ------                --------------  -----  \n",
      " 0   customer_id           1246 non-null   int64  \n",
      " 1   spend                 1246 non-null   float64\n",
      " 2   first_month           1246 non-null   object \n",
      " 3   items_in_first_month  1246 non-null   int64  \n",
      " 4   region                1246 non-null   object \n",
      " 5   loyalty_years         747 non-null    object \n",
      " 6   joining_month         1121 non-null   object \n",
      " 7   promotion             1246 non-null   object \n",
      "dtypes: float64(1), int64(2), object(5)\n",
      "memory usage: 78.0+ KB\n"
     ]
    }
   ],
   "execution_count": 60
  },
  {
   "metadata": {
    "ExecuteTime": {
     "end_time": "2024-04-20T22:55:31.433876Z",
     "start_time": "2024-04-20T22:55:31.416447Z"
    }
   },
   "cell_type": "code",
   "source": "data.dtypes",
   "id": "4ff67e01eec87b84",
   "outputs": [
    {
     "data": {
      "text/plain": [
       "customer_id               int64\n",
       "spend                   float64\n",
       "first_month              object\n",
       "items_in_first_month      int64\n",
       "region                   object\n",
       "loyalty_years            object\n",
       "joining_month            object\n",
       "promotion                object\n",
       "dtype: object"
      ]
     },
     "execution_count": 61,
     "metadata": {},
     "output_type": "execute_result"
    }
   ],
   "execution_count": 61
  },
  {
   "metadata": {
    "ExecuteTime": {
     "end_time": "2024-04-20T22:55:31.512523Z",
     "start_time": "2024-04-20T22:55:31.492007Z"
    }
   },
   "cell_type": "code",
   "source": "data.nunique()",
   "id": "2d532457d1983e",
   "outputs": [
    {
     "data": {
      "text/plain": [
       "customer_id             1246\n",
       "spend                    861\n",
       "first_month              491\n",
       "items_in_first_month      11\n",
       "region                     4\n",
       "loyalty_years              3\n",
       "joining_month             12\n",
       "promotion                  4\n",
       "dtype: int64"
      ]
     },
     "execution_count": 62,
     "metadata": {},
     "output_type": "execute_result"
    }
   ],
   "execution_count": 62
  },
  {
   "metadata": {
    "ExecuteTime": {
     "end_time": "2024-04-20T22:55:31.649577Z",
     "start_time": "2024-04-20T22:55:31.632840Z"
    }
   },
   "cell_type": "code",
   "source": "data.isnull().sum()",
   "id": "b0a81a542105094f",
   "outputs": [
    {
     "data": {
      "text/plain": [
       "customer_id               0\n",
       "spend                     0\n",
       "first_month               0\n",
       "items_in_first_month      0\n",
       "region                    0\n",
       "loyalty_years           499\n",
       "joining_month           125\n",
       "promotion                 0\n",
       "dtype: int64"
      ]
     },
     "execution_count": 63,
     "metadata": {},
     "output_type": "execute_result"
    }
   ],
   "execution_count": 63
  },
  {
   "metadata": {
    "ExecuteTime": {
     "end_time": "2024-04-20T22:55:31.894886Z",
     "start_time": "2024-04-20T22:55:31.848416Z"
    }
   },
   "cell_type": "code",
   "source": "data.columns()",
   "id": "3cf34270ee3d1737",
   "outputs": [
    {
     "ename": "TypeError",
     "evalue": "'Index' object is not callable",
     "output_type": "error",
     "traceback": [
      "\u001B[1;31m---------------------------------------------------------------------------\u001B[0m",
      "\u001B[1;31mTypeError\u001B[0m                                 Traceback (most recent call last)",
      "Cell \u001B[1;32mIn[64], line 1\u001B[0m\n\u001B[1;32m----> 1\u001B[0m data\u001B[38;5;241m.\u001B[39mcolumns()\n",
      "\u001B[1;31mTypeError\u001B[0m: 'Index' object is not callable"
     ]
    }
   ],
   "execution_count": 64
  },
  {
   "metadata": {
    "ExecuteTime": {
     "end_time": "2024-04-20T22:56:04.621576Z",
     "start_time": "2024-04-20T22:56:04.476575Z"
    }
   },
   "cell_type": "code",
   "source": [
    "# Forward fill null values with the value that comes after\n",
    "data = data['joining_month'].ffill()\n",
    "\n",
    "# Backward fill null values with the value that comes before\n",
    "data = data['joining_month'].bfill()"
   ],
   "id": "cea72e22068553c1",
   "outputs": [
    {
     "ename": "KeyError",
     "evalue": "'joining_month'",
     "output_type": "error",
     "traceback": [
      "\u001B[1;31m---------------------------------------------------------------------------\u001B[0m",
      "\u001B[1;31mKeyError\u001B[0m                                  Traceback (most recent call last)",
      "Cell \u001B[1;32mIn[66], line 2\u001B[0m\n\u001B[0;32m      1\u001B[0m \u001B[38;5;66;03m# Forward fill null values with the value that comes after\u001B[39;00m\n\u001B[1;32m----> 2\u001B[0m data \u001B[38;5;241m=\u001B[39m data[\u001B[38;5;124m'\u001B[39m\u001B[38;5;124mjoining_month\u001B[39m\u001B[38;5;124m'\u001B[39m]\u001B[38;5;241m.\u001B[39mffill()\n\u001B[0;32m      4\u001B[0m \u001B[38;5;66;03m# Backward fill null values with the value that comes before\u001B[39;00m\n\u001B[0;32m      5\u001B[0m data \u001B[38;5;241m=\u001B[39m data[\u001B[38;5;124m'\u001B[39m\u001B[38;5;124mjoining_month\u001B[39m\u001B[38;5;124m'\u001B[39m]\u001B[38;5;241m.\u001B[39mbfill()\n",
      "File \u001B[1;32m~\\anaconda3\\Lib\\site-packages\\pandas\\core\\series.py:1040\u001B[0m, in \u001B[0;36mSeries.__getitem__\u001B[1;34m(self, key)\u001B[0m\n\u001B[0;32m   1037\u001B[0m     \u001B[38;5;28;01mreturn\u001B[39;00m \u001B[38;5;28mself\u001B[39m\u001B[38;5;241m.\u001B[39m_values[key]\n\u001B[0;32m   1039\u001B[0m \u001B[38;5;28;01melif\u001B[39;00m key_is_scalar:\n\u001B[1;32m-> 1040\u001B[0m     \u001B[38;5;28;01mreturn\u001B[39;00m \u001B[38;5;28mself\u001B[39m\u001B[38;5;241m.\u001B[39m_get_value(key)\n\u001B[0;32m   1042\u001B[0m \u001B[38;5;66;03m# Convert generator to list before going through hashable part\u001B[39;00m\n\u001B[0;32m   1043\u001B[0m \u001B[38;5;66;03m# (We will iterate through the generator there to check for slices)\u001B[39;00m\n\u001B[0;32m   1044\u001B[0m \u001B[38;5;28;01mif\u001B[39;00m is_iterator(key):\n",
      "File \u001B[1;32m~\\anaconda3\\Lib\\site-packages\\pandas\\core\\series.py:1156\u001B[0m, in \u001B[0;36mSeries._get_value\u001B[1;34m(self, label, takeable)\u001B[0m\n\u001B[0;32m   1153\u001B[0m     \u001B[38;5;28;01mreturn\u001B[39;00m \u001B[38;5;28mself\u001B[39m\u001B[38;5;241m.\u001B[39m_values[label]\n\u001B[0;32m   1155\u001B[0m \u001B[38;5;66;03m# Similar to Index.get_value, but we do not fall back to positional\u001B[39;00m\n\u001B[1;32m-> 1156\u001B[0m loc \u001B[38;5;241m=\u001B[39m \u001B[38;5;28mself\u001B[39m\u001B[38;5;241m.\u001B[39mindex\u001B[38;5;241m.\u001B[39mget_loc(label)\n\u001B[0;32m   1158\u001B[0m \u001B[38;5;28;01mif\u001B[39;00m is_integer(loc):\n\u001B[0;32m   1159\u001B[0m     \u001B[38;5;28;01mreturn\u001B[39;00m \u001B[38;5;28mself\u001B[39m\u001B[38;5;241m.\u001B[39m_values[loc]\n",
      "File \u001B[1;32m~\\anaconda3\\Lib\\site-packages\\pandas\\core\\indexes\\range.py:418\u001B[0m, in \u001B[0;36mRangeIndex.get_loc\u001B[1;34m(self, key)\u001B[0m\n\u001B[0;32m    416\u001B[0m         \u001B[38;5;28;01mraise\u001B[39;00m \u001B[38;5;167;01mKeyError\u001B[39;00m(key) \u001B[38;5;28;01mfrom\u001B[39;00m \u001B[38;5;21;01merr\u001B[39;00m\n\u001B[0;32m    417\u001B[0m \u001B[38;5;28;01mif\u001B[39;00m \u001B[38;5;28misinstance\u001B[39m(key, Hashable):\n\u001B[1;32m--> 418\u001B[0m     \u001B[38;5;28;01mraise\u001B[39;00m \u001B[38;5;167;01mKeyError\u001B[39;00m(key)\n\u001B[0;32m    419\u001B[0m \u001B[38;5;28mself\u001B[39m\u001B[38;5;241m.\u001B[39m_check_indexing_error(key)\n\u001B[0;32m    420\u001B[0m \u001B[38;5;28;01mraise\u001B[39;00m \u001B[38;5;167;01mKeyError\u001B[39;00m(key)\n",
      "\u001B[1;31mKeyError\u001B[0m: 'joining_month'"
     ]
    }
   ],
   "execution_count": 66
  },
  {
   "metadata": {
    "ExecuteTime": {
     "end_time": "2024-04-20T22:55:32.388904Z",
     "start_time": "2024-04-20T22:55:32.388904Z"
    }
   },
   "cell_type": "code",
   "source": [
    "# Forward fill null values with the value that comes after\n",
    "data = data['loyalty_years'].ffill()\n",
    "\n",
    "# Backward fill null values with the value that comes before\n",
    "data = data['loyalty_years'].bfill()"
   ],
   "id": "d3b0a75551471334",
   "outputs": [],
   "execution_count": null
  },
  {
   "metadata": {
    "ExecuteTime": {
     "end_time": "2024-04-20T22:55:32.394902Z",
     "start_time": "2024-04-20T22:55:32.393902Z"
    }
   },
   "cell_type": "code",
   "source": [
    "# Replace '.' with NaN\n",
    "data['first_month'] = data['first_month'].replace('.', np.nan)\n",
    "\n",
    "# Forward fill null values\n",
    "data = data['first_month'].ffill()\n",
    "\n",
    "# Backward fill null values\n",
    "data = data['first_month'].bfill()"
   ],
   "id": "1b6350df3f6117fb",
   "outputs": [],
   "execution_count": null
  },
  {
   "metadata": {
    "ExecuteTime": {
     "end_time": "2024-04-20T22:55:32.400897Z",
     "start_time": "2024-04-20T22:55:32.399899Z"
    }
   },
   "cell_type": "code",
   "source": [
    "# covert first_month to float\n",
    "data['first_month'] = data['first_month'].astype(float)"
   ],
   "id": "7a8d5b0a0c091b40",
   "outputs": [],
   "execution_count": null
  },
  {
   "metadata": {
    "ExecuteTime": {
     "end_time": "2024-04-20T22:55:32.423884Z",
     "start_time": "2024-04-20T22:55:32.406895Z"
    }
   },
   "cell_type": "code",
   "source": "data.describe()",
   "id": "189013bbfa68dc2b",
   "outputs": [],
   "execution_count": null
  },
  {
   "metadata": {
    "ExecuteTime": {
     "end_time": "2024-04-20T22:55:32.428882Z",
     "start_time": "2024-04-20T22:55:32.427883Z"
    }
   },
   "cell_type": "code",
   "source": "",
   "id": "7923a47793304e18",
   "outputs": [],
   "execution_count": null
  }
 ],
 "metadata": {
  "kernelspec": {
   "display_name": "Python 3",
   "language": "python",
   "name": "python3"
  },
  "language_info": {
   "codemirror_mode": {
    "name": "ipython",
    "version": 2
   },
   "file_extension": ".py",
   "mimetype": "text/x-python",
   "name": "python",
   "nbconvert_exporter": "python",
   "pygments_lexer": "ipython2",
   "version": "2.7.6"
  }
 },
 "nbformat": 4,
 "nbformat_minor": 5
}
