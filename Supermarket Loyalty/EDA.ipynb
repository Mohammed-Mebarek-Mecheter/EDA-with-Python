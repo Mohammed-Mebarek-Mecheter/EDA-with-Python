{
 "cells": [
  {
   "cell_type": "code",
   "id": "initial_id",
   "metadata": {
    "collapsed": true,
    "ExecuteTime": {
     "end_time": "2024-04-21T22:52:31.415714Z",
     "start_time": "2024-04-21T22:52:31.398685Z"
    }
   },
   "source": [
    "import pandas as pd\n",
    "import numpy as np"
   ],
   "outputs": [],
   "execution_count": 18
  },
  {
   "metadata": {
    "ExecuteTime": {
     "end_time": "2024-04-21T22:52:31.457192Z",
     "start_time": "2024-04-21T22:52:31.435959Z"
    }
   },
   "cell_type": "code",
   "source": [
    "df = pd.read_csv('loyalty.csv')\n",
    "data = pd.DataFrame(df)"
   ],
   "id": "5a5ead935de7f0a9",
   "outputs": [],
   "execution_count": 19
  },
  {
   "metadata": {
    "ExecuteTime": {
     "end_time": "2024-04-21T22:52:31.575603Z",
     "start_time": "2024-04-21T22:52:31.546906Z"
    }
   },
   "cell_type": "code",
   "source": "data.head()",
   "id": "8353fbe8083168e4",
   "outputs": [
    {
     "data": {
      "text/plain": [
       "   customer_id   spend first_month  items_in_first_month              region  \\\n",
       "0            1  132.68       15.30                     5        Asia/Pacific   \n",
       "1            2  106.45       16.20                    14        Asia/Pacific   \n",
       "2            3  123.16       25.26                     7  Middle East/Africa   \n",
       "3            4  130.60       24.74                     8  Middle East/Africa   \n",
       "4            5  130.41       25.59                     8  Middle East/Africa   \n",
       "\n",
       "  loyalty_years joining_month promotion  \n",
       "0        10-May           Nov        No  \n",
       "1           NaN           Feb       Yes  \n",
       "2           NaN           Dec       Yes  \n",
       "3         5-Mar           Apr        No  \n",
       "4         5-Mar           Apr       Yes  "
      ],
      "text/html": [
       "<div>\n",
       "<style scoped>\n",
       "    .dataframe tbody tr th:only-of-type {\n",
       "        vertical-align: middle;\n",
       "    }\n",
       "\n",
       "    .dataframe tbody tr th {\n",
       "        vertical-align: top;\n",
       "    }\n",
       "\n",
       "    .dataframe thead th {\n",
       "        text-align: right;\n",
       "    }\n",
       "</style>\n",
       "<table border=\"1\" class=\"dataframe\">\n",
       "  <thead>\n",
       "    <tr style=\"text-align: right;\">\n",
       "      <th></th>\n",
       "      <th>customer_id</th>\n",
       "      <th>spend</th>\n",
       "      <th>first_month</th>\n",
       "      <th>items_in_first_month</th>\n",
       "      <th>region</th>\n",
       "      <th>loyalty_years</th>\n",
       "      <th>joining_month</th>\n",
       "      <th>promotion</th>\n",
       "    </tr>\n",
       "  </thead>\n",
       "  <tbody>\n",
       "    <tr>\n",
       "      <th>0</th>\n",
       "      <td>1</td>\n",
       "      <td>132.68</td>\n",
       "      <td>15.30</td>\n",
       "      <td>5</td>\n",
       "      <td>Asia/Pacific</td>\n",
       "      <td>10-May</td>\n",
       "      <td>Nov</td>\n",
       "      <td>No</td>\n",
       "    </tr>\n",
       "    <tr>\n",
       "      <th>1</th>\n",
       "      <td>2</td>\n",
       "      <td>106.45</td>\n",
       "      <td>16.20</td>\n",
       "      <td>14</td>\n",
       "      <td>Asia/Pacific</td>\n",
       "      <td>NaN</td>\n",
       "      <td>Feb</td>\n",
       "      <td>Yes</td>\n",
       "    </tr>\n",
       "    <tr>\n",
       "      <th>2</th>\n",
       "      <td>3</td>\n",
       "      <td>123.16</td>\n",
       "      <td>25.26</td>\n",
       "      <td>7</td>\n",
       "      <td>Middle East/Africa</td>\n",
       "      <td>NaN</td>\n",
       "      <td>Dec</td>\n",
       "      <td>Yes</td>\n",
       "    </tr>\n",
       "    <tr>\n",
       "      <th>3</th>\n",
       "      <td>4</td>\n",
       "      <td>130.60</td>\n",
       "      <td>24.74</td>\n",
       "      <td>8</td>\n",
       "      <td>Middle East/Africa</td>\n",
       "      <td>5-Mar</td>\n",
       "      <td>Apr</td>\n",
       "      <td>No</td>\n",
       "    </tr>\n",
       "    <tr>\n",
       "      <th>4</th>\n",
       "      <td>5</td>\n",
       "      <td>130.41</td>\n",
       "      <td>25.59</td>\n",
       "      <td>8</td>\n",
       "      <td>Middle East/Africa</td>\n",
       "      <td>5-Mar</td>\n",
       "      <td>Apr</td>\n",
       "      <td>Yes</td>\n",
       "    </tr>\n",
       "  </tbody>\n",
       "</table>\n",
       "</div>"
      ]
     },
     "execution_count": 20,
     "metadata": {},
     "output_type": "execute_result"
    }
   ],
   "execution_count": 20
  },
  {
   "metadata": {
    "ExecuteTime": {
     "end_time": "2024-04-21T22:52:31.678486Z",
     "start_time": "2024-04-21T22:52:31.650303Z"
    }
   },
   "cell_type": "code",
   "source": "data.info()",
   "id": "a62fbdbb770242d8",
   "outputs": [
    {
     "name": "stdout",
     "output_type": "stream",
     "text": [
      "<class 'pandas.core.frame.DataFrame'>\n",
      "RangeIndex: 1246 entries, 0 to 1245\n",
      "Data columns (total 8 columns):\n",
      " #   Column                Non-Null Count  Dtype  \n",
      "---  ------                --------------  -----  \n",
      " 0   customer_id           1246 non-null   int64  \n",
      " 1   spend                 1246 non-null   float64\n",
      " 2   first_month           1246 non-null   object \n",
      " 3   items_in_first_month  1246 non-null   int64  \n",
      " 4   region                1246 non-null   object \n",
      " 5   loyalty_years         747 non-null    object \n",
      " 6   joining_month         1121 non-null   object \n",
      " 7   promotion             1246 non-null   object \n",
      "dtypes: float64(1), int64(2), object(5)\n",
      "memory usage: 78.0+ KB\n"
     ]
    }
   ],
   "execution_count": 21
  },
  {
   "metadata": {
    "ExecuteTime": {
     "end_time": "2024-04-21T22:52:31.831318Z",
     "start_time": "2024-04-21T22:52:31.817857Z"
    }
   },
   "cell_type": "code",
   "source": "data.dtypes",
   "id": "4ff67e01eec87b84",
   "outputs": [
    {
     "data": {
      "text/plain": [
       "customer_id               int64\n",
       "spend                   float64\n",
       "first_month              object\n",
       "items_in_first_month      int64\n",
       "region                   object\n",
       "loyalty_years            object\n",
       "joining_month            object\n",
       "promotion                object\n",
       "dtype: object"
      ]
     },
     "execution_count": 22,
     "metadata": {},
     "output_type": "execute_result"
    }
   ],
   "execution_count": 22
  },
  {
   "metadata": {
    "ExecuteTime": {
     "end_time": "2024-04-21T22:52:31.982552Z",
     "start_time": "2024-04-21T22:52:31.933380Z"
    }
   },
   "cell_type": "code",
   "source": "data.nunique()",
   "id": "2d532457d1983e",
   "outputs": [
    {
     "data": {
      "text/plain": [
       "customer_id             1246\n",
       "spend                    861\n",
       "first_month              491\n",
       "items_in_first_month      11\n",
       "region                     4\n",
       "loyalty_years              3\n",
       "joining_month             12\n",
       "promotion                  4\n",
       "dtype: int64"
      ]
     },
     "execution_count": 23,
     "metadata": {},
     "output_type": "execute_result"
    }
   ],
   "execution_count": 23
  },
  {
   "metadata": {
    "ExecuteTime": {
     "end_time": "2024-04-21T22:52:32.078668Z",
     "start_time": "2024-04-21T22:52:32.056863Z"
    }
   },
   "cell_type": "code",
   "source": "data.isnull().sum()",
   "id": "b0a81a542105094f",
   "outputs": [
    {
     "data": {
      "text/plain": [
       "customer_id               0\n",
       "spend                     0\n",
       "first_month               0\n",
       "items_in_first_month      0\n",
       "region                    0\n",
       "loyalty_years           499\n",
       "joining_month           125\n",
       "promotion                 0\n",
       "dtype: int64"
      ]
     },
     "execution_count": 24,
     "metadata": {},
     "output_type": "execute_result"
    }
   ],
   "execution_count": 24
  },
  {
   "metadata": {
    "ExecuteTime": {
     "end_time": "2024-04-21T22:52:32.330234Z",
     "start_time": "2024-04-21T22:52:32.317035Z"
    }
   },
   "cell_type": "code",
   "source": [
    "# Correct syntax to view column names\n",
    "column_names = data.columns\n",
    "print(column_names)"
   ],
   "id": "3cf34270ee3d1737",
   "outputs": [
    {
     "name": "stdout",
     "output_type": "stream",
     "text": [
      "Index(['customer_id', 'spend', 'first_month', 'items_in_first_month', 'region',\n",
      "       'loyalty_years', 'joining_month', 'promotion'],\n",
      "      dtype='object')\n"
     ]
    }
   ],
   "execution_count": 25
  },
  {
   "metadata": {
    "ExecuteTime": {
     "end_time": "2024-04-21T22:52:50.815233Z",
     "start_time": "2024-04-21T22:52:50.800125Z"
    }
   },
   "cell_type": "code",
   "source": [
    "# Replace '.' with NaN\n",
    "data['first_month'] = data['first_month'].replace('.', np.nan)"
   ],
   "id": "1b6350df3f6117fb",
   "outputs": [],
   "execution_count": 27
  },
  {
   "metadata": {
    "ExecuteTime": {
     "end_time": "2024-04-21T22:52:52.486881Z",
     "start_time": "2024-04-21T22:52:52.474958Z"
    }
   },
   "cell_type": "code",
   "source": [
    "# covert first_month to float\n",
    "data['first_month'] = data['first_month'].astype(float)"
   ],
   "id": "7a8d5b0a0c091b40",
   "outputs": [],
   "execution_count": 28
  },
  {
   "metadata": {
    "ExecuteTime": {
     "end_time": "2024-04-21T22:52:54.177865Z",
     "start_time": "2024-04-21T22:52:54.159783Z"
    }
   },
   "cell_type": "code",
   "source": [
    "# Forward fill null values throughout the entire DataFrame\n",
    "data = data.ffill()\n",
    "\n",
    "# Backward fill null values throughout the entire DataFrame\n",
    "data = data.bfill()"
   ],
   "id": "d3b0a75551471334",
   "outputs": [],
   "execution_count": 29
  },
  {
   "metadata": {
    "ExecuteTime": {
     "end_time": "2024-04-21T22:52:56.876319Z",
     "start_time": "2024-04-21T22:52:56.826043Z"
    }
   },
   "cell_type": "code",
   "source": "data.describe()",
   "id": "189013bbfa68dc2b",
   "outputs": [
    {
     "data": {
      "text/plain": [
       "       customer_id        spend  first_month  items_in_first_month\n",
       "count  1246.000000  1246.000000  1246.000000           1246.000000\n",
       "mean    623.500000   122.637119    19.058283              9.418138\n",
       "std     359.833526     9.975102     3.400569              3.000288\n",
       "min       1.000000   104.290000    13.320000              5.000000\n",
       "25%     312.250000   112.210000    16.050000              7.000000\n",
       "50%     623.500000   123.840000    19.620000              9.000000\n",
       "75%     934.750000   131.092500    21.317500             13.000000\n",
       "max    1246.000000   142.290000    26.200000             15.000000"
      ],
      "text/html": [
       "<div>\n",
       "<style scoped>\n",
       "    .dataframe tbody tr th:only-of-type {\n",
       "        vertical-align: middle;\n",
       "    }\n",
       "\n",
       "    .dataframe tbody tr th {\n",
       "        vertical-align: top;\n",
       "    }\n",
       "\n",
       "    .dataframe thead th {\n",
       "        text-align: right;\n",
       "    }\n",
       "</style>\n",
       "<table border=\"1\" class=\"dataframe\">\n",
       "  <thead>\n",
       "    <tr style=\"text-align: right;\">\n",
       "      <th></th>\n",
       "      <th>customer_id</th>\n",
       "      <th>spend</th>\n",
       "      <th>first_month</th>\n",
       "      <th>items_in_first_month</th>\n",
       "    </tr>\n",
       "  </thead>\n",
       "  <tbody>\n",
       "    <tr>\n",
       "      <th>count</th>\n",
       "      <td>1246.000000</td>\n",
       "      <td>1246.000000</td>\n",
       "      <td>1246.000000</td>\n",
       "      <td>1246.000000</td>\n",
       "    </tr>\n",
       "    <tr>\n",
       "      <th>mean</th>\n",
       "      <td>623.500000</td>\n",
       "      <td>122.637119</td>\n",
       "      <td>19.058283</td>\n",
       "      <td>9.418138</td>\n",
       "    </tr>\n",
       "    <tr>\n",
       "      <th>std</th>\n",
       "      <td>359.833526</td>\n",
       "      <td>9.975102</td>\n",
       "      <td>3.400569</td>\n",
       "      <td>3.000288</td>\n",
       "    </tr>\n",
       "    <tr>\n",
       "      <th>min</th>\n",
       "      <td>1.000000</td>\n",
       "      <td>104.290000</td>\n",
       "      <td>13.320000</td>\n",
       "      <td>5.000000</td>\n",
       "    </tr>\n",
       "    <tr>\n",
       "      <th>25%</th>\n",
       "      <td>312.250000</td>\n",
       "      <td>112.210000</td>\n",
       "      <td>16.050000</td>\n",
       "      <td>7.000000</td>\n",
       "    </tr>\n",
       "    <tr>\n",
       "      <th>50%</th>\n",
       "      <td>623.500000</td>\n",
       "      <td>123.840000</td>\n",
       "      <td>19.620000</td>\n",
       "      <td>9.000000</td>\n",
       "    </tr>\n",
       "    <tr>\n",
       "      <th>75%</th>\n",
       "      <td>934.750000</td>\n",
       "      <td>131.092500</td>\n",
       "      <td>21.317500</td>\n",
       "      <td>13.000000</td>\n",
       "    </tr>\n",
       "    <tr>\n",
       "      <th>max</th>\n",
       "      <td>1246.000000</td>\n",
       "      <td>142.290000</td>\n",
       "      <td>26.200000</td>\n",
       "      <td>15.000000</td>\n",
       "    </tr>\n",
       "  </tbody>\n",
       "</table>\n",
       "</div>"
      ]
     },
     "execution_count": 30,
     "metadata": {},
     "output_type": "execute_result"
    }
   ],
   "execution_count": 30
  },
  {
   "metadata": {
    "ExecuteTime": {
     "end_time": "2024-04-21T22:58:12.516915Z",
     "start_time": "2024-04-21T22:58:10.549725Z"
    }
   },
   "cell_type": "code",
   "source": [
    "# box plot 'spend', 'first_month', 'items_in_first_month'\n",
    "data.boxplot(column=['spend', 'first_month', 'items_in_first_month'])"
   ],
   "id": "9b37cd432d5c1be",
   "outputs": [
    {
     "data": {
      "text/plain": [
       "<Axes: >"
      ]
     },
     "execution_count": 32,
     "metadata": {},
     "output_type": "execute_result"
    },
    {
     "data": {
      "text/plain": [
       "<Figure size 640x480 with 1 Axes>"
      ],
      "image/png": "[encoded data removed]"
     },
     "metadata": {},
     "output_type": "display_data"
    }
   ],
   "execution_count": 32
  }
 ],
 "metadata": {
  "kernelspec": {
   "display_name": "Python 3",
   "language": "python",
   "name": "python3"
  },
  "language_info": {
   "codemirror_mode": {
    "name": "ipython",
    "version": 2
   },
   "file_extension": ".py",
   "mimetype": "text/x-python",
   "name": "python",
   "nbconvert_exporter": "python",
   "pygments_lexer": "ipython2",
   "version": "2.7.6"
  }
 },
 "nbformat": 4,
 "nbformat_minor": 5
}
