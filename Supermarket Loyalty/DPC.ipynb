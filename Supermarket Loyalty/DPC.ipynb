{
 "cells": [
  {
   "cell_type": "code",
   "id": "initial_id",
   "metadata": {
    "collapsed": true,
    "ExecuteTime": {
     "end_time": "2024-04-21T22:55:40.527078Z",
     "start_time": "2024-04-21T22:55:40.519008Z"
    }
   },
   "source": [
    "import pandas as pd\n",
    "import numpy as np"
   ],
   "outputs": [],
   "execution_count": 3
  },
  {
   "metadata": {
    "ExecuteTime": {
     "end_time": "2024-04-21T22:55:40.577831Z",
     "start_time": "2024-04-21T22:55:40.545345Z"
    }
   },
   "cell_type": "code",
   "source": [
    "df = pd.read_csv('loyalty.csv')\n",
    "data = pd.DataFrame(df)"
   ],
   "id": "7353aa19b4b04607",
   "outputs": [],
   "execution_count": 4
  },
  {
   "metadata": {
    "ExecuteTime": {
     "end_time": "2024-04-21T22:55:40.614619Z",
     "start_time": "2024-04-21T22:55:40.584834Z"
    }
   },
   "cell_type": "code",
   "source": [
    "df = pd.read_csv('loyalty.csv')\n",
    "data = pd.DataFrame(df)"
   ],
   "id": "c1e843153d70ba17",
   "outputs": [],
   "execution_count": 5
  },
  {
   "metadata": {
    "ExecuteTime": {
     "end_time": "2024-04-21T22:55:40.636655Z",
     "start_time": "2024-04-21T22:55:40.623618Z"
    }
   },
   "cell_type": "code",
   "source": [
    "# Replace '.' with NaN\n",
    "data['first_month'] = data['first_month'].replace('.', np.nan)"
   ],
   "id": "c0f74f02b6139d71",
   "outputs": [],
   "execution_count": 6
  },
  {
   "metadata": {
    "ExecuteTime": {
     "end_time": "2024-04-21T22:55:40.671803Z",
     "start_time": "2024-04-21T22:55:40.645644Z"
    }
   },
   "cell_type": "code",
   "source": [
    "# covert first_month to float\n",
    "data['first_month'] = data['first_month'].astype(float)"
   ],
   "id": "d4727d8082f80c1f",
   "outputs": [],
   "execution_count": 7
  },
  {
   "metadata": {
    "ExecuteTime": {
     "end_time": "2024-04-21T22:55:40.742368Z",
     "start_time": "2024-04-21T22:55:40.677806Z"
    }
   },
   "cell_type": "code",
   "source": [
    "# Forward fill null values throughout the entire DataFrame\n",
    "data = data.ffill()\n",
    "\n",
    "# Backward fill null values throughout the entire DataFrame\n",
    "data = data.bfill()"
   ],
   "id": "ffa6b4c9136b20eb",
   "outputs": [],
   "execution_count": 8
  },
  {
   "metadata": {
    "ExecuteTime": {
     "end_time": "2024-04-21T22:58:36.164732Z",
     "start_time": "2024-04-21T22:58:36.134515Z"
    }
   },
   "cell_type": "code",
   "source": [
    "# save to csv\n",
    "data.to_csv('loyalty_clean.csv')"
   ],
   "id": "1d9a46d17ec89941",
   "outputs": [],
   "execution_count": 9
  }
 ],
 "metadata": {
  "kernelspec": {
   "display_name": "Python 3",
   "language": "python",
   "name": "python3"
  },
  "language_info": {
   "codemirror_mode": {
    "name": "ipython",
    "version": 2
   },
   "file_extension": ".py",
   "mimetype": "text/x-python",
   "name": "python",
   "nbconvert_exporter": "python",
   "pygments_lexer": "ipython2",
   "version": "2.7.6"
  }
 },
 "nbformat": 4,
 "nbformat_minor": 5
}
