{
 "cells": [
  {
   "cell_type": "code",
   "id": "initial_id",
   "metadata": {
    "collapsed": true,
    "ExecuteTime": {
     "end_time": "2024-04-22T22:14:45.438123Z",
     "start_time": "2024-04-22T22:14:44.293109Z"
    }
   },
   "source": [
    "import pandas as pd\n",
    "import numpy as np"
   ],
   "outputs": [],
   "execution_count": 1
  },
  {
   "metadata": {
    "ExecuteTime": {
     "end_time": "2024-04-22T22:14:45.467010Z",
     "start_time": "2024-04-22T22:14:45.443200Z"
    }
   },
   "cell_type": "code",
   "source": [
    "df = pd.read_csv('loyalty.csv')\n",
    "data = pd.DataFrame(df)"
   ],
   "id": "7353aa19b4b04607",
   "outputs": [],
   "execution_count": 2
  },
  {
   "metadata": {
    "ExecuteTime": {
     "end_time": "2024-04-22T22:14:45.482400Z",
     "start_time": "2024-04-22T22:14:45.469024Z"
    }
   },
   "cell_type": "code",
   "source": [
    "# Convert 'promotion' column to lowercase\n",
    "data['promotion'] = data['promotion'].str.lower()\n",
    "\n",
    "# Map 'yes' and 'no' to 'Yes' and 'No' respectively\n",
    "data['promotion'] = data['promotion'].map({'yes': 'Yes', 'no': 'No'})\n",
    "\n",
    "# Display unique values after cleaning\n",
    "print(\"Unique values in 'promotion' column after cleaning:\")\n",
    "print(data['promotion'].unique())"
   ],
   "id": "92a2836ddb0c800b",
   "outputs": [
    {
     "name": "stdout",
     "output_type": "stream",
     "text": [
      "Unique values in 'promotion' column after cleaning:\n",
      "['No' 'Yes']\n"
     ]
    }
   ],
   "execution_count": 3
  },
  {
   "metadata": {
    "ExecuteTime": {
     "end_time": "2024-04-22T22:14:45.495262Z",
     "start_time": "2024-04-22T22:14:45.485403Z"
    }
   },
   "cell_type": "code",
   "source": [
    "# Replace '.' with NaN\n",
    "data['first_month'] = data['first_month'].replace('.', np.nan)"
   ],
   "id": "c0f74f02b6139d71",
   "outputs": [],
   "execution_count": 4
  },
  {
   "metadata": {
    "ExecuteTime": {
     "end_time": "2024-04-22T22:14:45.514166Z",
     "start_time": "2024-04-22T22:14:45.501265Z"
    }
   },
   "cell_type": "code",
   "source": [
    "# covert first_month to float\n",
    "data['first_month'] = data['first_month'].astype(float)"
   ],
   "id": "d4727d8082f80c1f",
   "outputs": [],
   "execution_count": 5
  },
  {
   "metadata": {
    "ExecuteTime": {
     "end_time": "2024-04-22T22:14:45.529517Z",
     "start_time": "2024-04-22T22:14:45.518242Z"
    }
   },
   "cell_type": "code",
   "source": [
    "# Forward fill null values throughout the entire DataFrame\n",
    "data = data.ffill()\n",
    "\n",
    "# Backward fill null values throughout the entire DataFrame\n",
    "data = data.bfill()"
   ],
   "id": "ffa6b4c9136b20eb",
   "outputs": [],
   "execution_count": 6
  },
  {
   "metadata": {
    "ExecuteTime": {
     "end_time": "2024-04-22T22:14:45.562229Z",
     "start_time": "2024-04-22T22:14:45.533586Z"
    }
   },
   "cell_type": "code",
   "source": [
    "# save to csv\n",
    "data.to_csv('loyalty_clean.csv')"
   ],
   "id": "1d9a46d17ec89941",
   "outputs": [],
   "execution_count": 7
  }
 ],
 "metadata": {
  "kernelspec": {
   "display_name": "Python 3",
   "language": "python",
   "name": "python3"
  },
  "language_info": {
   "codemirror_mode": {
    "name": "ipython",
    "version": 2
   },
   "file_extension": ".py",
   "mimetype": "text/x-python",
   "name": "python",
   "nbconvert_exporter": "python",
   "pygments_lexer": "ipython2",
   "version": "2.7.6"
  }
 },
 "nbformat": 4,
 "nbformat_minor": 5
}
