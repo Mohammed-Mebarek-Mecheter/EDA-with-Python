{
 "cells": [
  {
   "cell_type": "code",
   "id": "initial_id",
   "metadata": {
    "collapsed": true,
    "ExecuteTime": {
     "end_time": "2024-04-23T22:14:09.420235Z",
     "start_time": "2024-04-23T22:14:09.368613Z"
    }
   },
   "source": [
    "import pandas as pd\n",
    "import matplotlib.pyplot as plt\n",
    "import seaborn as sns\n",
    "%matplotlib inline"
   ],
   "outputs": [],
   "execution_count": 1
  },
  {
   "metadata": {
    "ExecuteTime": {
     "end_time": "2024-04-23T22:14:09.476455Z",
     "start_time": "2024-04-23T22:14:09.423237Z"
    }
   },
   "cell_type": "code",
   "source": "df = pd.read_csv('loyalty_clean.csv')",
   "id": "e7c7ac2d111afabb",
   "outputs": [],
   "execution_count": 2
  },
  {
   "metadata": {},
   "cell_type": "markdown",
   "source": "### Define the retention period  ",
   "id": "644c93f98e2305fb"
  },
  {
   "metadata": {
    "ExecuteTime": {
     "end_time": "2024-04-23T22:14:09.616295Z",
     "start_time": "2024-04-23T22:14:09.485455Z"
    }
   },
   "cell_type": "code",
   "source": [
    "# Define the retention period\n",
    "retention_period = 12  # 12 months\n",
    "\n",
    "# Convert 'joining_month' to datetime format\n",
    "df['joining_month'] = pd.to_datetime(df['joining_month'], format='%b')\n",
    "\n",
    "# Calculate the date when each customer joined the loyalty program\n",
    "df['joining_date'] = df['joining_month'] + pd.offsets.MonthBegin()\n",
    "\n",
    "# Calculate the maximum date in the dataset\n",
    "max_date = df['joining_date'].max()\n",
    "\n",
    "# Define the end date of the retention period\n",
    "end_date = max_date + pd.offsets.MonthEnd(retention_period)\n",
    "\n",
    "# Filter customers who joined at least retention_period months before the end date\n",
    "active_customers = df[df['joining_date'] <= (end_date - pd.offsets.MonthEnd(retention_period))]\n",
    "\n",
    "# Calculate the number of active customers at the beginning of the retention period\n",
    "initial_customers = active_customers.groupby('joining_date')['customer_id'].nunique().iloc[0]\n",
    "\n",
    "# Calculate the number of active customers at the end of the retention period\n",
    "final_customers = active_customers.groupby('joining_date')['customer_id'].nunique().iloc[-1]\n",
    "\n",
    "# Calculate retention rate\n",
    "retention_rate = (final_customers / initial_customers) * 100\n",
    "\n",
    "print(f\"Initial customers: {initial_customers}\")\n",
    "print(f\"Final customers: {final_customers}\")\n",
    "print(f\"Retention Rate: {retention_rate:.2f}%\")"
   ],
   "id": "6a746f83e459b7e7",
   "outputs": [
    {
     "name": "stdout",
     "output_type": "stream",
     "text": [
      "Initial customers: 163\n",
      "Final customers: 87\n",
      "Retention Rate: 53.37%\n"
     ]
    }
   ],
   "execution_count": 3
  },
  {
   "metadata": {
    "ExecuteTime": {
     "end_time": "2024-04-23T22:18:16.770031Z",
     "start_time": "2024-04-23T22:18:16.754213Z"
    }
   },
   "cell_type": "code",
   "source": [
    "# Define the start date of the first year of enrollment for each customer\n",
    "start_date = max_date - pd.offsets.DateOffset(months=3)\n",
    "\n",
    "# Filter customers who joined at least one year ago and are still active\n",
    "active_customers_three_months = df[(df['joining_date'] <= start_date) & (df['joining_date'] >= (start_date - pd.offsets.DateOffset(months=3)))]\n",
    "\n",
    "# Count the number of active customers after their first year of enrollment\n",
    "num_active_customers_three_months = active_customers_three_months['customer_id'].nunique()\n",
    "\n",
    "print(f\"Number of active customers after their first 3 months of enrollment: {num_active_customers_first_year}\")"
   ],
   "id": "f6e70eeb789bc635",
   "outputs": [
    {
     "name": "stdout",
     "output_type": "stream",
     "text": [
      "Number of active customers after their first 3 months of enrollment: 397\n"
     ]
    }
   ],
   "execution_count": 7
  },
  {
   "metadata": {
    "ExecuteTime": {
     "end_time": "2024-04-23T22:19:19.763685Z",
     "start_time": "2024-04-23T22:19:19.734234Z"
    }
   },
   "cell_type": "code",
   "source": [
    "# Calculate the number of customers who joined with and without promotions\n",
    "promotional_customers = df[df['promotion'] == 'Yes']\n",
    "non_promotional_customers = df[df['promotion'] == 'No']\n",
    "\n",
    "# Calculate the retention rate for customers who joined with promotions\n",
    "initial_promotional_customers = promotional_customers['customer_id'].nunique()\n",
    "final_promotional_customers = promotional_customers[promotional_customers['joining_date'] <= (end_date - pd.offsets.DateOffset(years=1))]['customer_id'].nunique()\n",
    "retention_rate_promotional = (final_promotional_customers / initial_promotional_customers) * 100\n",
    "\n",
    "# Calculate the retention rate for customers who joined without promotions\n",
    "initial_non_promotional_customers = non_promotional_customers['customer_id'].nunique()\n",
    "final_non_promotional_customers = non_promotional_customers[non_promotional_customers['joining_date'] <= (end_date - pd.offsets.DateOffset(years=1))]['customer_id'].nunique()\n",
    "retention_rate_non_promotional = (final_non_promotional_customers / initial_non_promotional_customers) * 100\n",
    "\n",
    "print(f\"Retention Rate for customers who joined with promotions: {retention_rate_promotional:.2f}%\")\n",
    "print(f\"Retention Rate for customers who joined without promotions: {retention_rate_non_promotional:.2f}%\")"
   ],
   "id": "3dfbe5b364bb0c0d",
   "outputs": [
    {
     "name": "stdout",
     "output_type": "stream",
     "text": [
      "Retention Rate for customers who joined with promotions: 95.42%\n",
      "Retention Rate for customers who joined without promotions: 96.38%\n"
     ]
    }
   ],
   "execution_count": 8
  },
  {
   "metadata": {
    "ExecuteTime": {
     "end_time": "2024-04-23T22:22:50.809059Z",
     "start_time": "2024-04-23T22:22:50.771181Z"
    }
   },
   "cell_type": "code",
   "source": [
    "# Count the number of customers who participated in the loyalty program as part of a promotion\n",
    "promotional_customers_count = df[df['promotion'] == 'Yes']['customer_id'].nunique()\n",
    "\n",
    "# Count the number of customers who did not join as part of a promotion\n",
    "non_promotional_customers_count = df[df['promotion'] == 'No']['customer_id'].nunique()\n",
    "\n",
    "print(f\"Number of customers who joined as part of a promotion: {promotional_customers_count}\")\n",
    "print(f\"Number of customers who did not join as part of a promotion: {non_promotional_customers_count}\")"
   ],
   "id": "b3243ab4d2ebfc3e",
   "outputs": [
    {
     "name": "stdout",
     "output_type": "stream",
     "text": [
      "Number of customers who joined as part of a promotion: 611\n",
      "Number of customers who did not join as part of a promotion: 635\n"
     ]
    }
   ],
   "execution_count": 10
  },
  {
   "metadata": {
    "ExecuteTime": {
     "end_time": "2024-04-23T22:25:08.309123Z",
     "start_time": "2024-04-23T22:25:06.787360Z"
    }
   },
   "cell_type": "code",
   "source": [
    "# Calculate the average number of items purchased in the first month\n",
    "avg_items_first_month = df['items_in_first_month'].mean()\n",
    "\n",
    "print(f\"Average number of items purchased in the first month: {avg_items_first_month:.2f}\")\n",
    "\n",
    "# Visualize the distribution of the number of items purchased in the first month\n",
    "plt.figure(figsize=(10, 6))\n",
    "sns.histplot(df['items_in_first_month'], bins=20, kde=True, color='skyblue')\n",
    "plt.title('Distribution of Number of Items Purchased in First Month')\n",
    "plt.xlabel('Number of Items Purchased')\n",
    "plt.ylabel('Frequency')\n",
    "plt.show()\n",
    "\n",
    "# Calculate correlation coefficient between number of items purchased in the first month and total spending\n",
    "correlation_coefficient = df['items_in_first_month'].corr(df['spend'])\n",
    "\n",
    "print(f\"Correlation Coefficient between number of items purchased in the first month and total spending: {correlation_coefficient:.2f}\")"
   ],
   "id": "323e724cb24d908d",
   "outputs": [
    {
     "name": "stdout",
     "output_type": "stream",
     "text": [
      "Average number of items purchased in the first month: 9.42\n"
     ]
    },
    {
     "name": "stderr",
     "output_type": "stream",
     "text": [
      "C:\\Users\\Mebarek\\anaconda3\\Lib\\site-packages\\seaborn\\_oldcore.py:1119: FutureWarning: use_inf_as_na option is deprecated and will be removed in a future version. Convert inf values to NaN before operating instead.\n",
      "  with pd.option_context('mode.use_inf_as_na', True):\n"
     ]
    },
    {
     "data": {
      "text/plain": [
       "<Figure size 1000x600 with 1 Axes>"
      ],
      "image/png": "[encoded data removed]"
     },
     "metadata": {},
     "output_type": "display_data"
    },
    {
     "name": "stdout",
     "output_type": "stream",
     "text": [
      "Correlation Coefficient between number of items purchased in the first month and total spending: -0.09\n"
     ]
    }
   ],
   "execution_count": 11
  },
  {
   "metadata": {},
   "cell_type": "markdown",
   "source": [
    "# Loyalty Program Engagement Analysis Report\n",
    "\n",
    "## Overview\n",
    "\n",
    "In this analysis, we examined the engagement of customers in the Supermarket Loyalty program. Our objective was to understand customer participation, retention rates, and factors influencing engagement within the program.\n",
    "\n",
    "## Analysis Steps\n",
    "\n",
    "1. **Promotional Participation Analysis**:\n",
    "   - Identified the number of customers who participated in the loyalty program as part of a promotion.\n",
    "   - Found that 611 customers joined as part of a promotion, while 635 customers did not join with a promotion.\n",
    "\n",
    "2. **Retention Rate Analysis**:\n",
    "   - Calculated the retention rate of customers after their first 3 months of enrollment.\n",
    "   - Discovered that 397 customers remained active in the loyalty program after their first 3 months, indicating a retention rate of approximately 53.37%.\n",
    "\n",
    "3. **Comparison of Promotional and Non-Promotional Engagement**:\n",
    "   - Analyzed the engagement metrics (e.g., spending, number of items purchased) between customers who joined with promotions and those who did not.\n",
    "   - Found a slightly higher retention rate for customers who did not join as part of a promotion compared to those who did.\n",
    "\n",
    "4. **First-Month Engagement Analysis**:\n",
    "   - Examined trends and patterns in the number of items purchased by customers in their first month.\n",
    "   - Calculated the correlation coefficient between the number of items purchased in the first month and total spending to understand its impact on overall engagement.\n",
    "\n",
    "## Conclusion\n",
    "\n",
    "The analysis provides valuable insights into the engagement of customers within the Supermarket Loyalty program. By understanding participation rates, retention rates, and factors influencing engagement, the supermarket can optimize its loyalty program to enhance customer satisfaction, retention, and overall profitability."
   ],
   "id": "1ef961f4506e9057"
  }
 ],
 "metadata": {
  "kernelspec": {
   "display_name": "Python 3",
   "language": "python",
   "name": "python3"
  },
  "language_info": {
   "codemirror_mode": {
    "name": "ipython",
    "version": 2
   },
   "file_extension": ".py",
   "mimetype": "text/x-python",
   "name": "python",
   "nbconvert_exporter": "python",
   "pygments_lexer": "ipython2",
   "version": "2.7.6"
  }
 },
 "nbformat": 4,
 "nbformat_minor": 5
}
