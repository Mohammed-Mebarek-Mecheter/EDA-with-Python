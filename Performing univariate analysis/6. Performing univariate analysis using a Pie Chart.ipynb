{
 "cells": [
  {
   "cell_type": "markdown",
   "id": "2dbc33b1",
   "metadata": {},
   "source": [
    "#### Import relevant libraries"
   ]
  },
  {
   "cell_type": "code",
   "execution_count": 1,
   "id": "0ae67507",
   "metadata": {
    "ExecuteTime": {
     "end_time": "2023-08-24T21:47:38.609202900Z",
     "start_time": "2023-08-24T21:47:38.601691900Z"
    }
   },
   "outputs": [],
   "source": [
    "import pandas as pd\n",
    "import matplotlib.pyplot as plt\n",
    "import seaborn as sns"
   ]
  },
  {
   "cell_type": "markdown",
   "id": "a2050fe1",
   "metadata": {},
   "source": [
    "#### Load dataset"
   ]
  },
  {
   "cell_type": "code",
   "execution_count": 2,
   "id": "3a02fac1",
   "metadata": {
    "ExecuteTime": {
     "end_time": "2023-08-24T21:47:38.636079900Z",
     "start_time": "2023-08-24T21:47:38.609202900Z"
    }
   },
   "outputs": [],
   "source": [
    "penguins_data = pd.read_csv(\"data/penguins_size.csv\")"
   ]
  },
  {
   "cell_type": "markdown",
   "id": "e81aa501",
   "metadata": {},
   "source": [
    "#### Subset for relevant columns"
   ]
  },
  {
   "cell_type": "code",
   "execution_count": 3,
   "id": "9279d462",
   "metadata": {
    "ExecuteTime": {
     "end_time": "2023-08-24T21:47:38.662748300Z",
     "start_time": "2023-08-24T21:47:38.636079900Z"
    }
   },
   "outputs": [],
   "source": [
    "penguins_data = penguins_data[['species','culmen_length_mm']]"
   ]
  },
  {
   "cell_type": "markdown",
   "id": "128c9ecd",
   "metadata": {},
   "source": [
    "#### Inspect first 5 rows and data types of the dataset"
   ]
  },
  {
   "cell_type": "code",
   "execution_count": 4,
   "id": "1f556097",
   "metadata": {
    "scrolled": true,
    "ExecuteTime": {
     "end_time": "2023-08-24T21:47:38.693236400Z",
     "start_time": "2023-08-24T21:47:38.647118200Z"
    }
   },
   "outputs": [
    {
     "data": {
      "text/plain": "  species  culmen_length_mm\n0  Adelie              39.1\n1  Adelie              39.5\n2  Adelie              40.3\n3  Adelie               NaN\n4  Adelie              36.7",
      "text/html": "<div>\n<style scoped>\n    .dataframe tbody tr th:only-of-type {\n        vertical-align: middle;\n    }\n\n    .dataframe tbody tr th {\n        vertical-align: top;\n    }\n\n    .dataframe thead th {\n        text-align: right;\n    }\n</style>\n<table border=\"1\" class=\"dataframe\">\n  <thead>\n    <tr style=\"text-align: right;\">\n      <th></th>\n      <th>species</th>\n      <th>culmen_length_mm</th>\n    </tr>\n  </thead>\n  <tbody>\n    <tr>\n      <th>0</th>\n      <td>Adelie</td>\n      <td>39.1</td>\n    </tr>\n    <tr>\n      <th>1</th>\n      <td>Adelie</td>\n      <td>39.5</td>\n    </tr>\n    <tr>\n      <th>2</th>\n      <td>Adelie</td>\n      <td>40.3</td>\n    </tr>\n    <tr>\n      <th>3</th>\n      <td>Adelie</td>\n      <td>NaN</td>\n    </tr>\n    <tr>\n      <th>4</th>\n      <td>Adelie</td>\n      <td>36.7</td>\n    </tr>\n  </tbody>\n</table>\n</div>"
     },
     "execution_count": 4,
     "metadata": {},
     "output_type": "execute_result"
    }
   ],
   "source": [
    "penguins_data.head()"
   ]
  },
  {
   "cell_type": "code",
   "execution_count": 5,
   "id": "bdf17c4b",
   "metadata": {
    "ExecuteTime": {
     "end_time": "2023-08-24T21:47:38.765478400Z",
     "start_time": "2023-08-24T21:47:38.693236400Z"
    }
   },
   "outputs": [
    {
     "data": {
      "text/plain": "(344, 2)"
     },
     "execution_count": 5,
     "metadata": {},
     "output_type": "execute_result"
    }
   ],
   "source": [
    "penguins_data.shape"
   ]
  },
  {
   "cell_type": "code",
   "execution_count": 6,
   "id": "b3601b62",
   "metadata": {
    "ExecuteTime": {
     "end_time": "2023-08-24T21:47:38.828671700Z",
     "start_time": "2023-08-24T21:47:38.710066900Z"
    }
   },
   "outputs": [
    {
     "data": {
      "text/plain": "species              object\nculmen_length_mm    float64\ndtype: object"
     },
     "execution_count": 6,
     "metadata": {},
     "output_type": "execute_result"
    }
   ],
   "source": [
    "penguins_data.dtypes"
   ]
  },
  {
   "cell_type": "markdown",
   "id": "82c0e475",
   "metadata": {},
   "source": [
    "#### Group our data to get count of species"
   ]
  },
  {
   "cell_type": "code",
   "execution_count": 7,
   "id": "9bc334df",
   "metadata": {
    "ExecuteTime": {
     "end_time": "2023-08-24T21:47:38.875539Z",
     "start_time": "2023-08-24T21:47:38.734876200Z"
    }
   },
   "outputs": [
    {
     "data": {
      "text/plain": "           culmen_length_mm\nspecies                    \nAdelie                  151\nChinstrap                68\nGentoo                  123",
      "text/html": "<div>\n<style scoped>\n    .dataframe tbody tr th:only-of-type {\n        vertical-align: middle;\n    }\n\n    .dataframe tbody tr th {\n        vertical-align: top;\n    }\n\n    .dataframe thead th {\n        text-align: right;\n    }\n</style>\n<table border=\"1\" class=\"dataframe\">\n  <thead>\n    <tr style=\"text-align: right;\">\n      <th></th>\n      <th>culmen_length_mm</th>\n    </tr>\n    <tr>\n      <th>species</th>\n      <th></th>\n    </tr>\n  </thead>\n  <tbody>\n    <tr>\n      <th>Adelie</th>\n      <td>151</td>\n    </tr>\n    <tr>\n      <th>Chinstrap</th>\n      <td>68</td>\n    </tr>\n    <tr>\n      <th>Gentoo</th>\n      <td>123</td>\n    </tr>\n  </tbody>\n</table>\n</div>"
     },
     "execution_count": 7,
     "metadata": {},
     "output_type": "execute_result"
    }
   ],
   "source": [
    "penguins_group = penguins_data.groupby('species').count()\n",
    "penguins_group"
   ]
  },
  {
   "cell_type": "markdown",
   "id": "a22e41e6",
   "metadata": {},
   "source": [
    "#### Reset the index to ensure the index isn't the species column"
   ]
  },
  {
   "cell_type": "code",
   "execution_count": 8,
   "id": "3c0b9f09",
   "metadata": {
    "ExecuteTime": {
     "end_time": "2023-08-24T21:47:38.922410500Z",
     "start_time": "2023-08-24T21:47:38.765478400Z"
    }
   },
   "outputs": [
    {
     "data": {
      "text/plain": "     species  culmen_length_mm\n0     Adelie               151\n1  Chinstrap                68\n2     Gentoo               123",
      "text/html": "<div>\n<style scoped>\n    .dataframe tbody tr th:only-of-type {\n        vertical-align: middle;\n    }\n\n    .dataframe tbody tr th {\n        vertical-align: top;\n    }\n\n    .dataframe thead th {\n        text-align: right;\n    }\n</style>\n<table border=\"1\" class=\"dataframe\">\n  <thead>\n    <tr style=\"text-align: right;\">\n      <th></th>\n      <th>species</th>\n      <th>culmen_length_mm</th>\n    </tr>\n  </thead>\n  <tbody>\n    <tr>\n      <th>0</th>\n      <td>Adelie</td>\n      <td>151</td>\n    </tr>\n    <tr>\n      <th>1</th>\n      <td>Chinstrap</td>\n      <td>68</td>\n    </tr>\n    <tr>\n      <th>2</th>\n      <td>Gentoo</td>\n      <td>123</td>\n    </tr>\n  </tbody>\n</table>\n</div>"
     },
     "execution_count": 8,
     "metadata": {},
     "output_type": "execute_result"
    }
   ],
   "source": [
    "penguins_group= penguins_group.reset_index()\n",
    "penguins_group"
   ]
  },
  {
   "cell_type": "markdown",
   "id": "09bbdf22",
   "metadata": {},
   "source": [
    "#### Create a pie chart in matplotlib"
   ]
  },
  {
   "cell_type": "code",
   "execution_count": 10,
   "id": "5c5fc6cb",
   "metadata": {
    "ExecuteTime": {
     "end_time": "2023-08-24T21:47:39.540710800Z",
     "start_time": "2023-08-24T21:47:39.162472800Z"
    }
   },
   "outputs": [
    {
     "data": {
      "text/plain": "<Figure size 640x480 with 1 Axes>",
      "image/png": "[encoded data removed]"
     },
     "metadata": {},
     "output_type": "display_data"
    }
   ],
   "source": [
    "cols = ['g', 'b', 'r']\n",
    "\n",
    "plt.pie(penguins_group[\"culmen_length_mm\"], labels = penguins_group['species'],colors = cols)\n",
    "\n",
    "plt.title('Univariate Analysis of Species', fontsize=15)\n",
    "plt.show()"
   ]
  }
 ],
 "metadata": {
  "kernelspec": {
   "display_name": "Python 3",
   "language": "python",
   "name": "python3"
  },
  "language_info": {
   "codemirror_mode": {
    "name": "ipython",
    "version": 3
   },
   "file_extension": ".py",
   "mimetype": "text/x-python",
   "name": "python",
   "nbconvert_exporter": "python",
   "pygments_lexer": "ipython3",
   "version": "3.7.1"
  }
 },
 "nbformat": 4,
 "nbformat_minor": 5
}
