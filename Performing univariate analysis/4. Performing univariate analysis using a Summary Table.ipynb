{
 "cells": [
  {
   "cell_type": "markdown",
   "id": "2dbc33b1",
   "metadata": {},
   "source": [
    "#### Import relevant libraries"
   ]
  },
  {
   "cell_type": "code",
   "execution_count": 1,
   "id": "0ae67507",
   "metadata": {
    "ExecuteTime": {
     "end_time": "2023-08-24T21:46:46.858790Z",
     "start_time": "2023-08-24T21:46:45.640012100Z"
    }
   },
   "outputs": [],
   "source": [
    "import pandas as pd"
   ]
  },
  {
   "cell_type": "markdown",
   "id": "a2050fe1",
   "metadata": {},
   "source": [
    "#### Load dataset"
   ]
  },
  {
   "cell_type": "code",
   "execution_count": 2,
   "id": "3a02fac1",
   "metadata": {
    "ExecuteTime": {
     "end_time": "2023-08-24T21:46:46.886420500Z",
     "start_time": "2023-08-24T21:46:46.858790Z"
    }
   },
   "outputs": [],
   "source": [
    "houseprices_data = pd.read_csv(\"Data/HousingPricesData.csv\")"
   ]
  },
  {
   "cell_type": "markdown",
   "id": "e81aa501",
   "metadata": {},
   "source": [
    "#### Subset for relevant columns"
   ]
  },
  {
   "cell_type": "code",
   "execution_count": 3,
   "id": "9279d462",
   "metadata": {
    "ExecuteTime": {
     "end_time": "2023-08-24T21:46:46.929588100Z",
     "start_time": "2023-08-24T21:46:46.886420500Z"
    }
   },
   "outputs": [],
   "source": [
    "houseprices_data = houseprices_data[['Zip','Price']]"
   ]
  },
  {
   "cell_type": "markdown",
   "id": "128c9ecd",
   "metadata": {},
   "source": [
    "#### Inspect first 5 rows and data types of the dataset"
   ]
  },
  {
   "cell_type": "code",
   "execution_count": 4,
   "id": "1f556097",
   "metadata": {
    "scrolled": true,
    "ExecuteTime": {
     "end_time": "2023-08-24T21:46:46.983712100Z",
     "start_time": "2023-08-24T21:46:46.898331700Z"
    }
   },
   "outputs": [
    {
     "data": {
      "text/plain": "       Zip     Price\n0  1091 CR  685000.0\n1  1059 EL  475000.0\n2  1097 SM  850000.0\n3  1060 TH  580000.0\n4  1036 KN  720000.0",
      "text/html": "<div>\n<style scoped>\n    .dataframe tbody tr th:only-of-type {\n        vertical-align: middle;\n    }\n\n    .dataframe tbody tr th {\n        vertical-align: top;\n    }\n\n    .dataframe thead th {\n        text-align: right;\n    }\n</style>\n<table border=\"1\" class=\"dataframe\">\n  <thead>\n    <tr style=\"text-align: right;\">\n      <th></th>\n      <th>Zip</th>\n      <th>Price</th>\n    </tr>\n  </thead>\n  <tbody>\n    <tr>\n      <th>0</th>\n      <td>1091 CR</td>\n      <td>685000.0</td>\n    </tr>\n    <tr>\n      <th>1</th>\n      <td>1059 EL</td>\n      <td>475000.0</td>\n    </tr>\n    <tr>\n      <th>2</th>\n      <td>1097 SM</td>\n      <td>850000.0</td>\n    </tr>\n    <tr>\n      <th>3</th>\n      <td>1060 TH</td>\n      <td>580000.0</td>\n    </tr>\n    <tr>\n      <th>4</th>\n      <td>1036 KN</td>\n      <td>720000.0</td>\n    </tr>\n  </tbody>\n</table>\n</div>"
     },
     "execution_count": 4,
     "metadata": {},
     "output_type": "execute_result"
    }
   ],
   "source": [
    "houseprices_data.head()"
   ]
  },
  {
   "cell_type": "code",
   "execution_count": 5,
   "id": "bdf17c4b",
   "metadata": {
    "ExecuteTime": {
     "end_time": "2023-08-24T21:46:47.105184900Z",
     "start_time": "2023-08-24T21:46:46.999561800Z"
    }
   },
   "outputs": [
    {
     "data": {
      "text/plain": "(924, 2)"
     },
     "execution_count": 5,
     "metadata": {},
     "output_type": "execute_result"
    }
   ],
   "source": [
    "houseprices_data.shape"
   ]
  },
  {
   "cell_type": "code",
   "execution_count": 6,
   "id": "b3601b62",
   "metadata": {
    "ExecuteTime": {
     "end_time": "2023-08-24T21:46:47.158619700Z",
     "start_time": "2023-08-24T21:46:47.016606100Z"
    }
   },
   "outputs": [
    {
     "data": {
      "text/plain": "Zip       object\nPrice    float64\ndtype: object"
     },
     "execution_count": 6,
     "metadata": {},
     "output_type": "execute_result"
    }
   ],
   "source": [
    "houseprices_data.dtypes"
   ]
  },
  {
   "cell_type": "markdown",
   "id": "09bbdf22",
   "metadata": {},
   "source": [
    "#### Create a Summary Table using the describe method in Pandas"
   ]
  },
  {
   "cell_type": "code",
   "execution_count": 7,
   "id": "aa501b1d",
   "metadata": {
    "ExecuteTime": {
     "end_time": "2023-08-24T21:46:47.254331800Z",
     "start_time": "2023-08-24T21:46:47.058306500Z"
    }
   },
   "outputs": [
    {
     "data": {
      "text/plain": "              Price\ncount  9.200000e+02\nmean   6.220654e+05\nstd    5.389942e+05\nmin    1.750000e+05\n25%    3.500000e+05\n50%    4.670000e+05\n75%    7.000000e+05\nmax    5.950000e+06",
      "text/html": "<div>\n<style scoped>\n    .dataframe tbody tr th:only-of-type {\n        vertical-align: middle;\n    }\n\n    .dataframe tbody tr th {\n        vertical-align: top;\n    }\n\n    .dataframe thead th {\n        text-align: right;\n    }\n</style>\n<table border=\"1\" class=\"dataframe\">\n  <thead>\n    <tr style=\"text-align: right;\">\n      <th></th>\n      <th>Price</th>\n    </tr>\n  </thead>\n  <tbody>\n    <tr>\n      <th>count</th>\n      <td>9.200000e+02</td>\n    </tr>\n    <tr>\n      <th>mean</th>\n      <td>6.220654e+05</td>\n    </tr>\n    <tr>\n      <th>std</th>\n      <td>5.389942e+05</td>\n    </tr>\n    <tr>\n      <th>min</th>\n      <td>1.750000e+05</td>\n    </tr>\n    <tr>\n      <th>25%</th>\n      <td>3.500000e+05</td>\n    </tr>\n    <tr>\n      <th>50%</th>\n      <td>4.670000e+05</td>\n    </tr>\n    <tr>\n      <th>75%</th>\n      <td>7.000000e+05</td>\n    </tr>\n    <tr>\n      <th>max</th>\n      <td>5.950000e+06</td>\n    </tr>\n  </tbody>\n</table>\n</div>"
     },
     "execution_count": 7,
     "metadata": {},
     "output_type": "execute_result"
    }
   ],
   "source": [
    "houseprices_data.describe()"
   ]
  }
 ],
 "metadata": {
  "kernelspec": {
   "display_name": "Python 3",
   "language": "python",
   "name": "python3"
  },
  "language_info": {
   "codemirror_mode": {
    "name": "ipython",
    "version": 3
   },
   "file_extension": ".py",
   "mimetype": "text/x-python",
   "name": "python",
   "nbconvert_exporter": "python",
   "pygments_lexer": "ipython3",
   "version": "3.7.1"
  }
 },
 "nbformat": 4,
 "nbformat_minor": 5
}
